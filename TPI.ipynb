{
 "cells": [
  {
   "cell_type": "markdown",
   "metadata": {
    "id": "iR1mPJ0s-3kV"
   },
   "source": [
    "# Trabajo práctico integrador de CDD 2023\n",
    "\n",
    "### Curso: 5K3\n",
    "### Grupo: 04\n",
    "### Integrantes:\n",
    "- 78355\tAzulay, David\n",
    "- 87930\tBrocanelli, Valentina\n",
    "- 65155\tGalizio, Matias\n",
    "- 83723\tPerlo, Matias\n",
    "- 86852\tZuin, Lorenzo\n"
   ]
  },
  {
   "cell_type": "markdown",
   "metadata": {
    "id": "KlRthoSU-3kZ"
   },
   "source": [
    "# Objetivo del Notebook\n",
    "\n",
    "La idea principal es la de utilizarlo para sintetizar las etapas del proyecto de ciencia de datos, y ser un lugar unificado para facilitar hacer las tareas de cada etapa y repetir facilmente la ejecución del código y los resultados.\n",
    "\n",
    "Para trabajar, dargar los datos de [Kraggle](https://www.kaggle.com/datasets/mohamedbakhet/amazon-books-reviews?select=books_data.csv) con exactamente el mismo nombre y dejarlos en el mismo directorio que el Notebook."
   ]
  },
  {
   "cell_type": "markdown",
   "metadata": {
    "id": "fAwRqNrS-3ka"
   },
   "source": [
    "# Preguntar del backlog para resolver\n",
    "\n",
    "- Extender tabla de libros con las columnas ISBN y precio.\n",
    "- Hacer un análisis para decidir si para el trabajo nos es suficiente con los registros que cuentan con precio.\n",
    "- Unificar tablas.\n",
    "- Obtener la estadísticas de puntajes de reseñas de cada libro.\n",
    "- Desarrollar un modelo predictivo para predecir el puntaje de una reseña de acuerdo a, inicialmente, su autor, género y precio.\n",
    "- Desarrollar un modelo predictivo para predecir la utilidad de una reseña de acuerdo a, inicialmente, la longitud de su descripción.\n",
    "- Realizar conclusiones de los modelos realizados.\n"
   ]
  },
  {
   "cell_type": "markdown",
   "metadata": {
    "id": "1lvrleGm-3kb"
   },
   "source": [
    "# 1. Lectura de los datos"
   ]
  },
  {
   "cell_type": "code",
   "execution_count": 1,
   "metadata": {
    "id": "78r6p9Xh-3kb",
    "tags": []
   },
   "outputs": [],
   "source": [
    "import pandas as pd\n",
    "import numpy as np\n",
    "from fuzzy_match import algorithims"
   ]
  },
  {
   "cell_type": "code",
   "execution_count": 2,
   "metadata": {
    "colab": {
     "base_uri": "https://localhost:8080/",
     "height": 373
    },
    "id": "zzjkZk_G-3kd",
    "outputId": "511d78da-532c-44fb-9b6f-328a592a9cff",
    "tags": []
   },
   "outputs": [
    {
     "data": {
      "text/html": [
       "<div>\n",
       "<style scoped>\n",
       "    .dataframe tbody tr th:only-of-type {\n",
       "        vertical-align: middle;\n",
       "    }\n",
       "\n",
       "    .dataframe tbody tr th {\n",
       "        vertical-align: top;\n",
       "    }\n",
       "\n",
       "    .dataframe thead th {\n",
       "        text-align: right;\n",
       "    }\n",
       "</style>\n",
       "<table border=\"1\" class=\"dataframe\">\n",
       "  <thead>\n",
       "    <tr style=\"text-align: right;\">\n",
       "      <th></th>\n",
       "      <th>Title</th>\n",
       "      <th>authors</th>\n",
       "      <th>image</th>\n",
       "      <th>previewLink</th>\n",
       "      <th>publisher</th>\n",
       "      <th>publishedDate</th>\n",
       "      <th>infoLink</th>\n",
       "      <th>categories</th>\n",
       "      <th>ratingsCount</th>\n",
       "    </tr>\n",
       "  </thead>\n",
       "  <tbody>\n",
       "    <tr>\n",
       "      <th>0</th>\n",
       "      <td>Its Only Art If Its Well Hung!</td>\n",
       "      <td>['Julie Strain']</td>\n",
       "      <td>http://books.google.com/books/content?id=DykPA...</td>\n",
       "      <td>http://books.google.nl/books?id=DykPAAAACAAJ&amp;d...</td>\n",
       "      <td>NaN</td>\n",
       "      <td>1996</td>\n",
       "      <td>http://books.google.nl/books?id=DykPAAAACAAJ&amp;d...</td>\n",
       "      <td>['Comics &amp; Graphic Novels']</td>\n",
       "      <td>NaN</td>\n",
       "    </tr>\n",
       "    <tr>\n",
       "      <th>1</th>\n",
       "      <td>Dr. Seuss: American Icon</td>\n",
       "      <td>['Philip Nel']</td>\n",
       "      <td>http://books.google.com/books/content?id=IjvHQ...</td>\n",
       "      <td>http://books.google.nl/books?id=IjvHQsCn_pgC&amp;p...</td>\n",
       "      <td>A&amp;C Black</td>\n",
       "      <td>2005-01-01</td>\n",
       "      <td>http://books.google.nl/books?id=IjvHQsCn_pgC&amp;d...</td>\n",
       "      <td>['Biography &amp; Autobiography']</td>\n",
       "      <td>NaN</td>\n",
       "    </tr>\n",
       "    <tr>\n",
       "      <th>2</th>\n",
       "      <td>Wonderful Worship in Smaller Churches</td>\n",
       "      <td>['David R. Ray']</td>\n",
       "      <td>http://books.google.com/books/content?id=2tsDA...</td>\n",
       "      <td>http://books.google.nl/books?id=2tsDAAAACAAJ&amp;d...</td>\n",
       "      <td>NaN</td>\n",
       "      <td>2000</td>\n",
       "      <td>http://books.google.nl/books?id=2tsDAAAACAAJ&amp;d...</td>\n",
       "      <td>['Religion']</td>\n",
       "      <td>NaN</td>\n",
       "    </tr>\n",
       "    <tr>\n",
       "      <th>3</th>\n",
       "      <td>Whispers of the Wicked Saints</td>\n",
       "      <td>['Veronica Haddon']</td>\n",
       "      <td>http://books.google.com/books/content?id=aRSIg...</td>\n",
       "      <td>http://books.google.nl/books?id=aRSIgJlq6JwC&amp;d...</td>\n",
       "      <td>iUniverse</td>\n",
       "      <td>2005-02</td>\n",
       "      <td>http://books.google.nl/books?id=aRSIgJlq6JwC&amp;d...</td>\n",
       "      <td>['Fiction']</td>\n",
       "      <td>NaN</td>\n",
       "    </tr>\n",
       "    <tr>\n",
       "      <th>4</th>\n",
       "      <td>Nation Dance: Religion, Identity and Cultural ...</td>\n",
       "      <td>['Edward Long']</td>\n",
       "      <td>NaN</td>\n",
       "      <td>http://books.google.nl/books?id=399SPgAACAAJ&amp;d...</td>\n",
       "      <td>NaN</td>\n",
       "      <td>2003-03-01</td>\n",
       "      <td>http://books.google.nl/books?id=399SPgAACAAJ&amp;d...</td>\n",
       "      <td>NaN</td>\n",
       "      <td>NaN</td>\n",
       "    </tr>\n",
       "    <tr>\n",
       "      <th>5</th>\n",
       "      <td>The Church of Christ: A Biblical Ecclesiology ...</td>\n",
       "      <td>['Everett Ferguson']</td>\n",
       "      <td>http://books.google.com/books/content?id=kVqRa...</td>\n",
       "      <td>http://books.google.nl/books?id=kVqRaiPlx88C&amp;p...</td>\n",
       "      <td>Wm. B. Eerdmans Publishing</td>\n",
       "      <td>1996</td>\n",
       "      <td>http://books.google.nl/books?id=kVqRaiPlx88C&amp;d...</td>\n",
       "      <td>['Religion']</td>\n",
       "      <td>5.0</td>\n",
       "    </tr>\n",
       "    <tr>\n",
       "      <th>6</th>\n",
       "      <td>The Overbury affair (Avon)</td>\n",
       "      <td>['Miriam Allen De Ford']</td>\n",
       "      <td>NaN</td>\n",
       "      <td>http://books.google.nl/books?id=mHLTngEACAAJ&amp;d...</td>\n",
       "      <td>NaN</td>\n",
       "      <td>1960</td>\n",
       "      <td>http://books.google.nl/books?id=mHLTngEACAAJ&amp;d...</td>\n",
       "      <td>NaN</td>\n",
       "      <td>NaN</td>\n",
       "    </tr>\n",
       "    <tr>\n",
       "      <th>7</th>\n",
       "      <td>A Walk in the Woods: a Play in Two Acts</td>\n",
       "      <td>['Lee Blessing']</td>\n",
       "      <td>NaN</td>\n",
       "      <td>http://books.google.nl/books?id=6HDOwAEACAAJ&amp;d...</td>\n",
       "      <td>NaN</td>\n",
       "      <td>1988</td>\n",
       "      <td>http://books.google.nl/books?id=6HDOwAEACAAJ&amp;d...</td>\n",
       "      <td>NaN</td>\n",
       "      <td>3.0</td>\n",
       "    </tr>\n",
       "    <tr>\n",
       "      <th>8</th>\n",
       "      <td>Saint Hyacinth of Poland</td>\n",
       "      <td>['Mary Fabyan Windeatt']</td>\n",
       "      <td>http://books.google.com/books/content?id=lmLqA...</td>\n",
       "      <td>http://books.google.nl/books?id=lmLqAAAACAAJ&amp;d...</td>\n",
       "      <td>Tan Books &amp; Pub</td>\n",
       "      <td>2009-01-01</td>\n",
       "      <td>http://books.google.nl/books?id=lmLqAAAACAAJ&amp;d...</td>\n",
       "      <td>['Biography &amp; Autobiography']</td>\n",
       "      <td>NaN</td>\n",
       "    </tr>\n",
       "    <tr>\n",
       "      <th>9</th>\n",
       "      <td>Rising Sons and Daughters: Life Among Japan's ...</td>\n",
       "      <td>['Steven Wardell']</td>\n",
       "      <td>NaN</td>\n",
       "      <td>http://books.google.nl/books?id=rbLZugEACAAJ&amp;d...</td>\n",
       "      <td>Plympton PressIntl</td>\n",
       "      <td>1995</td>\n",
       "      <td>http://books.google.nl/books?id=rbLZugEACAAJ&amp;d...</td>\n",
       "      <td>['Social Science']</td>\n",
       "      <td>NaN</td>\n",
       "    </tr>\n",
       "  </tbody>\n",
       "</table>\n",
       "</div>"
      ],
      "text/plain": [
       "                                               Title   \n",
       "0                     Its Only Art If Its Well Hung!  \\\n",
       "1                           Dr. Seuss: American Icon   \n",
       "2              Wonderful Worship in Smaller Churches   \n",
       "3                      Whispers of the Wicked Saints   \n",
       "4  Nation Dance: Religion, Identity and Cultural ...   \n",
       "5  The Church of Christ: A Biblical Ecclesiology ...   \n",
       "6                         The Overbury affair (Avon)   \n",
       "7            A Walk in the Woods: a Play in Two Acts   \n",
       "8                           Saint Hyacinth of Poland   \n",
       "9  Rising Sons and Daughters: Life Among Japan's ...   \n",
       "\n",
       "                    authors   \n",
       "0          ['Julie Strain']  \\\n",
       "1            ['Philip Nel']   \n",
       "2          ['David R. Ray']   \n",
       "3       ['Veronica Haddon']   \n",
       "4           ['Edward Long']   \n",
       "5      ['Everett Ferguson']   \n",
       "6  ['Miriam Allen De Ford']   \n",
       "7          ['Lee Blessing']   \n",
       "8  ['Mary Fabyan Windeatt']   \n",
       "9        ['Steven Wardell']   \n",
       "\n",
       "                                               image   \n",
       "0  http://books.google.com/books/content?id=DykPA...  \\\n",
       "1  http://books.google.com/books/content?id=IjvHQ...   \n",
       "2  http://books.google.com/books/content?id=2tsDA...   \n",
       "3  http://books.google.com/books/content?id=aRSIg...   \n",
       "4                                                NaN   \n",
       "5  http://books.google.com/books/content?id=kVqRa...   \n",
       "6                                                NaN   \n",
       "7                                                NaN   \n",
       "8  http://books.google.com/books/content?id=lmLqA...   \n",
       "9                                                NaN   \n",
       "\n",
       "                                         previewLink   \n",
       "0  http://books.google.nl/books?id=DykPAAAACAAJ&d...  \\\n",
       "1  http://books.google.nl/books?id=IjvHQsCn_pgC&p...   \n",
       "2  http://books.google.nl/books?id=2tsDAAAACAAJ&d...   \n",
       "3  http://books.google.nl/books?id=aRSIgJlq6JwC&d...   \n",
       "4  http://books.google.nl/books?id=399SPgAACAAJ&d...   \n",
       "5  http://books.google.nl/books?id=kVqRaiPlx88C&p...   \n",
       "6  http://books.google.nl/books?id=mHLTngEACAAJ&d...   \n",
       "7  http://books.google.nl/books?id=6HDOwAEACAAJ&d...   \n",
       "8  http://books.google.nl/books?id=lmLqAAAACAAJ&d...   \n",
       "9  http://books.google.nl/books?id=rbLZugEACAAJ&d...   \n",
       "\n",
       "                    publisher publishedDate   \n",
       "0                         NaN          1996  \\\n",
       "1                   A&C Black    2005-01-01   \n",
       "2                         NaN          2000   \n",
       "3                   iUniverse       2005-02   \n",
       "4                         NaN    2003-03-01   \n",
       "5  Wm. B. Eerdmans Publishing          1996   \n",
       "6                         NaN          1960   \n",
       "7                         NaN          1988   \n",
       "8             Tan Books & Pub    2009-01-01   \n",
       "9          Plympton PressIntl          1995   \n",
       "\n",
       "                                            infoLink   \n",
       "0  http://books.google.nl/books?id=DykPAAAACAAJ&d...  \\\n",
       "1  http://books.google.nl/books?id=IjvHQsCn_pgC&d...   \n",
       "2  http://books.google.nl/books?id=2tsDAAAACAAJ&d...   \n",
       "3  http://books.google.nl/books?id=aRSIgJlq6JwC&d...   \n",
       "4  http://books.google.nl/books?id=399SPgAACAAJ&d...   \n",
       "5  http://books.google.nl/books?id=kVqRaiPlx88C&d...   \n",
       "6  http://books.google.nl/books?id=mHLTngEACAAJ&d...   \n",
       "7  http://books.google.nl/books?id=6HDOwAEACAAJ&d...   \n",
       "8  http://books.google.nl/books?id=lmLqAAAACAAJ&d...   \n",
       "9  http://books.google.nl/books?id=rbLZugEACAAJ&d...   \n",
       "\n",
       "                      categories  ratingsCount  \n",
       "0    ['Comics & Graphic Novels']           NaN  \n",
       "1  ['Biography & Autobiography']           NaN  \n",
       "2                   ['Religion']           NaN  \n",
       "3                    ['Fiction']           NaN  \n",
       "4                            NaN           NaN  \n",
       "5                   ['Religion']           5.0  \n",
       "6                            NaN           NaN  \n",
       "7                            NaN           3.0  \n",
       "8  ['Biography & Autobiography']           NaN  \n",
       "9             ['Social Science']           NaN  "
      ]
     },
     "execution_count": 2,
     "metadata": {},
     "output_type": "execute_result"
    }
   ],
   "source": [
    "# carga de df_books\n",
    "columns_books = ['Title', 'authors', 'image', 'previewLink', 'publisher', 'publishedDate', 'infoLink',\n",
    "               'categories', 'ratingsCount']\n",
    "\n",
    "columns_reviews = ['Id', 'Title', 'Price', 'review/helpfulness', 'review/score', 'review/text']\n",
    "\n",
    "df_books = pd.read_csv('data/books_data.csv', usecols=columns_books)\n",
    "df_books.head(10)"
   ]
  },
  {
   "cell_type": "code",
   "execution_count": 3,
   "metadata": {
    "id": "nmfKt8jX-3ke",
    "outputId": "0111c301-1068-416a-fcde-45cc81c7e17f"
   },
   "outputs": [
    {
     "data": {
      "text/html": [
       "<div>\n",
       "<style scoped>\n",
       "    .dataframe tbody tr th:only-of-type {\n",
       "        vertical-align: middle;\n",
       "    }\n",
       "\n",
       "    .dataframe tbody tr th {\n",
       "        vertical-align: top;\n",
       "    }\n",
       "\n",
       "    .dataframe thead th {\n",
       "        text-align: right;\n",
       "    }\n",
       "</style>\n",
       "<table border=\"1\" class=\"dataframe\">\n",
       "  <thead>\n",
       "    <tr style=\"text-align: right;\">\n",
       "      <th></th>\n",
       "      <th>Id</th>\n",
       "      <th>Title</th>\n",
       "      <th>Price</th>\n",
       "      <th>review/helpfulness</th>\n",
       "      <th>review/score</th>\n",
       "      <th>review/text</th>\n",
       "    </tr>\n",
       "  </thead>\n",
       "  <tbody>\n",
       "    <tr>\n",
       "      <th>0</th>\n",
       "      <td>1882931173</td>\n",
       "      <td>Its Only Art If Its Well Hung!</td>\n",
       "      <td>NaN</td>\n",
       "      <td>7/7</td>\n",
       "      <td>4.0</td>\n",
       "      <td>This is only for Julie Strain fans. It's a col...</td>\n",
       "    </tr>\n",
       "    <tr>\n",
       "      <th>1</th>\n",
       "      <td>0826414346</td>\n",
       "      <td>Dr. Seuss: American Icon</td>\n",
       "      <td>NaN</td>\n",
       "      <td>10/10</td>\n",
       "      <td>5.0</td>\n",
       "      <td>I don't care much for Dr. Seuss but after read...</td>\n",
       "    </tr>\n",
       "    <tr>\n",
       "      <th>2</th>\n",
       "      <td>0826414346</td>\n",
       "      <td>Dr. Seuss: American Icon</td>\n",
       "      <td>NaN</td>\n",
       "      <td>10/11</td>\n",
       "      <td>5.0</td>\n",
       "      <td>If people become the books they read and if \"t...</td>\n",
       "    </tr>\n",
       "    <tr>\n",
       "      <th>3</th>\n",
       "      <td>0826414346</td>\n",
       "      <td>Dr. Seuss: American Icon</td>\n",
       "      <td>NaN</td>\n",
       "      <td>7/7</td>\n",
       "      <td>4.0</td>\n",
       "      <td>Theodore Seuss Geisel (1904-1991), aka &amp;quot;D...</td>\n",
       "    </tr>\n",
       "    <tr>\n",
       "      <th>4</th>\n",
       "      <td>0826414346</td>\n",
       "      <td>Dr. Seuss: American Icon</td>\n",
       "      <td>NaN</td>\n",
       "      <td>3/3</td>\n",
       "      <td>4.0</td>\n",
       "      <td>Philip Nel - Dr. Seuss: American IconThis is b...</td>\n",
       "    </tr>\n",
       "    <tr>\n",
       "      <th>5</th>\n",
       "      <td>0826414346</td>\n",
       "      <td>Dr. Seuss: American Icon</td>\n",
       "      <td>NaN</td>\n",
       "      <td>2/2</td>\n",
       "      <td>4.0</td>\n",
       "      <td>\"Dr. Seuss: American Icon\" by Philip Nel is a ...</td>\n",
       "    </tr>\n",
       "    <tr>\n",
       "      <th>6</th>\n",
       "      <td>0826414346</td>\n",
       "      <td>Dr. Seuss: American Icon</td>\n",
       "      <td>NaN</td>\n",
       "      <td>3/4</td>\n",
       "      <td>5.0</td>\n",
       "      <td>Theodor Seuss Giesel was best known as 'Dr. Se...</td>\n",
       "    </tr>\n",
       "    <tr>\n",
       "      <th>7</th>\n",
       "      <td>0826414346</td>\n",
       "      <td>Dr. Seuss: American Icon</td>\n",
       "      <td>NaN</td>\n",
       "      <td>0/0</td>\n",
       "      <td>5.0</td>\n",
       "      <td>When I recieved this book as a gift for Christ...</td>\n",
       "    </tr>\n",
       "    <tr>\n",
       "      <th>8</th>\n",
       "      <td>0826414346</td>\n",
       "      <td>Dr. Seuss: American Icon</td>\n",
       "      <td>NaN</td>\n",
       "      <td>0/0</td>\n",
       "      <td>5.0</td>\n",
       "      <td>Trams (or any public transport) are not usuall...</td>\n",
       "    </tr>\n",
       "    <tr>\n",
       "      <th>9</th>\n",
       "      <td>0826414346</td>\n",
       "      <td>Dr. Seuss: American Icon</td>\n",
       "      <td>NaN</td>\n",
       "      <td>3/5</td>\n",
       "      <td>4.0</td>\n",
       "      <td>As far as I am aware, this is the first book-l...</td>\n",
       "    </tr>\n",
       "  </tbody>\n",
       "</table>\n",
       "</div>"
      ],
      "text/plain": [
       "           Id                           Title  Price review/helpfulness   \n",
       "0  1882931173  Its Only Art If Its Well Hung!    NaN                7/7  \\\n",
       "1  0826414346        Dr. Seuss: American Icon    NaN              10/10   \n",
       "2  0826414346        Dr. Seuss: American Icon    NaN              10/11   \n",
       "3  0826414346        Dr. Seuss: American Icon    NaN                7/7   \n",
       "4  0826414346        Dr. Seuss: American Icon    NaN                3/3   \n",
       "5  0826414346        Dr. Seuss: American Icon    NaN                2/2   \n",
       "6  0826414346        Dr. Seuss: American Icon    NaN                3/4   \n",
       "7  0826414346        Dr. Seuss: American Icon    NaN                0/0   \n",
       "8  0826414346        Dr. Seuss: American Icon    NaN                0/0   \n",
       "9  0826414346        Dr. Seuss: American Icon    NaN                3/5   \n",
       "\n",
       "   review/score                                        review/text  \n",
       "0           4.0  This is only for Julie Strain fans. It's a col...  \n",
       "1           5.0  I don't care much for Dr. Seuss but after read...  \n",
       "2           5.0  If people become the books they read and if \"t...  \n",
       "3           4.0  Theodore Seuss Geisel (1904-1991), aka &quot;D...  \n",
       "4           4.0  Philip Nel - Dr. Seuss: American IconThis is b...  \n",
       "5           4.0  \"Dr. Seuss: American Icon\" by Philip Nel is a ...  \n",
       "6           5.0  Theodor Seuss Giesel was best known as 'Dr. Se...  \n",
       "7           5.0  When I recieved this book as a gift for Christ...  \n",
       "8           5.0  Trams (or any public transport) are not usuall...  \n",
       "9           4.0  As far as I am aware, this is the first book-l...  "
      ]
     },
     "execution_count": 3,
     "metadata": {},
     "output_type": "execute_result"
    }
   ],
   "source": [
    "# carga de df_reviews\n",
    "df_reviews = pd.read_csv('data/Books_rating.csv', usecols=columns_reviews)\n",
    "df_reviews.head(10)"
   ]
  },
  {
   "cell_type": "markdown",
   "metadata": {
    "id": "cavWDydP-3kf"
   },
   "source": [
    "# 2. Preprocesamiento de los datos"
   ]
  },
  {
   "cell_type": "markdown",
   "metadata": {
    "id": "cud421xo-3kg"
   },
   "source": [
    "### Primera etapa de preprocesado\n",
    "\n",
    "Aca se trabajó con los datasets originales y al finalizar se obtuvieron nuevos datasets que fueron almacenados\n",
    "\n",
    "Salidas de la primera etapa:\n",
    "- registros de las reviews sin las columnas innecesarias y solo con libros con ISBN\n",
    "- registros de los libros con ISBN"
   ]
  },
  {
   "cell_type": "markdown",
   "metadata": {},
   "source": [
    "#### Visualizar resumen de datos"
   ]
  },
  {
   "cell_type": "code",
   "execution_count": 4,
   "metadata": {
    "id": "gq0eyrb3-3kg",
    "outputId": "196f0bbc-1c47-476d-8a24-01e05bba73b8"
   },
   "outputs": [
    {
     "name": "stdout",
     "output_type": "stream",
     "text": [
      "Datos de books_data.csv\n",
      "Datos por columna:\n",
      "Title            212403\n",
      "authors          180991\n",
      "image            160329\n",
      "previewLink      188568\n",
      "publisher        136518\n",
      "publishedDate    187099\n",
      "infoLink         188568\n",
      "categories       171205\n",
      "ratingsCount      49752\n",
      "dtype: int64\n",
      "\n",
      "Datos faltantes por columna:\n",
      "Title                 1\n",
      "authors           31413\n",
      "image             52075\n",
      "previewLink       23836\n",
      "publisher         75886\n",
      "publishedDate     25305\n",
      "infoLink          23836\n",
      "categories        41199\n",
      "ratingsCount     162652\n",
      "dtype: int64\n",
      "\n",
      "% datos faltantes por columna:\n",
      "Title             0.000471\n",
      "authors          14.789270\n",
      "image            24.516958\n",
      "previewLink      11.222011\n",
      "publisher        35.727199\n",
      "publishedDate    11.913617\n",
      "infoLink         11.222011\n",
      "categories       19.396527\n",
      "ratingsCount     76.576712\n",
      "dtype: float64\n",
      "\n"
     ]
    }
   ],
   "source": [
    "# datos de df_book\n",
    "print(\"Datos de books_data.csv\")\n",
    "print(\"Datos por columna:\\n\", df_books.count(), sep=\"\", end=\"\\n\\n\")\n",
    "print(\"Datos faltantes por columna:\\n\", df_books.isna().sum(), sep=\"\", end=\"\\n\\n\")\n",
    "print(\"% datos faltantes por columna:\\n\", df_books.isna().sum() * 100 / len(df_books), sep=\"\", end=\"\\n\\n\")"
   ]
  },
  {
   "cell_type": "code",
   "execution_count": 5,
   "metadata": {
    "id": "b1DrExLy-3kg",
    "outputId": "4742ec16-aec8-423b-cea4-19cb1d591e2e"
   },
   "outputs": [
    {
     "name": "stdout",
     "output_type": "stream",
     "text": [
      "Datos de Books_rating.csv\n",
      "Datos por columna:\n",
      "Id                    3000000\n",
      "Title                 2999792\n",
      "Price                  481171\n",
      "review/helpfulness    3000000\n",
      "review/score          3000000\n",
      "review/text           2999992\n",
      "dtype: int64\n",
      "\n",
      "Datos faltantes por columna:\n",
      "Id                          0\n",
      "Title                     208\n",
      "Price                 2518829\n",
      "review/helpfulness          0\n",
      "review/score                0\n",
      "review/text                 8\n",
      "dtype: int64\n",
      "\n",
      "% datos faltantes por columna:\n",
      "Id                     0.000000\n",
      "Title                  0.006933\n",
      "Price                 83.960967\n",
      "review/helpfulness     0.000000\n",
      "review/score           0.000000\n",
      "review/text            0.000267\n",
      "dtype: float64\n",
      "\n"
     ]
    }
   ],
   "source": [
    "# datos de df_reviews\n",
    "print(\"Datos de Books_rating.csv\")\n",
    "print(\"Datos por columna:\\n\", df_reviews.count(), sep=\"\", end=\"\\n\\n\")\n",
    "print(\"Datos faltantes por columna:\\n\", df_reviews.isna().sum(), sep=\"\", end=\"\\n\\n\")\n",
    "print(\"% datos faltantes por columna:\\n\", df_reviews.isna().sum() * 100 / len(df_reviews), sep=\"\", end=\"\\n\\n\")"
   ]
  },
  {
   "cell_type": "markdown",
   "metadata": {},
   "source": [
    "#### Completar dato faltante en df de libros"
   ]
  },
  {
   "cell_type": "code",
   "execution_count": 6,
   "metadata": {
    "collapsed": false
   },
   "outputs": [
    {
     "name": "stdout",
     "output_type": "stream",
     "text": [
      "     Title              authors   \n",
      "1066   NaN  ['Maharshi Ramana']  \\\n",
      "\n",
      "                                                  image   \n",
      "1066  http://books.google.com/books/content?id=uq0uj...  \\\n",
      "\n",
      "                                            previewLink publisher   \n",
      "1066  http://books.google.nl/books?id=uq0ujwEACAAJ&d...       NaN  \\\n",
      "\n",
      "     publishedDate                                           infoLink   \n",
      "1066    2015-12-15  http://books.google.nl/books?id=uq0ujwEACAAJ&d...  \\\n",
      "\n",
      "     categories  ratingsCount  \n",
      "1066        NaN           1.0  \n",
      "Title                 0\n",
      "authors           31413\n",
      "image             52075\n",
      "previewLink       23836\n",
      "publisher         75886\n",
      "publishedDate     25305\n",
      "infoLink          23836\n",
      "categories        41199\n",
      "ratingsCount     162652\n",
      "dtype: int64\n"
     ]
    }
   ],
   "source": [
    "# completar el registro del libro sin titulo\n",
    "titulo_faltante = df_books[df_books[\"Title\"].isna()]\n",
    "print(titulo_faltante)\n",
    "# Indice en df_books: 1066\n",
    "\n",
    "del titulo_faltante\n",
    "\n",
    "# Buscando en los links encontramos su nombre: \"Nan Yar - Who Am I?\"\n",
    "df_books.loc[1066, \"Title\"] = \"Nan Yar - Who Am I?\"\n",
    "print(df_books.isna().sum())"
   ]
  },
  {
   "cell_type": "markdown",
   "metadata": {},
   "source": [
    "#### Visualizar cantidad de libros no duplicados"
   ]
  },
  {
   "cell_type": "code",
   "execution_count": 7,
   "metadata": {
    "collapsed": false
   },
   "outputs": [
    {
     "name": "stdout",
     "output_type": "stream",
     "text": [
      "\n",
      "Cantidad de titulos sin duplicar en el df de libros: 212404\n",
      "\n",
      "Cantidad de IDs y Titulos de libros sin duplicar encontrados en el df de reviews:\n",
      "Id       221998\n",
      "Title    221989\n",
      "dtype: int64\n",
      "\n",
      "Cantidad de IDs y Titulos faltantes en la lista sin duplicar del df de reviews:\n",
      "Id       0\n",
      "Title    9\n",
      "dtype: int64\n"
     ]
    }
   ],
   "source": [
    "# filtrar la cantidad de libros unicos registrados en df_books y df_reviews\n",
    "# Series del datasets de libros sin titulos duplicados\n",
    "df_books_unique = df_books[\"Title\"].drop_duplicates(ignore_index=True)\n",
    "\n",
    "# Series del datasets de reviews que recolecta los titulos sin duplicar provenientes del df de reviews\n",
    "df_reviews_books_id_titulo = df_reviews[[\"Id\",\"Title\"]].drop_duplicates(ignore_index=True) #Acá podríamos aprovechar y agregar el precio también. Así ya lo podemos unificar con la otra tabla\n",
    "\n",
    "# Series del datasets de reviews para saber cuantos ids diferentes hay registrados\n",
    "# df_reviews_books_id = df_reviews[\"Id\"].drop_duplicates(ignore_index=True)\n",
    "\n",
    "print(\"\\nCantidad de titulos sin duplicar en el df de libros: {}\".format(df_books_unique.count()), end=\"\\n\")\n",
    "# Cantidad de titulos sin duplicar en el df de libros: 212403\n",
    "\n",
    "print(\"\\nCantidad de IDs y Titulos de libros sin duplicar encontrados en el df de reviews:\", df_reviews_books_id_titulo.count(), sep=\"\\n\", end=\"\\n\")\n",
    "# Cantidad de titulos sin duplicar en el df de reviews: 221989\n",
    "\n",
    "print(\"\\nCantidad de IDs y Titulos faltantes en la lista sin duplicar del df de reviews:\", df_reviews_books_id_titulo.isna().sum(), sep=\"\\n\", end=\"\\n\")\n",
    "# Cantidad de titulos sin duplicar en el df de reviews: 221989"
   ]
  },
  {
   "cell_type": "code",
   "execution_count": 8,
   "metadata": {},
   "outputs": [
    {
     "name": "stdout",
     "output_type": "stream",
     "text": [
      "\n",
      "\n",
      "Head books\n",
      "\n",
      "0                       Its Only Art If Its Well Hung!\n",
      "1                             Dr. Seuss: American Icon\n",
      "2                Wonderful Worship in Smaller Churches\n",
      "3                        Whispers of the Wicked Saints\n",
      "4    Nation Dance: Religion, Identity and Cultural ...\n",
      "5    The Church of Christ: A Biblical Ecclesiology ...\n",
      "6                           The Overbury affair (Avon)\n",
      "7              A Walk in the Woods: a Play in Two Acts\n",
      "8                             Saint Hyacinth of Poland\n",
      "9    Rising Sons and Daughters: Life Among Japan's ...\n",
      "Name: Title, dtype: object\n"
     ]
    }
   ],
   "source": [
    "# vistazo a la lista libros sin duplicar del df de libros\n",
    "print(\"\\n\\nHead books\\n\")\n",
    "print(df_books_unique.head(10))"
   ]
  },
  {
   "cell_type": "code",
   "execution_count": 9,
   "metadata": {},
   "outputs": [
    {
     "name": "stdout",
     "output_type": "stream",
     "text": [
      "\n",
      "\n",
      "Head reviews\n",
      "\n",
      "           Id                                              Title\n",
      "0  1882931173                     Its Only Art If Its Well Hung!\n",
      "1  0826414346                           Dr. Seuss: American Icon\n",
      "2  0829814000              Wonderful Worship in Smaller Churches\n",
      "3  0595344550                      Whispers of the Wicked Saints\n",
      "4  0253338352  Nation Dance: Religion, Identity and Cultural ...\n",
      "5  0802841899  The Church of Christ: A Biblical Ecclesiology ...\n",
      "6  B0007FIF28                         The Overbury affair (Avon)\n",
      "7  B000JINSBG            A Walk in the Woods: a Play in Two Acts\n",
      "8  0895554224                           Saint Hyacinth of Poland\n",
      "9  0963923080  Rising Sons and Daughters: Life Among Japan's ...\n"
     ]
    }
   ],
   "source": [
    "# vistazo a la lista de ids y titulos sin duplicar del df de reviews\n",
    "print(\"\\n\\nHead reviews\\n\")\n",
    "print(df_reviews_books_id_titulo.head(10))"
   ]
  },
  {
   "cell_type": "markdown",
   "metadata": {},
   "source": [
    "#### Filtrado de libros con ISBNs\n",
    "\n",
    "Para este trabajo, dejaremos de lado los libros identificados con ASIN y nos enfocaremos unicamente en aquellos con ISBN"
   ]
  },
  {
   "cell_type": "code",
   "execution_count": 10,
   "metadata": {
    "collapsed": false
   },
   "outputs": [],
   "source": [
    "# Filtramos los registros obtenidos en el df de reviews por ISBN (ids numéricos)\n",
    "df_reviews_titulos_con_isbn = df_reviews_books_id_titulo[pd.to_numeric(df_reviews_books_id_titulo['Id'], errors='coerce').notnull()]"
   ]
  },
  {
   "cell_type": "code",
   "execution_count": 11,
   "metadata": {
    "collapsed": false
   },
   "outputs": [
    {
     "name": "stdout",
     "output_type": "stream",
     "text": [
      "\n",
      "Cantidad de titulos con ISBN asociado:\n",
      "\n",
      "Id       130009\n",
      "Title    130004\n",
      "dtype: int64\n",
      "\n",
      "            Id                                              Title\n",
      "0   1882931173                     Its Only Art If Its Well Hung!\n",
      "1   0826414346                           Dr. Seuss: American Icon\n",
      "2   0829814000              Wonderful Worship in Smaller Churches\n",
      "3   0595344550                      Whispers of the Wicked Saints\n",
      "4   0253338352  Nation Dance: Religion, Identity and Cultural ...\n",
      "5   0802841899  The Church of Christ: A Biblical Ecclesiology ...\n",
      "8   0895554224                           Saint Hyacinth of Poland\n",
      "9   0963923080  Rising Sons and Daughters: Life Among Japan's ...\n",
      "10  0854968350  Muslim Women's Choices: Religious Belief and S...\n",
      "11  0918973031                        Dramatica for Screenwriters\n",
      "12  1858683092   Mensa Number Puzzles (Mensa Word Games for Kids)\n",
      "13  0792391810  Vector Quantization and Signal Compression (Th...\n",
      "15  0908968000                                Gold and greenstone\n",
      "16  0974289108  The Ultimate Guide to Law School Admission: In...\n",
      "17  0809080699  The Repeal of Reticence: A History of America'...\n",
      "18  0553763121  Overcoming Hypertension (Dr. Kenneth H. Cooper...\n",
      "20  0195178548  The Oxford Handbook of Free Will (Oxford Handb...\n",
      "21  0789480662                  Eyewitness Travel Guide to Europe\n",
      "23  0517150328                    History of Magic and the Occult\n",
      "25  3161453549  Homer or Moses?: Early Christian Interpretatio...\n"
     ]
    }
   ],
   "source": [
    "# revisamos el resultado\n",
    "print(\"\\nCantidad de titulos con ISBN asociado:\\n\", df_reviews_titulos_con_isbn[[\"Id\", \"Title\"]].count(), sep=\"\\n\", end=\"\\n\\n\") #130.009 libros\n",
    "print(df_reviews_titulos_con_isbn.head(20))"
   ]
  },
  {
   "cell_type": "code",
   "execution_count": 12,
   "metadata": {
    "collapsed": false
   },
   "outputs": [
    {
     "name": "stdout",
     "output_type": "stream",
     "text": [
      "Cantidad de reviews de libros con ISBN:\n",
      "Id                    1314561\n",
      "Title                 1314368\n",
      "Price                  410313\n",
      "review/helpfulness    1314561\n",
      "review/score          1314561\n",
      "review/text           1314560\n",
      "dtype: int64\n",
      "\n",
      "Cantidad de datos faltantes en estas reviews:\n",
      "Id                         0\n",
      "Title                    193\n",
      "Price                 904248\n",
      "review/helpfulness         0\n",
      "review/score               0\n",
      "review/text                1\n",
      "dtype: int64\n"
     ]
    }
   ],
   "source": [
    "# nos quedamos solo con las reviews que tengan asociados libros con ISBN\n",
    "df_reviews = df_reviews[pd.to_numeric(df_reviews['Id'], errors='coerce').notnull()]\n",
    "\n",
    "print(\"Cantidad de reviews de libros con ISBN:\")\n",
    "print(df_reviews.count(), end=\"\\n\\n\") \n",
    "# Cantidad de reviews de libros con ISBN:\n",
    "# Id         1314561\n",
    "# Title      1314368\n",
    "\n",
    "# vemos los datos faltantes de cada fila\n",
    "print(\"Cantidad de datos faltantes en estas reviews:\")\n",
    "print(df_reviews.isna().sum()) \n",
    "# Cantidad de datos faltantes en estas reviews:\n",
    "# Id                         0\n",
    "# Title                    193"
   ]
  },
  {
   "cell_type": "code",
   "execution_count": 13,
   "metadata": {},
   "outputs": [
    {
     "name": "stdout",
     "output_type": "stream",
     "text": [
      "Id\n",
      "0912411201    185\n",
      "0801841119      3\n",
      "0595241034      3\n",
      "0313329486      1\n",
      "0595292763      1\n",
      "Name: count, dtype: int64\n"
     ]
    }
   ],
   "source": [
    "# ISBNs y cantidad de reviews por titulo faltantes\n",
    "print(df_reviews[df_reviews['Title'].isna()]['Id'].value_counts())"
   ]
  },
  {
   "cell_type": "code",
   "execution_count": 14,
   "metadata": {},
   "outputs": [
    {
     "name": "stderr",
     "output_type": "stream",
     "text": [
      "C:\\Users\\matia\\AppData\\Local\\Temp\\ipykernel_12180\\597928578.py:12: SettingWithCopyWarning: \n",
      "A value is trying to be set on a copy of a slice from a DataFrame.\n",
      "Try using .loc[row_indexer,col_indexer] = value instead\n",
      "\n",
      "See the caveats in the documentation: https://pandas.pydata.org/pandas-docs/stable/user_guide/indexing.html#returning-a-view-versus-a-copy\n",
      "  df_reviews_titulos_con_isbn['Title'] = df_reviews_titulos_con_isbn['Id'].map(titulos).fillna(df_reviews_titulos_con_isbn['Title'])\n"
     ]
    }
   ],
   "source": [
    "# completamos las reviews y el listado de titulos con los titulos faltantes\n",
    "\n",
    "titulos = {\n",
    "    '0801841119': \"Eclogues and Georgics of Virgil\",\n",
    "    '0595241034': \"Delicate Relations\",\n",
    "    '0912411201': \"Tinseltowns U.S.A\",\n",
    "    '0313329486': \"Federalism in America: An Encyclopedia, Volume I, A-J\",\n",
    "    '0595292763': \"Stars of the Southern Cross\"\n",
    "}\n",
    "\n",
    "df_reviews['Title'] = df_reviews['Id'].map(titulos).fillna(df_reviews['Title'])\n",
    "df_reviews_titulos_con_isbn['Title'] = df_reviews_titulos_con_isbn['Id'].map(titulos).fillna(df_reviews_titulos_con_isbn['Title'])"
   ]
  },
  {
   "cell_type": "code",
   "execution_count": 15,
   "metadata": {},
   "outputs": [
    {
     "name": "stdout",
     "output_type": "stream",
     "text": [
      "Cantidad de reviews por ISBN con titulo faltantes:\n",
      "Series([], Name: count, dtype: int64)\n",
      "\n",
      "Cantidad de titulos faltantes en el df de titulos en reviews:\n",
      "Id       0\n",
      "Title    0\n",
      "dtype: int64\n"
     ]
    }
   ],
   "source": [
    "# revisamos\n",
    "print(\"Cantidad de reviews por ISBN con titulo faltantes:\")\n",
    "print(df_reviews[df_reviews['Title'].isna()]['Id'].value_counts())\n",
    "print()\n",
    "print(\"Cantidad de titulos faltantes en el df de titulos en reviews:\")\n",
    "print(df_reviews_titulos_con_isbn.isna().sum())"
   ]
  },
  {
   "cell_type": "code",
   "execution_count": 16,
   "metadata": {},
   "outputs": [
    {
     "data": {
      "text/html": [
       "<div>\n",
       "<style scoped>\n",
       "    .dataframe tbody tr th:only-of-type {\n",
       "        vertical-align: middle;\n",
       "    }\n",
       "\n",
       "    .dataframe tbody tr th {\n",
       "        vertical-align: top;\n",
       "    }\n",
       "\n",
       "    .dataframe thead th {\n",
       "        text-align: right;\n",
       "    }\n",
       "</style>\n",
       "<table border=\"1\" class=\"dataframe\">\n",
       "  <thead>\n",
       "    <tr style=\"text-align: right;\">\n",
       "      <th></th>\n",
       "      <th>Id</th>\n",
       "      <th>Title</th>\n",
       "      <th>Price</th>\n",
       "      <th>review/helpfulness</th>\n",
       "      <th>review/score</th>\n",
       "      <th>review/text</th>\n",
       "    </tr>\n",
       "  </thead>\n",
       "  <tbody>\n",
       "    <tr>\n",
       "      <th>358889</th>\n",
       "      <td>0801841119</td>\n",
       "      <td>Eclogues and Georgics of Virgil</td>\n",
       "      <td>17.95</td>\n",
       "      <td>25/25</td>\n",
       "      <td>2.0</td>\n",
       "      <td>I only read Georgics in this book, but I'm not...</td>\n",
       "    </tr>\n",
       "    <tr>\n",
       "      <th>358890</th>\n",
       "      <td>0801841119</td>\n",
       "      <td>Eclogues and Georgics of Virgil</td>\n",
       "      <td>17.95</td>\n",
       "      <td>12/12</td>\n",
       "      <td>1.0</td>\n",
       "      <td>You can't even really call this a translation;...</td>\n",
       "    </tr>\n",
       "    <tr>\n",
       "      <th>358891</th>\n",
       "      <td>0801841119</td>\n",
       "      <td>Eclogues and Georgics of Virgil</td>\n",
       "      <td>17.95</td>\n",
       "      <td>5/12</td>\n",
       "      <td>5.0</td>\n",
       "      <td>Slavitt's translation of Virgil's Eclogues and...</td>\n",
       "    </tr>\n",
       "  </tbody>\n",
       "</table>\n",
       "</div>"
      ],
      "text/plain": [
       "                Id                            Title  Price review/helpfulness   \n",
       "358889  0801841119  Eclogues and Georgics of Virgil  17.95              25/25  \\\n",
       "358890  0801841119  Eclogues and Georgics of Virgil  17.95              12/12   \n",
       "358891  0801841119  Eclogues and Georgics of Virgil  17.95               5/12   \n",
       "\n",
       "        review/score                                        review/text  \n",
       "358889           2.0  I only read Georgics in this book, but I'm not...  \n",
       "358890           1.0  You can't even really call this a translation;...  \n",
       "358891           5.0  Slavitt's translation of Virgil's Eclogues and...  "
      ]
     },
     "execution_count": 16,
     "metadata": {},
     "output_type": "execute_result"
    }
   ],
   "source": [
    "# vemos algunos registros de los resultados\n",
    "df_reviews[df_reviews['Id'] == '0801841119']"
   ]
  },
  {
   "cell_type": "code",
   "execution_count": 20,
   "metadata": {},
   "outputs": [
    {
     "data": {
      "text/html": [
       "<div>\n",
       "<style scoped>\n",
       "    .dataframe tbody tr th:only-of-type {\n",
       "        vertical-align: middle;\n",
       "    }\n",
       "\n",
       "    .dataframe tbody tr th {\n",
       "        vertical-align: top;\n",
       "    }\n",
       "\n",
       "    .dataframe thead th {\n",
       "        text-align: right;\n",
       "    }\n",
       "</style>\n",
       "<table border=\"1\" class=\"dataframe\">\n",
       "  <thead>\n",
       "    <tr style=\"text-align: right;\">\n",
       "      <th></th>\n",
       "      <th>Title</th>\n",
       "      <th>authors</th>\n",
       "      <th>image</th>\n",
       "      <th>previewLink</th>\n",
       "      <th>publisher</th>\n",
       "      <th>publishedDate</th>\n",
       "      <th>infoLink</th>\n",
       "      <th>categories</th>\n",
       "      <th>ratingsCount</th>\n",
       "    </tr>\n",
       "  </thead>\n",
       "  <tbody>\n",
       "  </tbody>\n",
       "</table>\n",
       "</div>"
      ],
      "text/plain": [
       "Empty DataFrame\n",
       "Columns: [Title, authors, image, previewLink, publisher, publishedDate, infoLink, categories, ratingsCount]\n",
       "Index: []"
      ]
     },
     "execution_count": 20,
     "metadata": {},
     "output_type": "execute_result"
    }
   ],
   "source": [
    "# vemos si los libros agregados se encuentran en el df de libros\n",
    "df_books[df_books['Title'].isin(list(titulos.values()))]"
   ]
  },
  {
   "cell_type": "code",
   "execution_count": 24,
   "metadata": {},
   "outputs": [
    {
     "name": "stdout",
     "output_type": "stream",
     "text": [
      "Title             object\n",
      "authors           object\n",
      "image             object\n",
      "previewLink       object\n",
      "publisher         object\n",
      "publishedDate     object\n",
      "infoLink          object\n",
      "categories        object\n",
      "ratingsCount     float64\n",
      "dtype: object\n"
     ]
    },
    {
     "data": {
      "text/plain": [
       "Title                                            The Autograph Man\n",
       "authors                                            ['Zadie Smith']\n",
       "image            http://books.google.com/books/content?id=JM6YV...\n",
       "previewLink      http://books.google.com/books?id=JM6YVPx_clMC&...\n",
       "publisher                                                  Vintage\n",
       "publishedDate                                           2003-08-12\n",
       "infoLink         https://play.google.com/store/books/details?id...\n",
       "categories                                             ['Fiction']\n",
       "ratingsCount                                                  19.0\n",
       "Name: 212402, dtype: object"
      ]
     },
     "execution_count": 24,
     "metadata": {},
     "output_type": "execute_result"
    }
   ],
   "source": [
    "# revisamos los tipos de las celdas para empezar el registro al df books\n",
    "print(df_books.dtypes)\n",
    "\n",
    "# ejemplo de un registro completo\n",
    "df_books.loc[212402]"
   ]
  },
  {
   "cell_type": "code",
   "execution_count": 26,
   "metadata": {},
   "outputs": [],
   "source": [
    "# creamos los registros a insertar\n",
    "# fuente: https://isbnsearch.org/\n",
    "libros = [\n",
    "    { \n",
    "        'Title': \"Eclogues and Georgics of Virgil\",\n",
    "        'authors': str(['Virgil, David']),\n",
    "        'image': np.nan,\n",
    "        'previewLink': np.nan,\n",
    "        'publisher': 'Johns Hopkins University Press',\n",
    "        'publishedDate': '1990-10-01',\n",
    "        'infoLink': np.nan,\n",
    "        'categories': np.nan,\n",
    "        'ratingsCount': np.nan\n",
    "    },\n",
    "    { \n",
    "        'Title': \"Delicate Relations\",\n",
    "        'authors': str(['Xichel']),\n",
    "        'image': np.nan,\n",
    "        'previewLink': np.nan,\n",
    "        'publisher': 'iUniverse',\n",
    "        'publishedDate': '2002-10-24',\n",
    "        'infoLink': np.nan,\n",
    "        'categories': np.nan,\n",
    "        'ratingsCount': np.nan\n",
    "    },\n",
    "    { \n",
    "        'Title': \"Tinseltowns U.S.A\",\n",
    "        'authors': str(['Kremer, John']),\n",
    "        'image': np.nan,\n",
    "        'previewLink': np.nan,\n",
    "        'publisher': 'Players Press',\n",
    "        'publishedDate': '1998',\n",
    "        'infoLink': np.nan,\n",
    "        'categories': np.nan,\n",
    "        'ratingsCount': np.nan\n",
    "    },\n",
    "    { \n",
    "        'Title': \"Federalism in America: An Encyclopedia, Volume I, A-J\",\n",
    "        'authors': str([]),\n",
    "        'image': np.nan,\n",
    "        'previewLink': np.nan,\n",
    "        'publisher': 'Greenwood',\n",
    "        'publishedDate': '2005',\n",
    "        'infoLink': np.nan,\n",
    "        'categories': np.nan,\n",
    "        'ratingsCount': np.nan\n",
    "    },\n",
    "    { \n",
    "        'Title': \"Stars of the Southern Cross\",\n",
    "        'authors': str(['Hill, A. Robert']),\n",
    "        'image': np.nan,\n",
    "        'previewLink': np.nan,\n",
    "        'publisher': 'iUniverse',\n",
    "        'publishedDate': '2003-12-07',\n",
    "        'infoLink': np.nan,\n",
    "        'categories': np.nan,\n",
    "        'ratingsCount': np.nan\n",
    "    }\n",
    "]\n",
    "\n",
    "\n"
   ]
  },
  {
   "cell_type": "code",
   "execution_count": 27,
   "metadata": {},
   "outputs": [],
   "source": [
    "# insertamos los registros\n",
    "for libro in libros:\n",
    "    df_books.loc[len(df_books)] = libro"
   ]
  },
  {
   "cell_type": "code",
   "execution_count": 30,
   "metadata": {},
   "outputs": [
    {
     "data": {
      "text/html": [
       "<div>\n",
       "<style scoped>\n",
       "    .dataframe tbody tr th:only-of-type {\n",
       "        vertical-align: middle;\n",
       "    }\n",
       "\n",
       "    .dataframe tbody tr th {\n",
       "        vertical-align: top;\n",
       "    }\n",
       "\n",
       "    .dataframe thead th {\n",
       "        text-align: right;\n",
       "    }\n",
       "</style>\n",
       "<table border=\"1\" class=\"dataframe\">\n",
       "  <thead>\n",
       "    <tr style=\"text-align: right;\">\n",
       "      <th></th>\n",
       "      <th>Title</th>\n",
       "      <th>authors</th>\n",
       "      <th>image</th>\n",
       "      <th>previewLink</th>\n",
       "      <th>publisher</th>\n",
       "      <th>publishedDate</th>\n",
       "      <th>infoLink</th>\n",
       "      <th>categories</th>\n",
       "      <th>ratingsCount</th>\n",
       "    </tr>\n",
       "  </thead>\n",
       "  <tbody>\n",
       "    <tr>\n",
       "      <th>212404</th>\n",
       "      <td>Eclogues and Georgics of Virgil</td>\n",
       "      <td>['Virgil, David']</td>\n",
       "      <td>NaN</td>\n",
       "      <td>NaN</td>\n",
       "      <td>Johns Hopkins University Press</td>\n",
       "      <td>1990-10-01</td>\n",
       "      <td>NaN</td>\n",
       "      <td>NaN</td>\n",
       "      <td>NaN</td>\n",
       "    </tr>\n",
       "    <tr>\n",
       "      <th>212405</th>\n",
       "      <td>Delicate Relations</td>\n",
       "      <td>['Xichel']</td>\n",
       "      <td>NaN</td>\n",
       "      <td>NaN</td>\n",
       "      <td>iUniverse</td>\n",
       "      <td>2002-10-24</td>\n",
       "      <td>NaN</td>\n",
       "      <td>NaN</td>\n",
       "      <td>NaN</td>\n",
       "    </tr>\n",
       "    <tr>\n",
       "      <th>212406</th>\n",
       "      <td>Tinseltowns U.S.A</td>\n",
       "      <td>['Kremer, John']</td>\n",
       "      <td>NaN</td>\n",
       "      <td>NaN</td>\n",
       "      <td>Players Press</td>\n",
       "      <td>1998</td>\n",
       "      <td>NaN</td>\n",
       "      <td>NaN</td>\n",
       "      <td>NaN</td>\n",
       "    </tr>\n",
       "    <tr>\n",
       "      <th>212407</th>\n",
       "      <td>Federalism in America: An Encyclopedia, Volume...</td>\n",
       "      <td>[]</td>\n",
       "      <td>NaN</td>\n",
       "      <td>NaN</td>\n",
       "      <td>Greenwood</td>\n",
       "      <td>2005</td>\n",
       "      <td>NaN</td>\n",
       "      <td>NaN</td>\n",
       "      <td>NaN</td>\n",
       "    </tr>\n",
       "    <tr>\n",
       "      <th>212408</th>\n",
       "      <td>Stars of the Southern Cross</td>\n",
       "      <td>['Hill, A. Robert']</td>\n",
       "      <td>NaN</td>\n",
       "      <td>NaN</td>\n",
       "      <td>iUniverse</td>\n",
       "      <td>2003-12-07</td>\n",
       "      <td>NaN</td>\n",
       "      <td>NaN</td>\n",
       "      <td>NaN</td>\n",
       "    </tr>\n",
       "  </tbody>\n",
       "</table>\n",
       "</div>"
      ],
      "text/plain": [
       "                                                    Title   \n",
       "212404                    Eclogues and Georgics of Virgil  \\\n",
       "212405                                 Delicate Relations   \n",
       "212406                                  Tinseltowns U.S.A   \n",
       "212407  Federalism in America: An Encyclopedia, Volume...   \n",
       "212408                        Stars of the Southern Cross   \n",
       "\n",
       "                    authors image previewLink                       publisher   \n",
       "212404    ['Virgil, David']   NaN         NaN  Johns Hopkins University Press  \\\n",
       "212405           ['Xichel']   NaN         NaN                       iUniverse   \n",
       "212406     ['Kremer, John']   NaN         NaN                   Players Press   \n",
       "212407                   []   NaN         NaN                       Greenwood   \n",
       "212408  ['Hill, A. Robert']   NaN         NaN                       iUniverse   \n",
       "\n",
       "       publishedDate infoLink categories  ratingsCount  \n",
       "212404    1990-10-01      NaN        NaN           NaN  \n",
       "212405    2002-10-24      NaN        NaN           NaN  \n",
       "212406          1998      NaN        NaN           NaN  \n",
       "212407          2005      NaN        NaN           NaN  \n",
       "212408    2003-12-07      NaN        NaN           NaN  "
      ]
     },
     "execution_count": 30,
     "metadata": {},
     "output_type": "execute_result"
    }
   ],
   "source": [
    "# revisamos\n",
    "df_books.tail(5)"
   ]
  },
  {
   "cell_type": "code",
   "execution_count": 32,
   "metadata": {
    "collapsed": false
   },
   "outputs": [
    {
     "name": "stdout",
     "output_type": "stream",
     "text": [
      "Cantidad de titulos: 130009\n",
      "Cantidad de libros en tabla de libros:\n",
      "Title            127339\n",
      "authors          108529\n",
      "image             99640\n",
      "previewLink      112955\n",
      "publisher         87988\n",
      "publishedDate    112114\n",
      "infoLink         112955\n",
      "categories       104906\n",
      "ratingsCount      27528\n",
      "dtype: int64\n"
     ]
    },
    {
     "data": {
      "text/html": [
       "<div>\n",
       "<style scoped>\n",
       "    .dataframe tbody tr th:only-of-type {\n",
       "        vertical-align: middle;\n",
       "    }\n",
       "\n",
       "    .dataframe tbody tr th {\n",
       "        vertical-align: top;\n",
       "    }\n",
       "\n",
       "    .dataframe thead th {\n",
       "        text-align: right;\n",
       "    }\n",
       "</style>\n",
       "<table border=\"1\" class=\"dataframe\">\n",
       "  <thead>\n",
       "    <tr style=\"text-align: right;\">\n",
       "      <th></th>\n",
       "      <th>Title</th>\n",
       "      <th>authors</th>\n",
       "      <th>image</th>\n",
       "      <th>previewLink</th>\n",
       "      <th>publisher</th>\n",
       "      <th>publishedDate</th>\n",
       "      <th>infoLink</th>\n",
       "      <th>categories</th>\n",
       "      <th>ratingsCount</th>\n",
       "    </tr>\n",
       "  </thead>\n",
       "  <tbody>\n",
       "    <tr>\n",
       "      <th>0</th>\n",
       "      <td>Its Only Art If Its Well Hung!</td>\n",
       "      <td>['Julie Strain']</td>\n",
       "      <td>http://books.google.com/books/content?id=DykPA...</td>\n",
       "      <td>http://books.google.nl/books?id=DykPAAAACAAJ&amp;d...</td>\n",
       "      <td>NaN</td>\n",
       "      <td>1996</td>\n",
       "      <td>http://books.google.nl/books?id=DykPAAAACAAJ&amp;d...</td>\n",
       "      <td>['Comics &amp; Graphic Novels']</td>\n",
       "      <td>NaN</td>\n",
       "    </tr>\n",
       "    <tr>\n",
       "      <th>1</th>\n",
       "      <td>Dr. Seuss: American Icon</td>\n",
       "      <td>['Philip Nel']</td>\n",
       "      <td>http://books.google.com/books/content?id=IjvHQ...</td>\n",
       "      <td>http://books.google.nl/books?id=IjvHQsCn_pgC&amp;p...</td>\n",
       "      <td>A&amp;C Black</td>\n",
       "      <td>2005-01-01</td>\n",
       "      <td>http://books.google.nl/books?id=IjvHQsCn_pgC&amp;d...</td>\n",
       "      <td>['Biography &amp; Autobiography']</td>\n",
       "      <td>NaN</td>\n",
       "    </tr>\n",
       "    <tr>\n",
       "      <th>2</th>\n",
       "      <td>Wonderful Worship in Smaller Churches</td>\n",
       "      <td>['David R. Ray']</td>\n",
       "      <td>http://books.google.com/books/content?id=2tsDA...</td>\n",
       "      <td>http://books.google.nl/books?id=2tsDAAAACAAJ&amp;d...</td>\n",
       "      <td>NaN</td>\n",
       "      <td>2000</td>\n",
       "      <td>http://books.google.nl/books?id=2tsDAAAACAAJ&amp;d...</td>\n",
       "      <td>['Religion']</td>\n",
       "      <td>NaN</td>\n",
       "    </tr>\n",
       "    <tr>\n",
       "      <th>3</th>\n",
       "      <td>Whispers of the Wicked Saints</td>\n",
       "      <td>['Veronica Haddon']</td>\n",
       "      <td>http://books.google.com/books/content?id=aRSIg...</td>\n",
       "      <td>http://books.google.nl/books?id=aRSIgJlq6JwC&amp;d...</td>\n",
       "      <td>iUniverse</td>\n",
       "      <td>2005-02</td>\n",
       "      <td>http://books.google.nl/books?id=aRSIgJlq6JwC&amp;d...</td>\n",
       "      <td>['Fiction']</td>\n",
       "      <td>NaN</td>\n",
       "    </tr>\n",
       "    <tr>\n",
       "      <th>4</th>\n",
       "      <td>Nation Dance: Religion, Identity and Cultural ...</td>\n",
       "      <td>['Edward Long']</td>\n",
       "      <td>NaN</td>\n",
       "      <td>http://books.google.nl/books?id=399SPgAACAAJ&amp;d...</td>\n",
       "      <td>NaN</td>\n",
       "      <td>2003-03-01</td>\n",
       "      <td>http://books.google.nl/books?id=399SPgAACAAJ&amp;d...</td>\n",
       "      <td>NaN</td>\n",
       "      <td>NaN</td>\n",
       "    </tr>\n",
       "    <tr>\n",
       "      <th>5</th>\n",
       "      <td>The Church of Christ: A Biblical Ecclesiology ...</td>\n",
       "      <td>['Everett Ferguson']</td>\n",
       "      <td>http://books.google.com/books/content?id=kVqRa...</td>\n",
       "      <td>http://books.google.nl/books?id=kVqRaiPlx88C&amp;p...</td>\n",
       "      <td>Wm. B. Eerdmans Publishing</td>\n",
       "      <td>1996</td>\n",
       "      <td>http://books.google.nl/books?id=kVqRaiPlx88C&amp;d...</td>\n",
       "      <td>['Religion']</td>\n",
       "      <td>5.0</td>\n",
       "    </tr>\n",
       "    <tr>\n",
       "      <th>8</th>\n",
       "      <td>Saint Hyacinth of Poland</td>\n",
       "      <td>['Mary Fabyan Windeatt']</td>\n",
       "      <td>http://books.google.com/books/content?id=lmLqA...</td>\n",
       "      <td>http://books.google.nl/books?id=lmLqAAAACAAJ&amp;d...</td>\n",
       "      <td>Tan Books &amp; Pub</td>\n",
       "      <td>2009-01-01</td>\n",
       "      <td>http://books.google.nl/books?id=lmLqAAAACAAJ&amp;d...</td>\n",
       "      <td>['Biography &amp; Autobiography']</td>\n",
       "      <td>NaN</td>\n",
       "    </tr>\n",
       "    <tr>\n",
       "      <th>9</th>\n",
       "      <td>Rising Sons and Daughters: Life Among Japan's ...</td>\n",
       "      <td>['Steven Wardell']</td>\n",
       "      <td>NaN</td>\n",
       "      <td>http://books.google.nl/books?id=rbLZugEACAAJ&amp;d...</td>\n",
       "      <td>Plympton PressIntl</td>\n",
       "      <td>1995</td>\n",
       "      <td>http://books.google.nl/books?id=rbLZugEACAAJ&amp;d...</td>\n",
       "      <td>['Social Science']</td>\n",
       "      <td>NaN</td>\n",
       "    </tr>\n",
       "    <tr>\n",
       "      <th>10</th>\n",
       "      <td>Muslim Women's Choices: Religious Belief and S...</td>\n",
       "      <td>['Camillia Fawzi El-Solh', 'Judy Mabro']</td>\n",
       "      <td>http://books.google.com/books/content?id=o7izA...</td>\n",
       "      <td>http://books.google.nl/books?id=o7izAAAAIAAJ&amp;q...</td>\n",
       "      <td>Berg Pub Limited</td>\n",
       "      <td>1994-02-17</td>\n",
       "      <td>http://books.google.nl/books?id=o7izAAAAIAAJ&amp;d...</td>\n",
       "      <td>['Religion']</td>\n",
       "      <td>NaN</td>\n",
       "    </tr>\n",
       "    <tr>\n",
       "      <th>11</th>\n",
       "      <td>Dramatica for Screenwriters</td>\n",
       "      <td>['Armando Salda A-Mora']</td>\n",
       "      <td>http://books.google.com/books/content?id=iTueu...</td>\n",
       "      <td>http://books.google.nl/books?id=iTueuAAACAAJ&amp;d...</td>\n",
       "      <td>NaN</td>\n",
       "      <td>2005-07</td>\n",
       "      <td>http://books.google.nl/books?id=iTueuAAACAAJ&amp;d...</td>\n",
       "      <td>['Reference']</td>\n",
       "      <td>NaN</td>\n",
       "    </tr>\n",
       "  </tbody>\n",
       "</table>\n",
       "</div>"
      ],
      "text/plain": [
       "                                                Title   \n",
       "0                      Its Only Art If Its Well Hung!  \\\n",
       "1                            Dr. Seuss: American Icon   \n",
       "2               Wonderful Worship in Smaller Churches   \n",
       "3                       Whispers of the Wicked Saints   \n",
       "4   Nation Dance: Religion, Identity and Cultural ...   \n",
       "5   The Church of Christ: A Biblical Ecclesiology ...   \n",
       "8                            Saint Hyacinth of Poland   \n",
       "9   Rising Sons and Daughters: Life Among Japan's ...   \n",
       "10  Muslim Women's Choices: Religious Belief and S...   \n",
       "11                        Dramatica for Screenwriters   \n",
       "\n",
       "                                     authors   \n",
       "0                           ['Julie Strain']  \\\n",
       "1                             ['Philip Nel']   \n",
       "2                           ['David R. Ray']   \n",
       "3                        ['Veronica Haddon']   \n",
       "4                            ['Edward Long']   \n",
       "5                       ['Everett Ferguson']   \n",
       "8                   ['Mary Fabyan Windeatt']   \n",
       "9                         ['Steven Wardell']   \n",
       "10  ['Camillia Fawzi El-Solh', 'Judy Mabro']   \n",
       "11                  ['Armando Salda A-Mora']   \n",
       "\n",
       "                                                image   \n",
       "0   http://books.google.com/books/content?id=DykPA...  \\\n",
       "1   http://books.google.com/books/content?id=IjvHQ...   \n",
       "2   http://books.google.com/books/content?id=2tsDA...   \n",
       "3   http://books.google.com/books/content?id=aRSIg...   \n",
       "4                                                 NaN   \n",
       "5   http://books.google.com/books/content?id=kVqRa...   \n",
       "8   http://books.google.com/books/content?id=lmLqA...   \n",
       "9                                                 NaN   \n",
       "10  http://books.google.com/books/content?id=o7izA...   \n",
       "11  http://books.google.com/books/content?id=iTueu...   \n",
       "\n",
       "                                          previewLink   \n",
       "0   http://books.google.nl/books?id=DykPAAAACAAJ&d...  \\\n",
       "1   http://books.google.nl/books?id=IjvHQsCn_pgC&p...   \n",
       "2   http://books.google.nl/books?id=2tsDAAAACAAJ&d...   \n",
       "3   http://books.google.nl/books?id=aRSIgJlq6JwC&d...   \n",
       "4   http://books.google.nl/books?id=399SPgAACAAJ&d...   \n",
       "5   http://books.google.nl/books?id=kVqRaiPlx88C&p...   \n",
       "8   http://books.google.nl/books?id=lmLqAAAACAAJ&d...   \n",
       "9   http://books.google.nl/books?id=rbLZugEACAAJ&d...   \n",
       "10  http://books.google.nl/books?id=o7izAAAAIAAJ&q...   \n",
       "11  http://books.google.nl/books?id=iTueuAAACAAJ&d...   \n",
       "\n",
       "                     publisher publishedDate   \n",
       "0                          NaN          1996  \\\n",
       "1                    A&C Black    2005-01-01   \n",
       "2                          NaN          2000   \n",
       "3                    iUniverse       2005-02   \n",
       "4                          NaN    2003-03-01   \n",
       "5   Wm. B. Eerdmans Publishing          1996   \n",
       "8              Tan Books & Pub    2009-01-01   \n",
       "9           Plympton PressIntl          1995   \n",
       "10            Berg Pub Limited    1994-02-17   \n",
       "11                         NaN       2005-07   \n",
       "\n",
       "                                             infoLink   \n",
       "0   http://books.google.nl/books?id=DykPAAAACAAJ&d...  \\\n",
       "1   http://books.google.nl/books?id=IjvHQsCn_pgC&d...   \n",
       "2   http://books.google.nl/books?id=2tsDAAAACAAJ&d...   \n",
       "3   http://books.google.nl/books?id=aRSIgJlq6JwC&d...   \n",
       "4   http://books.google.nl/books?id=399SPgAACAAJ&d...   \n",
       "5   http://books.google.nl/books?id=kVqRaiPlx88C&d...   \n",
       "8   http://books.google.nl/books?id=lmLqAAAACAAJ&d...   \n",
       "9   http://books.google.nl/books?id=rbLZugEACAAJ&d...   \n",
       "10  http://books.google.nl/books?id=o7izAAAAIAAJ&d...   \n",
       "11  http://books.google.nl/books?id=iTueuAAACAAJ&d...   \n",
       "\n",
       "                       categories  ratingsCount  \n",
       "0     ['Comics & Graphic Novels']           NaN  \n",
       "1   ['Biography & Autobiography']           NaN  \n",
       "2                    ['Religion']           NaN  \n",
       "3                     ['Fiction']           NaN  \n",
       "4                             NaN           NaN  \n",
       "5                    ['Religion']           5.0  \n",
       "8   ['Biography & Autobiography']           NaN  \n",
       "9              ['Social Science']           NaN  \n",
       "10                   ['Religion']           NaN  \n",
       "11                  ['Reference']           NaN  "
      ]
     },
     "execution_count": 32,
     "metadata": {},
     "output_type": "execute_result"
    }
   ],
   "source": [
    "#Eliminación de libros de la tabla de libros que no están en la tabla de reviews de libros registrados solo con ISBN\n",
    "titulos = df_reviews_titulos_con_isbn['Title'].to_numpy()\n",
    "print(\"Cantidad de titulos: {}\".format(len(titulos)))\n",
    "\n",
    "df_books = df_books[df_books['Title'].isin(titulos)]\n",
    "print(\"Cantidad de libros en tabla de libros:\")\n",
    "print(df_books.count())\n",
    "\n",
    "df_books.head(10)"
   ]
  },
  {
   "cell_type": "code",
   "execution_count": 33,
   "metadata": {
    "collapsed": false
   },
   "outputs": [
    {
     "name": "stdout",
     "output_type": "stream",
     "text": [
      "Cantidad de libros en tabla de libros solo con ISBN en tabla de reviews: 127339\n",
      "Cantidad de libros con ISBN que tienen una review : 1314561\n",
      "Cantidad de libros que tienen una review registrados con ISBN pero que no están en la tabla de libros\n",
      "Id                    0\n",
      "Title                 0\n",
      "Price                 0\n",
      "review/helpfulness    0\n",
      "review/score          0\n",
      "review/text           0\n",
      "dtype: int64\n",
      "Libros que tienen una review pero que no están registrados en la tabla de libros\n"
     ]
    },
    {
     "data": {
      "text/html": [
       "<div>\n",
       "<style scoped>\n",
       "    .dataframe tbody tr th:only-of-type {\n",
       "        vertical-align: middle;\n",
       "    }\n",
       "\n",
       "    .dataframe tbody tr th {\n",
       "        vertical-align: top;\n",
       "    }\n",
       "\n",
       "    .dataframe thead th {\n",
       "        text-align: right;\n",
       "    }\n",
       "</style>\n",
       "<table border=\"1\" class=\"dataframe\">\n",
       "  <thead>\n",
       "    <tr style=\"text-align: right;\">\n",
       "      <th></th>\n",
       "      <th>Id</th>\n",
       "      <th>Title</th>\n",
       "      <th>Price</th>\n",
       "      <th>review/helpfulness</th>\n",
       "      <th>review/score</th>\n",
       "      <th>review/text</th>\n",
       "    </tr>\n",
       "  </thead>\n",
       "  <tbody>\n",
       "  </tbody>\n",
       "</table>\n",
       "</div>"
      ],
      "text/plain": [
       "Empty DataFrame\n",
       "Columns: [Id, Title, Price, review/helpfulness, review/score, review/text]\n",
       "Index: []"
      ]
     },
     "execution_count": 33,
     "metadata": {},
     "output_type": "execute_result"
    }
   ],
   "source": [
    "#Titulos de libros que están en el archivo de reviews pero no en el de libros\n",
    "\n",
    "array_titulos = df_books['Title'].to_numpy()\n",
    "print(f\"Cantidad de libros en tabla de libros solo con ISBN en tabla de reviews: {len(array_titulos)}\")\n",
    "print(f\"Cantidad de libros con ISBN que tienen una review : {df_reviews['Title'].count()}\")\n",
    "\n",
    "df_reviews_not_in_books = df_reviews[~df_reviews['Title'].isin(array_titulos)]\n",
    "print(\"Cantidad de libros que tienen una review registrados con ISBN pero que no están en la tabla de libros\")\n",
    "print(df_reviews_not_in_books.count())\n",
    "\n",
    "print(\"Libros que tienen una review pero que no están registrados en la tabla de libros\") #Capaz que se pueden eliminar tambien\n",
    "df_reviews_not_in_books.head(10)"
   ]
  },
  {
   "cell_type": "code",
   "execution_count": 22,
   "metadata": {
    "collapsed": false
   },
   "outputs": [],
   "source": [
    "# guardar los resultados df_books\n",
    "df_books.drop(['image', 'previewLink', 'publishedDate'], axis=1)\n",
    "df_books.to_csv('data/1_books.csv')"
   ]
  },
  {
   "cell_type": "code",
   "execution_count": 23,
   "metadata": {},
   "outputs": [],
   "source": [
    "# guardar los resultados df_reviews\n",
    "df_reviews.to_csv('data/1_reviews.csv')"
   ]
  },
  {
   "cell_type": "markdown",
   "metadata": {},
   "source": [
    "### Segunda etapa de preprocesado\n",
    "\n",
    "Se trabaja sobre los datasets obtenidos en la etapa anterior"
   ]
  },
  {
   "cell_type": "code",
   "execution_count": null,
   "metadata": {},
   "outputs": [],
   "source": [
    "import pandas as pd\n",
    "import numpy as np\n",
    "from fuzzy_match import algorithims"
   ]
  },
  {
   "cell_type": "code",
   "execution_count": null,
   "metadata": {},
   "outputs": [],
   "source": [
    "df_reviews_ids_numericos_only = pd.read_csv('data/books_reviews_isbn.csv')"
   ]
  },
  {
   "cell_type": "code",
   "execution_count": null,
   "metadata": {},
   "outputs": [],
   "source": [
    "df_reviews_unique_ids_numericos_only = pd.read_csv('data/reviews_unique_ids_numericos_only.csv')"
   ]
  },
  {
   "cell_type": "markdown",
   "metadata": {},
   "source": [
    "#### Cambiar review/text por enteros"
   ]
  },
  {
   "cell_type": "code",
   "execution_count": null,
   "metadata": {
    "id": "RMqZ977C-3kh"
   },
   "outputs": [],
   "source": [
    "# la idea de este codigo es reemplazar cada texto por su conteo de caracteres no vacios\n",
    "\n",
    "# def filtro_fila_summ(row):\n",
    "#     return len(str(row['review/summary']).replace(' ', ''))\n",
    "\n",
    "# def filtro_fila_review(row):\n",
    "#     return len(str(row['review/text']).replace(' ', ''))\n",
    "\n",
    "# df_reviews['review/summary']    = df_reviews.apply(filtro_fila_summ, axis=1)\n",
    "# df_reviews['review/text']       = df_reviews.apply(filtro_fila_review, axis=1)\n",
    "# df_reviews.to_csv('reviews_condensed.csv')"
   ]
  },
  {
   "cell_type": "markdown",
   "metadata": {
    "id": "ho3ADH-B-3kh"
   },
   "source": [
    "### Filtrado y conteos"
   ]
  },
  {
   "cell_type": "code",
   "execution_count": null,
   "metadata": {
    "id": "Xcv_p0aR-3kh"
   },
   "outputs": [],
   "source": [
    "# obtener un nuevo datasets de libros ordenado\n",
    "# df_books.sort_values(by='Title').to_csv('books_sorted_by_title.csv')"
   ]
  },
  {
   "cell_type": "code",
   "execution_count": null,
   "metadata": {
    "id": "jF4MaO51-3kh"
   },
   "outputs": [],
   "source": [
    "# contar y almacenar las reviews de cada libro\n",
    "# df_books[['Id', 'Title']].value_counts().to_csv('reviews_counts.csv')"
   ]
  }
 ],
 "metadata": {
  "colab": {
   "provenance": []
  },
  "kernelspec": {
   "display_name": "py310_iar",
   "language": "python",
   "name": "python3"
  },
  "language_info": {
   "codemirror_mode": {
    "name": "ipython",
    "version": 3
   },
   "file_extension": ".py",
   "mimetype": "text/x-python",
   "name": "python",
   "nbconvert_exporter": "python",
   "pygments_lexer": "ipython3",
   "version": "3.10.6"
  },
  "orig_nbformat": 4
 },
 "nbformat": 4,
 "nbformat_minor": 0
}
