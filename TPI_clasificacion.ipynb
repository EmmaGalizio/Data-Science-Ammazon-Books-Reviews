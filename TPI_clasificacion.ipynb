{
 "cells": [
  {
   "cell_type": "markdown",
   "metadata": {},
   "source": [
    "## Preprocesado"
   ]
  },
  {
   "cell_type": "code",
   "execution_count": 1,
   "metadata": {},
   "outputs": [],
   "source": [
    "import numpy as np\n",
    "import pandas as pd\n",
    "import matplotlib.pyplot as plt\n",
    "import seaborn as sns"
   ]
  },
  {
   "cell_type": "code",
   "execution_count": 2,
   "metadata": {},
   "outputs": [
    {
     "name": "stdout",
     "output_type": "stream",
     "text": [
      "<class 'pandas.core.frame.DataFrame'>\n",
      "RangeIndex: 77406 entries, 0 to 77405\n",
      "Data columns (total 12 columns):\n",
      " #   Column                    Non-Null Count  Dtype  \n",
      "---  ------                    --------------  -----  \n",
      " 0   Id                        77406 non-null  object \n",
      " 1   review/score              77406 non-null  float64\n",
      " 2   review/text               77406 non-null  int64  \n",
      " 3   Title                     77406 non-null  object \n",
      " 4   authors                   77406 non-null  object \n",
      " 5   publisher                 77406 non-null  object \n",
      " 6   publishedDate             77406 non-null  int64  \n",
      " 7   categories                77406 non-null  object \n",
      " 8   Price                     77406 non-null  float64\n",
      " 9   conteo                    77406 non-null  int64  \n",
      " 10  review_helpfulness_up     77406 non-null  int64  \n",
      " 11  review_helpfulness_total  77406 non-null  int64  \n",
      "dtypes: float64(2), int64(5), object(5)\n",
      "memory usage: 7.1+ MB\n"
     ]
    }
   ],
   "source": [
    "df = pd.read_csv('data/reviews_final.csv')\n",
    "df.info()"
   ]
  },
  {
   "cell_type": "code",
   "execution_count": 3,
   "metadata": {},
   "outputs": [
    {
     "data": {
      "text/plain": "           Id  review/score  review/text                       Title  \\\n0  0312267932           4.0          620  When All Hell Breaks Loose   \n1  0312267932           5.0          146  When All Hell Breaks Loose   \n2  0312267932           4.0          429  When All Hell Breaks Loose   \n\n                             authors               publisher  publishedDate  \\\n0  ['Cody Lundin', 'Russell Miller']  Gibbs Smith Publishers           2007   \n1  ['Cody Lundin', 'Russell Miller']  Gibbs Smith Publishers           2007   \n2  ['Cody Lundin', 'Russell Miller']  Gibbs Smith Publishers           2007   \n\n         categories  Price  conteo  review_helpfulness_up  \\\n0  Health & Fitness  13.25     126                      0   \n1  Health & Fitness  13.25     126                      0   \n2  Health & Fitness  13.25     126                      0   \n\n   review_helpfulness_total  \n0                         0  \n1                         0  \n2                         0  ",
      "text/html": "<div>\n<style scoped>\n    .dataframe tbody tr th:only-of-type {\n        vertical-align: middle;\n    }\n\n    .dataframe tbody tr th {\n        vertical-align: top;\n    }\n\n    .dataframe thead th {\n        text-align: right;\n    }\n</style>\n<table border=\"1\" class=\"dataframe\">\n  <thead>\n    <tr style=\"text-align: right;\">\n      <th></th>\n      <th>Id</th>\n      <th>review/score</th>\n      <th>review/text</th>\n      <th>Title</th>\n      <th>authors</th>\n      <th>publisher</th>\n      <th>publishedDate</th>\n      <th>categories</th>\n      <th>Price</th>\n      <th>conteo</th>\n      <th>review_helpfulness_up</th>\n      <th>review_helpfulness_total</th>\n    </tr>\n  </thead>\n  <tbody>\n    <tr>\n      <th>0</th>\n      <td>0312267932</td>\n      <td>4.0</td>\n      <td>620</td>\n      <td>When All Hell Breaks Loose</td>\n      <td>['Cody Lundin', 'Russell Miller']</td>\n      <td>Gibbs Smith Publishers</td>\n      <td>2007</td>\n      <td>Health &amp; Fitness</td>\n      <td>13.25</td>\n      <td>126</td>\n      <td>0</td>\n      <td>0</td>\n    </tr>\n    <tr>\n      <th>1</th>\n      <td>0312267932</td>\n      <td>5.0</td>\n      <td>146</td>\n      <td>When All Hell Breaks Loose</td>\n      <td>['Cody Lundin', 'Russell Miller']</td>\n      <td>Gibbs Smith Publishers</td>\n      <td>2007</td>\n      <td>Health &amp; Fitness</td>\n      <td>13.25</td>\n      <td>126</td>\n      <td>0</td>\n      <td>0</td>\n    </tr>\n    <tr>\n      <th>2</th>\n      <td>0312267932</td>\n      <td>4.0</td>\n      <td>429</td>\n      <td>When All Hell Breaks Loose</td>\n      <td>['Cody Lundin', 'Russell Miller']</td>\n      <td>Gibbs Smith Publishers</td>\n      <td>2007</td>\n      <td>Health &amp; Fitness</td>\n      <td>13.25</td>\n      <td>126</td>\n      <td>0</td>\n      <td>0</td>\n    </tr>\n  </tbody>\n</table>\n</div>"
     },
     "execution_count": 3,
     "metadata": {},
     "output_type": "execute_result"
    }
   ],
   "source": [
    "df.head(3)"
   ]
  },
  {
   "cell_type": "markdown",
   "metadata": {},
   "source": [
    "### Preprocesado para Precio"
   ]
  },
  {
   "cell_type": "code",
   "execution_count": 4,
   "metadata": {},
   "outputs": [
    {
     "name": "stderr",
     "output_type": "stream",
     "text": [
      "D:\\Repo ciencias de datos\\venv\\Lib\\site-packages\\sklearn\\preprocessing\\_function_transformer.py:345: UserWarning: With transform=\"pandas\", `func` should return a DataFrame to follow the set_output API.\n",
      "  warnings.warn(\n"
     ]
    }
   ],
   "source": [
    "from sklearn.compose import ColumnTransformer\n",
    "from sklearn.pipeline import Pipeline\n",
    "from sklearn.preprocessing import OneHotEncoder, FunctionTransformer, StandardScaler\n",
    "\n",
    "# preprocesado para Precio\n",
    "pipeline_price = Pipeline([\n",
    "    (\n",
    "        'onehot-log',\n",
    "        ColumnTransformer(\n",
    "            transformers=[\n",
    "                (\n",
    "                    'onehot',\n",
    "                    OneHotEncoder(\n",
    "                        sparse_output=False, \n",
    "                        dtype=np.uint8, \n",
    "                        handle_unknown='ignore'\n",
    "                        ),\n",
    "                        ['publisher', 'categories']\n",
    "                ),\n",
    "                (\n",
    "                    'log',\n",
    "                    FunctionTransformer(np.log1p),\n",
    "                    ['review/text','review_helpfulness_up', 'review_helpfulness_total']\n",
    "                ),\n",
    "            ],\n",
    "            remainder='passthrough',\n",
    "            verbose_feature_names_out=False\n",
    "        ).set_output(transform='pandas')\n",
    "    ),\n",
    "    (\n",
    "        'z-score',\n",
    "        ColumnTransformer(\n",
    "            transformers=[\n",
    "                (\n",
    "                    'z-score',\n",
    "                    StandardScaler(),\n",
    "                    ['review/text','review/score', 'conteo', 'review_helpfulness_up', 'review_helpfulness_total', 'publishedDate']\n",
    "                ),\n",
    "                (\n",
    "                    'drop_id_title',\n",
    "                    'drop',\n",
    "                    ['authors', 'Id', 'Title']\n",
    "                )\n",
    "            ],\n",
    "            remainder='passthrough',\n",
    "            verbose_feature_names_out=False\n",
    "        ).set_output(transform='pandas')\n",
    "    )\n",
    "])\n",
    "\n",
    "df_cod_price = pipeline_price.fit_transform(df)"
   ]
  },
  {
   "cell_type": "code",
   "execution_count": 5,
   "metadata": {},
   "outputs": [
    {
     "data": {
      "text/plain": "   review/text  review/score    conteo  review_helpfulness_up  \\\n0     0.415234     -0.140123 -0.623558              -0.888768   \n1    -1.113057      0.657171 -0.623558              -0.888768   \n2     0.025396     -0.140123 -0.623558              -0.888768   \n3    -0.078165     -0.140123 -0.623558              -0.888768   \n4    -1.500682     -0.140123 -0.623558              -0.888768   \n\n   review_helpfulness_total  publishedDate  publisher_\"O'Reilly Media, Inc.\"  \\\n0                 -1.014195       0.138193                                 0   \n1                 -1.014195       0.138193                                 0   \n2                 -1.014195       0.138193                                 0   \n3                 -1.014195       0.138193                                 0   \n4                 -1.014195       0.138193                                 0   \n\n   publisher_Ags Pub  publisher_Amber House Books  publisher_Amereon Limited  \\\n0                  0                            0                          0   \n1                  0                            0                          0   \n2                  0                            0                          0   \n3                  0                            0                          0   \n4                  0                            0                          0   \n\n   ...  categories_Religion  categories_Science  categories_Self-Help  \\\n0  ...                    0                   0                     0   \n1  ...                    0                   0                     0   \n2  ...                    0                   0                     0   \n3  ...                    0                   0                     0   \n4  ...                    0                   0                     0   \n\n   categories_Social Science  categories_Sports & Recreation  \\\n0                          0                               0   \n1                          0                               0   \n2                          0                               0   \n3                          0                               0   \n4                          0                               0   \n\n   categories_Technology & Engineering  categories_True Crime  \\\n0                                    0                      0   \n1                                    0                      0   \n2                                    0                      0   \n3                                    0                      0   \n4                                    0                      0   \n\n   categories_Young Adult Fiction  categories_Young Adult Nonfiction  Price  \n0                               0                                  0  13.25  \n1                               0                                  0  13.25  \n2                               0                                  0  13.25  \n3                               0                                  0  13.25  \n4                               0                                  0  13.25  \n\n[5 rows x 259 columns]",
      "text/html": "<div>\n<style scoped>\n    .dataframe tbody tr th:only-of-type {\n        vertical-align: middle;\n    }\n\n    .dataframe tbody tr th {\n        vertical-align: top;\n    }\n\n    .dataframe thead th {\n        text-align: right;\n    }\n</style>\n<table border=\"1\" class=\"dataframe\">\n  <thead>\n    <tr style=\"text-align: right;\">\n      <th></th>\n      <th>review/text</th>\n      <th>review/score</th>\n      <th>conteo</th>\n      <th>review_helpfulness_up</th>\n      <th>review_helpfulness_total</th>\n      <th>publishedDate</th>\n      <th>publisher_\"O'Reilly Media, Inc.\"</th>\n      <th>publisher_Ags Pub</th>\n      <th>publisher_Amber House Books</th>\n      <th>publisher_Amereon Limited</th>\n      <th>...</th>\n      <th>categories_Religion</th>\n      <th>categories_Science</th>\n      <th>categories_Self-Help</th>\n      <th>categories_Social Science</th>\n      <th>categories_Sports &amp; Recreation</th>\n      <th>categories_Technology &amp; Engineering</th>\n      <th>categories_True Crime</th>\n      <th>categories_Young Adult Fiction</th>\n      <th>categories_Young Adult Nonfiction</th>\n      <th>Price</th>\n    </tr>\n  </thead>\n  <tbody>\n    <tr>\n      <th>0</th>\n      <td>0.415234</td>\n      <td>-0.140123</td>\n      <td>-0.623558</td>\n      <td>-0.888768</td>\n      <td>-1.014195</td>\n      <td>0.138193</td>\n      <td>0</td>\n      <td>0</td>\n      <td>0</td>\n      <td>0</td>\n      <td>...</td>\n      <td>0</td>\n      <td>0</td>\n      <td>0</td>\n      <td>0</td>\n      <td>0</td>\n      <td>0</td>\n      <td>0</td>\n      <td>0</td>\n      <td>0</td>\n      <td>13.25</td>\n    </tr>\n    <tr>\n      <th>1</th>\n      <td>-1.113057</td>\n      <td>0.657171</td>\n      <td>-0.623558</td>\n      <td>-0.888768</td>\n      <td>-1.014195</td>\n      <td>0.138193</td>\n      <td>0</td>\n      <td>0</td>\n      <td>0</td>\n      <td>0</td>\n      <td>...</td>\n      <td>0</td>\n      <td>0</td>\n      <td>0</td>\n      <td>0</td>\n      <td>0</td>\n      <td>0</td>\n      <td>0</td>\n      <td>0</td>\n      <td>0</td>\n      <td>13.25</td>\n    </tr>\n    <tr>\n      <th>2</th>\n      <td>0.025396</td>\n      <td>-0.140123</td>\n      <td>-0.623558</td>\n      <td>-0.888768</td>\n      <td>-1.014195</td>\n      <td>0.138193</td>\n      <td>0</td>\n      <td>0</td>\n      <td>0</td>\n      <td>0</td>\n      <td>...</td>\n      <td>0</td>\n      <td>0</td>\n      <td>0</td>\n      <td>0</td>\n      <td>0</td>\n      <td>0</td>\n      <td>0</td>\n      <td>0</td>\n      <td>0</td>\n      <td>13.25</td>\n    </tr>\n    <tr>\n      <th>3</th>\n      <td>-0.078165</td>\n      <td>-0.140123</td>\n      <td>-0.623558</td>\n      <td>-0.888768</td>\n      <td>-1.014195</td>\n      <td>0.138193</td>\n      <td>0</td>\n      <td>0</td>\n      <td>0</td>\n      <td>0</td>\n      <td>...</td>\n      <td>0</td>\n      <td>0</td>\n      <td>0</td>\n      <td>0</td>\n      <td>0</td>\n      <td>0</td>\n      <td>0</td>\n      <td>0</td>\n      <td>0</td>\n      <td>13.25</td>\n    </tr>\n    <tr>\n      <th>4</th>\n      <td>-1.500682</td>\n      <td>-0.140123</td>\n      <td>-0.623558</td>\n      <td>-0.888768</td>\n      <td>-1.014195</td>\n      <td>0.138193</td>\n      <td>0</td>\n      <td>0</td>\n      <td>0</td>\n      <td>0</td>\n      <td>...</td>\n      <td>0</td>\n      <td>0</td>\n      <td>0</td>\n      <td>0</td>\n      <td>0</td>\n      <td>0</td>\n      <td>0</td>\n      <td>0</td>\n      <td>0</td>\n      <td>13.25</td>\n    </tr>\n  </tbody>\n</table>\n<p>5 rows × 259 columns</p>\n</div>"
     },
     "execution_count": 5,
     "metadata": {},
     "output_type": "execute_result"
    }
   ],
   "source": [
    "df_cod_price.head(5)"
   ]
  },
  {
   "cell_type": "markdown",
   "metadata": {},
   "source": [
    "### Preprocesado para Rating"
   ]
  },
  {
   "cell_type": "code",
   "execution_count": 6,
   "metadata": {},
   "outputs": [
    {
     "name": "stderr",
     "output_type": "stream",
     "text": [
      "D:\\Repo ciencias de datos\\venv\\Lib\\site-packages\\sklearn\\preprocessing\\_function_transformer.py:345: UserWarning: With transform=\"pandas\", `func` should return a DataFrame to follow the set_output API.\n",
      "  warnings.warn(\n"
     ]
    }
   ],
   "source": [
    "\n",
    "from sklearn.preprocessing import FunctionTransformer\n",
    "import ast\n",
    "\n",
    "def transform_authors(authors_column):\n",
    "    authors_column['authors'] = authors_column['authors'].apply(ast.literal_eval)\n",
    "    authors_column['authors'] = authors_column['authors'].apply(lambda x: ', '.join(x))\n",
    "    dummies = pd.get_dummies(authors_column['authors'].apply(lambda x: x.split(', ')).apply(pd.Series))\n",
    "    return dummies\n",
    "    # return authors_column\n",
    "\n",
    "authors_transformer = FunctionTransformer(transform_authors, validate=False)\n",
    "\n",
    "pipeline_rating = Pipeline([\n",
    "    (\n",
    "        'one-hot-transformer',\n",
    "        ColumnTransformer(\n",
    "            transformers=[\n",
    "                (\n",
    "                    'authors',\n",
    "                    authors_transformer,  # Usa el transformer personalizado para 'authors'\n",
    "                    ['authors']\n",
    "                ),\n",
    "                (\n",
    "                    'onehot',\n",
    "                    OneHotEncoder(\n",
    "                        sparse_output=False, \n",
    "                        dtype=np.uint8, \n",
    "                        handle_unknown='ignore'\n",
    "                    ),\n",
    "                    ['publisher', 'categories']\n",
    "                ),\n",
    "                (\n",
    "                    'log',\n",
    "                    FunctionTransformer(np.log1p),\n",
    "                    ['review/text','review_helpfulness_up', 'review_helpfulness_total']\n",
    "                )\n",
    "            ],\n",
    "            remainder='passthrough',\n",
    "            verbose_feature_names_out=False\n",
    "        ).set_output(transform='pandas')\n",
    "    ),\n",
    "    (\n",
    "        'z-score-transformer',\n",
    "        ColumnTransformer(\n",
    "            transformers=[\n",
    "                (\n",
    "                    'z-score',\n",
    "                    StandardScaler(),\n",
    "                    ['review/text', 'Price', 'conteo', 'review_helpfulness_up', 'review_helpfulness_total', 'publishedDate']\n",
    "                ),\n",
    "                (\n",
    "                    'drop_id_title',\n",
    "                    'drop',\n",
    "                    ['Id', 'Title']\n",
    "                )\n",
    "            ],\n",
    "            remainder='passthrough',\n",
    "            verbose_feature_names_out=False\n",
    "        ).set_output(transform='pandas')\n",
    "    ),\n",
    "    (\n",
    "        'rating-to-int',\n",
    "        ColumnTransformer(\n",
    "            transformers=[\n",
    "                (\n",
    "                    'rating-to-int',\n",
    "                     FunctionTransformer(lambda x: x.astype(int), validate=False),\n",
    "                    ['review/score']\n",
    "                )\n",
    "            ],\n",
    "            remainder='passthrough',\n",
    "            verbose_feature_names_out=False\n",
    "        ).set_output(transform='pandas')\n",
    "    )\n",
    "\n",
    "])\n",
    "\n",
    "df_cod_rating = pipeline_rating.fit_transform(df)"
   ]
  },
  {
   "cell_type": "code",
   "execution_count": 7,
   "metadata": {},
   "outputs": [
    {
     "data": {
      "text/plain": "   review/score  review/text     Price    conteo  review_helpfulness_up  \\\n0             4     0.415234 -0.353991 -0.623558              -0.888768   \n1             5    -1.113057 -0.353991 -0.623558              -0.888768   \n2             4     0.025396 -0.353991 -0.623558              -0.888768   \n3             4    -0.078165 -0.353991 -0.623558              -0.888768   \n4             4    -1.500682 -0.353991 -0.623558              -0.888768   \n\n   review_helpfulness_total  publishedDate  0_Agatha Christie  \\\n0                 -1.014195       0.138193              False   \n1                 -1.014195       0.138193              False   \n2                 -1.014195       0.138193              False   \n3                 -1.014195       0.138193              False   \n4                 -1.014195       0.138193              False   \n\n   0_Alexander Elder  0_Alexander McCall Smith  ...  categories_Reference  \\\n0              False                     False  ...                     0   \n1              False                     False  ...                     0   \n2              False                     False  ...                     0   \n3              False                     False  ...                     0   \n4              False                     False  ...                     0   \n\n   categories_Religion  categories_Science  categories_Self-Help  \\\n0                    0                   0                     0   \n1                    0                   0                     0   \n2                    0                   0                     0   \n3                    0                   0                     0   \n4                    0                   0                     0   \n\n   categories_Social Science  categories_Sports & Recreation  \\\n0                          0                               0   \n1                          0                               0   \n2                          0                               0   \n3                          0                               0   \n4                          0                               0   \n\n   categories_Technology & Engineering  categories_True Crime  \\\n0                                    0                      0   \n1                                    0                      0   \n2                                    0                      0   \n3                                    0                      0   \n4                                    0                      0   \n\n   categories_Young Adult Fiction  categories_Young Adult Nonfiction  \n0                               0                                  0  \n1                               0                                  0  \n2                               0                                  0  \n3                               0                                  0  \n4                               0                                  0  \n\n[5 rows x 605 columns]",
      "text/html": "<div>\n<style scoped>\n    .dataframe tbody tr th:only-of-type {\n        vertical-align: middle;\n    }\n\n    .dataframe tbody tr th {\n        vertical-align: top;\n    }\n\n    .dataframe thead th {\n        text-align: right;\n    }\n</style>\n<table border=\"1\" class=\"dataframe\">\n  <thead>\n    <tr style=\"text-align: right;\">\n      <th></th>\n      <th>review/score</th>\n      <th>review/text</th>\n      <th>Price</th>\n      <th>conteo</th>\n      <th>review_helpfulness_up</th>\n      <th>review_helpfulness_total</th>\n      <th>publishedDate</th>\n      <th>0_Agatha Christie</th>\n      <th>0_Alexander Elder</th>\n      <th>0_Alexander McCall Smith</th>\n      <th>...</th>\n      <th>categories_Reference</th>\n      <th>categories_Religion</th>\n      <th>categories_Science</th>\n      <th>categories_Self-Help</th>\n      <th>categories_Social Science</th>\n      <th>categories_Sports &amp; Recreation</th>\n      <th>categories_Technology &amp; Engineering</th>\n      <th>categories_True Crime</th>\n      <th>categories_Young Adult Fiction</th>\n      <th>categories_Young Adult Nonfiction</th>\n    </tr>\n  </thead>\n  <tbody>\n    <tr>\n      <th>0</th>\n      <td>4</td>\n      <td>0.415234</td>\n      <td>-0.353991</td>\n      <td>-0.623558</td>\n      <td>-0.888768</td>\n      <td>-1.014195</td>\n      <td>0.138193</td>\n      <td>False</td>\n      <td>False</td>\n      <td>False</td>\n      <td>...</td>\n      <td>0</td>\n      <td>0</td>\n      <td>0</td>\n      <td>0</td>\n      <td>0</td>\n      <td>0</td>\n      <td>0</td>\n      <td>0</td>\n      <td>0</td>\n      <td>0</td>\n    </tr>\n    <tr>\n      <th>1</th>\n      <td>5</td>\n      <td>-1.113057</td>\n      <td>-0.353991</td>\n      <td>-0.623558</td>\n      <td>-0.888768</td>\n      <td>-1.014195</td>\n      <td>0.138193</td>\n      <td>False</td>\n      <td>False</td>\n      <td>False</td>\n      <td>...</td>\n      <td>0</td>\n      <td>0</td>\n      <td>0</td>\n      <td>0</td>\n      <td>0</td>\n      <td>0</td>\n      <td>0</td>\n      <td>0</td>\n      <td>0</td>\n      <td>0</td>\n    </tr>\n    <tr>\n      <th>2</th>\n      <td>4</td>\n      <td>0.025396</td>\n      <td>-0.353991</td>\n      <td>-0.623558</td>\n      <td>-0.888768</td>\n      <td>-1.014195</td>\n      <td>0.138193</td>\n      <td>False</td>\n      <td>False</td>\n      <td>False</td>\n      <td>...</td>\n      <td>0</td>\n      <td>0</td>\n      <td>0</td>\n      <td>0</td>\n      <td>0</td>\n      <td>0</td>\n      <td>0</td>\n      <td>0</td>\n      <td>0</td>\n      <td>0</td>\n    </tr>\n    <tr>\n      <th>3</th>\n      <td>4</td>\n      <td>-0.078165</td>\n      <td>-0.353991</td>\n      <td>-0.623558</td>\n      <td>-0.888768</td>\n      <td>-1.014195</td>\n      <td>0.138193</td>\n      <td>False</td>\n      <td>False</td>\n      <td>False</td>\n      <td>...</td>\n      <td>0</td>\n      <td>0</td>\n      <td>0</td>\n      <td>0</td>\n      <td>0</td>\n      <td>0</td>\n      <td>0</td>\n      <td>0</td>\n      <td>0</td>\n      <td>0</td>\n    </tr>\n    <tr>\n      <th>4</th>\n      <td>4</td>\n      <td>-1.500682</td>\n      <td>-0.353991</td>\n      <td>-0.623558</td>\n      <td>-0.888768</td>\n      <td>-1.014195</td>\n      <td>0.138193</td>\n      <td>False</td>\n      <td>False</td>\n      <td>False</td>\n      <td>...</td>\n      <td>0</td>\n      <td>0</td>\n      <td>0</td>\n      <td>0</td>\n      <td>0</td>\n      <td>0</td>\n      <td>0</td>\n      <td>0</td>\n      <td>0</td>\n      <td>0</td>\n    </tr>\n  </tbody>\n</table>\n<p>5 rows × 605 columns</p>\n</div>"
     },
     "execution_count": 7,
     "metadata": {},
     "output_type": "execute_result"
    }
   ],
   "source": [
    "df_cod_rating.head(5)"
   ]
  },
  {
   "cell_type": "code",
   "execution_count": 8,
   "metadata": {
    "collapsed": false
   },
   "outputs": [
    {
     "data": {
      "text/plain": "review/score                             int32\nreview/text                            float64\nPrice                                  float64\nconteo                                 float64\nreview_helpfulness_up                  float64\n                                        ...   \ncategories_Sports & Recreation           uint8\ncategories_Technology & Engineering      uint8\ncategories_True Crime                    uint8\ncategories_Young Adult Fiction           uint8\ncategories_Young Adult Nonfiction        uint8\nLength: 605, dtype: object"
     },
     "execution_count": 8,
     "metadata": {},
     "output_type": "execute_result"
    }
   ],
   "source": [
    "df_cod_rating.dtypes"
   ]
  },
  {
   "cell_type": "code",
   "execution_count": 9,
   "metadata": {
    "collapsed": false
   },
   "outputs": [
    {
     "data": {
      "text/plain": "array([4, 5, 3, 2, 1])"
     },
     "execution_count": 9,
     "metadata": {},
     "output_type": "execute_result"
    }
   ],
   "source": [
    "clases_rating = df_cod_rating['review/score'].unique()\n",
    "clases_rating"
   ]
  },
  {
   "cell_type": "markdown",
   "metadata": {},
   "source": [
    "## Separacion de los datos de entrenamiento"
   ]
  },
  {
   "cell_type": "code",
   "execution_count": 10,
   "metadata": {},
   "outputs": [],
   "source": [
    "from sklearn.model_selection import train_test_split\n",
    "from sklearn.ensemble import RandomForestClassifier\n",
    "from sklearn.metrics import confusion_matrix, accuracy_score, precision_score, recall_score, f1_score\n",
    "from sklearn.metrics import mean_absolute_error\n",
    "from sklearn.metrics import mean_squared_error, r2_score, median_absolute_error\n",
    "import time"
   ]
  },
  {
   "cell_type": "markdown",
   "metadata": {},
   "source": [
    "### Separacion para Hipotesis Precio"
   ]
  },
  {
   "cell_type": "code",
   "execution_count": 11,
   "metadata": {},
   "outputs": [],
   "source": [
    "df_price_train, df_price_val = train_test_split(df_cod_price, test_size=0.25, random_state=42, stratify=df_cod_price['Price'])"
   ]
  },
  {
   "cell_type": "code",
   "execution_count": 12,
   "metadata": {},
   "outputs": [],
   "source": [
    "X_price_train = df_price_train.drop(columns='Price')\n",
    "Y_price_train = df_price_train['Price']\n",
    "\n",
    "X_price_val = df_price_val.drop(columns='Price')\n",
    "Y_price_val = df_price_val['Price']"
   ]
  },
  {
   "cell_type": "markdown",
   "metadata": {},
   "source": [
    "### Separacion para Hipotesis Rating"
   ]
  },
  {
   "cell_type": "code",
   "execution_count": 13,
   "metadata": {},
   "outputs": [],
   "source": [
    "df_rating_train, df_rating_val = train_test_split(df_cod_rating, test_size=0.25, random_state=42, stratify=df_cod_rating['review/score'])"
   ]
  },
  {
   "cell_type": "code",
   "execution_count": 14,
   "metadata": {},
   "outputs": [],
   "source": [
    "X_rating_train = df_rating_train.drop(columns='review/score')\n",
    "Y_rating_train = df_rating_train['review/score']\n",
    "\n",
    "X_rating_val = df_rating_val.drop(columns='review/score')\n",
    "Y_rating_val = df_rating_val['review/score']"
   ]
  },
  {
   "cell_type": "code",
   "execution_count": 15,
   "metadata": {
    "collapsed": false
   },
   "outputs": [
    {
     "data": {
      "text/plain": "array([4, 5, 3, 1, 2])"
     },
     "execution_count": 15,
     "metadata": {},
     "output_type": "execute_result"
    }
   ],
   "source": [
    "clases_rating = df_rating_train['review/score'].unique()\n",
    "clases_rating"
   ]
  },
  {
   "cell_type": "markdown",
   "metadata": {},
   "source": [
    "### Entrenamiento para Hipotesis Rating"
   ]
  },
  {
   "cell_type": "markdown",
   "source": [
    "### Clasificador Random Forest"
   ],
   "metadata": {
    "collapsed": false
   }
  },
  {
   "cell_type": "code",
   "execution_count": 16,
   "metadata": {},
   "outputs": [
    {
     "name": "stdout",
     "output_type": "stream",
     "text": [
      "Tiempo de entrenamiento: 15.520600080490112 segundos\n"
     ]
    }
   ],
   "source": [
    "rf_rating = RandomForestClassifier(n_estimators = 120, max_depth = 15, class_weight = 'balanced')\n",
    "start = time.time()\n",
    "rf_rating.fit(X_rating_train, Y_rating_train)\n",
    "end = time.time()\n",
    "print(f\"Tiempo de entrenamiento: {end-start} segundos\")"
   ]
  },
  {
   "cell_type": "code",
   "execution_count": 17,
   "metadata": {},
   "outputs": [],
   "source": [
    "predicciones_train_rating = rf_rating.predict(X_rating_train)"
   ]
  },
  {
   "cell_type": "code",
   "execution_count": 18,
   "metadata": {},
   "outputs": [
    {
     "name": "stdout",
     "output_type": "stream",
     "text": [
      "Exactitud en los datos de entrenamiento: 0.60\n"
     ]
    }
   ],
   "source": [
    "accuracy_train_rating = accuracy_score(Y_rating_train, predicciones_train_rating)\n",
    "print(f'Exactitud en los datos de entrenamiento: {accuracy_train_rating:.2f}')"
   ]
  },
  {
   "cell_type": "markdown",
   "source": [
    "### Clasificador MLP (Multilayer Perceptron)"
   ],
   "metadata": {
    "collapsed": false
   }
  },
  {
   "cell_type": "code",
   "execution_count": 19,
   "outputs": [
    {
     "name": "stdout",
     "output_type": "stream",
     "text": [
      "Tiempo de entrenamiento: 353.1103985309601 segundos\n"
     ]
    },
    {
     "name": "stderr",
     "output_type": "stream",
     "text": [
      "D:\\Repo ciencias de datos\\venv\\Lib\\site-packages\\sklearn\\neural_network\\_multilayer_perceptron.py:691: ConvergenceWarning: Stochastic Optimizer: Maximum iterations (300) reached and the optimization hasn't converged yet.\n",
      "  warnings.warn(\n"
     ]
    }
   ],
   "source": [
    "from sklearn.neural_network import MLPClassifier\n",
    "\n",
    "start = time.time()\n",
    "mlp_rating = MLPClassifier(hidden_layer_sizes=(10,20,10), max_iter=300, activation='logistic', alpha=0.001,  random_state=17)\n",
    "mlp_rating.fit(X_rating_train, Y_rating_train)\n",
    "end = time.time()\n",
    "\n",
    "print(f\"Tiempo de entrenamiento: {end-start} segundos\")"
   ],
   "metadata": {
    "collapsed": false
   }
  },
  {
   "cell_type": "code",
   "execution_count": 20,
   "outputs": [],
   "source": [
    "predicciones_train_rating_MLP = mlp_rating.predict(X_rating_train)"
   ],
   "metadata": {
    "collapsed": false
   }
  },
  {
   "cell_type": "code",
   "execution_count": 21,
   "outputs": [
    {
     "name": "stdout",
     "output_type": "stream",
     "text": [
      "Exactitud en los datos de entrenamiento: 0.66\n"
     ]
    }
   ],
   "source": [
    "accuracy_train_rating_MLP = accuracy_score(Y_rating_train, predicciones_train_rating_MLP)\n",
    "print(f'Exactitud en los datos de entrenamiento: {accuracy_train_rating_MLP:.2f}')"
   ],
   "metadata": {
    "collapsed": false
   }
  },
  {
   "cell_type": "markdown",
   "source": [],
   "metadata": {
    "collapsed": false
   }
  },
  {
   "cell_type": "markdown",
   "metadata": {},
   "source": [
    "### Entrenamiento para Hipotesis Precio"
   ]
  },
  {
   "cell_type": "markdown",
   "source": [
    "### Regresor MLP"
   ],
   "metadata": {
    "collapsed": false
   }
  },
  {
   "cell_type": "code",
   "execution_count": 22,
   "metadata": {},
   "outputs": [
    {
     "name": "stdout",
     "output_type": "stream",
     "text": [
      "Tiempo de entrenamiento: 180.48849272727966\n"
     ]
    }
   ],
   "source": [
    "from sklearn.neural_network import MLPRegressor\n",
    "\n",
    "start = time.time()\n",
    "mlp_precio = MLPRegressor(hidden_layer_sizes=(20,20,20), max_iter=400, activation='logistic', alpha=0.001,  random_state=17)\n",
    "mlp_precio.fit(X_price_train, Y_price_train)\n",
    "end = time.time()\n",
    "\n",
    "print(f\"Tiempo de entrenamiento: {end-start}\")"
   ]
  },
  {
   "cell_type": "code",
   "execution_count": 23,
   "metadata": {},
   "outputs": [
    {
     "name": "stdout",
     "output_type": "stream",
     "text": [
      "Error cuadrático medio: 7.49\n"
     ]
    }
   ],
   "source": [
    "predicciones_train_price = mlp_precio.predict(X_price_train)\n",
    "mse_price = mean_squared_error(Y_price_train, predicciones_train_price)\n",
    "print(f'Error cuadrático medio: {mse_price:.2f}')"
   ]
  },
  {
   "cell_type": "code",
   "execution_count": 24,
   "outputs": [
    {
     "name": "stdout",
     "output_type": "stream",
     "text": [
      "Error absoluto medio: 0.78\n",
      "R-squared (variabilidad capturada): 0.97\n",
      "Raiz cuadrada del MSE: 2.74\n",
      "Error Absoluto mediano: 0.18536742357472846\n"
     ]
    }
   ],
   "source": [
    "mae_price_train = mean_absolute_error(Y_price_train, predicciones_train_price)\n",
    "r2_price_train = r2_score(Y_price_train, predicciones_train_price)\n",
    "rmse_price_train = np.sqrt(mse_price)\n",
    "medae_prive_train = median_absolute_error(Y_price_train, predicciones_train_price)\n",
    "print(f'Error absoluto medio: {mae_price_train:.2f}')\n",
    "print(f'R-squared (variabilidad capturada): {r2_price_train:.2f}')\n",
    "print(f'Raiz cuadrada del MSE: {rmse_price_train:.2f}')\n",
    "print(f\"Error Absoluto mediano: {medae_prive_train}\") #Menos susceptible a valores extremos que el MAE"
   ],
   "metadata": {
    "collapsed": false
   }
  },
  {
   "cell_type": "markdown",
   "source": [
    "### Regresor Random Forest"
   ],
   "metadata": {
    "collapsed": false
   }
  },
  {
   "cell_type": "code",
   "execution_count": 25,
   "outputs": [
    {
     "name": "stdout",
     "output_type": "stream",
     "text": [
      "Tiempo de entrenamiento: 89.37285614013672 segundos\n"
     ]
    }
   ],
   "source": [
    "from sklearn.ensemble import RandomForestRegressor\n",
    "rf_price = RandomForestRegressor(n_estimators = 150, max_depth = 15)\n",
    "start = time.time()\n",
    "rf_price.fit(X_price_train, Y_price_train)\n",
    "end = time.time()\n",
    "print(f\"Tiempo de entrenamiento: {end-start} segundos\")\n"
   ],
   "metadata": {
    "collapsed": false
   }
  },
  {
   "cell_type": "code",
   "execution_count": 26,
   "outputs": [
    {
     "name": "stdout",
     "output_type": "stream",
     "text": [
      "Error cuadrático medio: 54.93\n"
     ]
    }
   ],
   "source": [
    "predicciones_train_price_rf = rf_price.predict(X_price_train)\n",
    "mse_price_rf = mean_squared_error(Y_price_train, predicciones_train_price_rf)\n",
    "print(f'Error cuadrático medio: {mse_price_rf:.2f}')"
   ],
   "metadata": {
    "collapsed": false
   }
  },
  {
   "cell_type": "code",
   "execution_count": 27,
   "outputs": [
    {
     "name": "stdout",
     "output_type": "stream",
     "text": [
      "Error absoluto medio: 5.06\n",
      "R-squared (variabilidad capturada): 0.79\n",
      "Raiz cuadrada del MSE: 7.41\n",
      "Error Absoluto mediano: 4.28091185718805\n"
     ]
    }
   ],
   "source": [
    "mae_price_train_rf = mean_absolute_error(Y_price_train, predicciones_train_price_rf)\n",
    "r2_price_train_rf = r2_score(Y_price_train, predicciones_train_price_rf)\n",
    "rmse_price_train_rf = np.sqrt(mse_price_rf)\n",
    "medae_prive_train_rf = median_absolute_error(Y_price_train, predicciones_train_price_rf)\n",
    "print(f'Error absoluto medio: {mae_price_train_rf:.2f}')\n",
    "print(f'R-squared (variabilidad capturada): {r2_price_train_rf:.2f}')\n",
    "print(f'Raiz cuadrada del MSE: {rmse_price_train_rf:.2f}')\n",
    "print(f\"Error Absoluto mediano: {medae_prive_train_rf}\") #Menos susceptible a valores extremos que el MAE"
   ],
   "metadata": {
    "collapsed": false
   }
  },
  {
   "cell_type": "markdown",
   "metadata": {
    "collapsed": false
   },
   "source": [
    "## Validación de los modelos entrenados"
   ]
  },
  {
   "cell_type": "markdown",
   "metadata": {
    "collapsed": false
   },
   "source": [
    "### Validación del modelo para la hipótesis Rating"
   ]
  },
  {
   "cell_type": "markdown",
   "source": [
    "### Clasificador Random Forest"
   ],
   "metadata": {
    "collapsed": false
   }
  },
  {
   "cell_type": "code",
   "execution_count": 28,
   "metadata": {
    "collapsed": false
   },
   "outputs": [
    {
     "name": "stdout",
     "output_type": "stream",
     "text": [
      "Exactitud en los datos de validación: 0.49\n"
     ]
    }
   ],
   "source": [
    "predicciones_val_rating = rf_rating.predict(X_rating_val)\n",
    "accuracy_val_rating = accuracy_score(Y_rating_val, predicciones_val_rating)\n",
    "print(f'Exactitud en los datos de validación: {accuracy_val_rating:.2f}')"
   ]
  },
  {
   "cell_type": "code",
   "execution_count": 29,
   "metadata": {
    "collapsed": false
   },
   "outputs": [
    {
     "name": "stdout",
     "output_type": "stream",
     "text": [
      "Matriz de Confusión:\n",
      "[[1014  222   70   68  147]\n",
      " [ 369  218  104  162  172]\n",
      " [ 291  207  194  470  454]\n",
      " [ 352  281  229 1314 1382]\n",
      " [1332  592  456 2536 6716]]\n"
     ]
    }
   ],
   "source": [
    "confusion_rating = confusion_matrix(Y_rating_val, predicciones_val_rating)\n",
    "print(\"Matriz de Confusión:\")\n",
    "print(confusion_rating)"
   ]
  },
  {
   "cell_type": "code",
   "execution_count": 30,
   "outputs": [],
   "source": [
    "clases_rating_val = df_rating_val['review/score'].unique()"
   ],
   "metadata": {
    "collapsed": false
   }
  },
  {
   "cell_type": "code",
   "execution_count": 31,
   "metadata": {
    "collapsed": false
   },
   "outputs": [
    {
     "data": {
      "text/plain": "numpy.ndarray"
     },
     "execution_count": 31,
     "metadata": {},
     "output_type": "execute_result"
    }
   ],
   "source": [
    "type(clases_rating_val)"
   ]
  },
  {
   "cell_type": "code",
   "execution_count": 32,
   "metadata": {
    "collapsed": false
   },
   "outputs": [
    {
     "data": {
      "text/plain": "(5,)"
     },
     "execution_count": 32,
     "metadata": {},
     "output_type": "execute_result"
    }
   ],
   "source": [
    "clases_rating_val.shape"
   ]
  },
  {
   "cell_type": "code",
   "execution_count": 33,
   "outputs": [],
   "source": [
    "def plot_confusion_matrix(confusion, width, height, etiquetas_clases):\n",
    "    plt.figure(figsize=(height, width))\n",
    "    sns.heatmap(confusion, annot=True, fmt='d', cmap='Blues', cbar=False)\n",
    "\n",
    "    if etiquetas_clases is not None and len(etiquetas_clases) > 0:\n",
    "        plt.xticks(range(len(etiquetas_clases)), etiquetas_clases, rotation=90)\n",
    "        plt.yticks(range(len(etiquetas_clases)), etiquetas_clases, rotation=0)\n",
    "\n",
    "\n",
    "    # Agrega etiquetas y títulos\n",
    "    plt.xlabel('Predicciones')\n",
    "    plt.ylabel('Valores Verdaderos')\n",
    "    plt.title('Matriz de Confusión')"
   ],
   "metadata": {
    "collapsed": false
   }
  },
  {
   "cell_type": "code",
   "execution_count": 34,
   "metadata": {
    "collapsed": false
   },
   "outputs": [
    {
     "data": {
      "text/plain": "<Figure size 800x800 with 1 Axes>",
      "image/png": "[encoded data removed]"
     },
     "metadata": {},
     "output_type": "display_data"
    }
   ],
   "source": [
    "plot_confusion_matrix(confusion_rating, 8, 8, clases_rating.tolist())"
   ]
  },
  {
   "cell_type": "markdown",
   "source": [
    "### Clasificador MLP"
   ],
   "metadata": {
    "collapsed": false
   }
  },
  {
   "cell_type": "code",
   "execution_count": 35,
   "outputs": [],
   "source": [
    "predicciones_val_rating_MLP = mlp_rating.predict(X_rating_val)"
   ],
   "metadata": {
    "collapsed": false
   }
  },
  {
   "cell_type": "code",
   "execution_count": 36,
   "outputs": [
    {
     "name": "stdout",
     "output_type": "stream",
     "text": [
      "Exactitud en los datos de entrenamiento: 0.65\n"
     ]
    }
   ],
   "source": [
    "accuracy_val_rating_MLP = accuracy_score(Y_rating_val, predicciones_val_rating_MLP)\n",
    "print(f'Exactitud en los datos de entrenamiento: {accuracy_val_rating_MLP:.2f}')"
   ],
   "metadata": {
    "collapsed": false
   }
  },
  {
   "cell_type": "code",
   "execution_count": 37,
   "outputs": [
    {
     "name": "stdout",
     "output_type": "stream",
     "text": [
      "Matriz de Confusión:\n",
      "[[  970    47    46    24   434]\n",
      " [  297    61    86    57   524]\n",
      " [  143    59   137   169  1108]\n",
      " [   94    28    98   349  2989]\n",
      " [  172    42   118   326 10974]]\n"
     ]
    }
   ],
   "source": [
    "confusion_rating_MLP = confusion_matrix(Y_rating_val, predicciones_val_rating_MLP)\n",
    "print(\"Matriz de Confusión:\")\n",
    "print(confusion_rating_MLP)"
   ],
   "metadata": {
    "collapsed": false
   }
  },
  {
   "cell_type": "code",
   "execution_count": 38,
   "outputs": [
    {
     "data": {
      "text/plain": "<Figure size 800x800 with 1 Axes>",
      "image/png": "[encoded data removed]"
     },
     "metadata": {},
     "output_type": "display_data"
    }
   ],
   "source": [
    "plot_confusion_matrix(confusion_rating_MLP, 8, 8, clases_rating_val.tolist())"
   ],
   "metadata": {
    "collapsed": false
   }
  },
  {
   "cell_type": "markdown",
   "metadata": {
    "collapsed": false
   },
   "source": [
    "### Validación del modelo para la hipótesis Precio"
   ]
  },
  {
   "cell_type": "markdown",
   "source": [
    "### Regresor MLP"
   ],
   "metadata": {
    "collapsed": false
   }
  },
  {
   "cell_type": "code",
   "execution_count": 39,
   "metadata": {
    "collapsed": false
   },
   "outputs": [
    {
     "name": "stdout",
     "output_type": "stream",
     "text": [
      "Error cuadrático medio: 7.27\n",
      "Error absoluto medio: 0.78\n",
      "R-squared (variabilidad capturada): 0.97\n",
      "Raiz cuadrada del MSE: 2.70\n",
      "Error Absoluto mediano: 0.18809154972800535\n"
     ]
    }
   ],
   "source": [
    "predicciones_val_price = mlp_precio.predict(X_price_val)\n",
    "mse_price_val = mean_squared_error(Y_price_val, predicciones_val_price)\n",
    "mae_price_val = mean_absolute_error(Y_price_val, predicciones_val_price)\n",
    "r2_price_val = r2_score(Y_price_val, predicciones_val_price)\n",
    "rmse_price_val = np.sqrt(mse_price_val)\n",
    "medae_prive_val = median_absolute_error(Y_price_val, predicciones_val_price)\n",
    "print(f'Error cuadrático medio: {mse_price_val:.2f}')\n",
    "print(f'Error absoluto medio: {mae_price_val:.2f}')\n",
    "print(f'R-squared (variabilidad capturada): {r2_price_val:.2f}')\n",
    "print(f'Raiz cuadrada del MSE: {rmse_price_val:.2f}')\n",
    "print(f\"Error Absoluto mediano: {medae_prive_val}\") #Menos susceptible a valores extremos que el MAE"
   ]
  },
  {
   "cell_type": "code",
   "execution_count": 40,
   "metadata": {
    "collapsed": false
   },
   "outputs": [
    {
     "data": {
      "text/plain": "   review/text  review/score    conteo  review_helpfulness_up  \\\n0    -0.476078      0.657171 -0.421620              -0.888768   \n1    -1.023176      0.657171 -0.662528              -0.888768   \n2     1.260634     -0.140123 -0.669614               1.614321   \n3    -1.310775      0.657171 -0.586359              -0.888768   \n4    -0.996986     -2.532007  4.100721              -0.888768   \n5     0.708772     -0.140123  0.106252               0.426103   \n6     0.403210      0.657171  1.851065               0.153242   \n7    -1.003473     -0.937418  0.108024              -0.888768   \n8     0.693116     -0.937418  0.471157               0.153242   \n9    -0.984129     -1.734712 -0.015973              -0.231333   \n\n   review_helpfulness_total  publishedDate  publisher_\"O'Reilly Media, Inc.\"  \\\n0                 -1.014195       0.851032                                 0   \n1                 -1.014195       0.267800                                 0   \n2                  1.221997      -1.093074                                 0   \n3                 -1.014195       1.045443                                 0   \n4                 -1.014195       0.267800                                 0   \n5                  0.349554       0.851032                                 0   \n6                  0.160474      -0.769056                                 0   \n7                 -1.014195       0.786229                                 0   \n8                  0.349554       0.786229                                 0   \n9                 -0.426860       0.462211                                 0   \n\n   publisher_Ags Pub  publisher_Amber House Books  publisher_Amereon Limited  \\\n0                  0                            0                          0   \n1                  0                            0                          0   \n2                  0                            0                          0   \n3                  0                            0                          0   \n4                  0                            0                          0   \n5                  0                            0                          0   \n6                  0                            0                          0   \n7                  0                            0                          0   \n8                  0                            0                          0   \n9                  0                            0                          0   \n\n   ...  categories_Science  categories_Self-Help  categories_Social Science  \\\n0  ...                   1                     0                          0   \n1  ...                   0                     0                          0   \n2  ...                   0                     0                          0   \n3  ...                   0                     0                          0   \n4  ...                   0                     0                          0   \n5  ...                   0                     0                          0   \n6  ...                   0                     0                          0   \n7  ...                   0                     0                          0   \n8  ...                   0                     0                          1   \n9  ...                   0                     0                          0   \n\n   categories_Sports & Recreation  categories_Technology & Engineering  \\\n0                               0                                    0   \n1                               0                                    0   \n2                               0                                    0   \n3                               0                                    0   \n4                               0                                    0   \n5                               0                                    0   \n6                               0                                    0   \n7                               0                                    0   \n8                               0                                    0   \n9                               0                                    0   \n\n   categories_True Crime  categories_Young Adult Fiction  \\\n0                      0                               0   \n1                      0                               0   \n2                      0                               0   \n3                      0                               0   \n4                      0                               0   \n5                      0                               1   \n6                      0                               0   \n7                      0                               0   \n8                      0                               0   \n9                      0                               0   \n\n   categories_Young Adult Nonfiction   Price  Predicciones  \n0                                  0   48.27     47.207907  \n1                                  0   31.50     31.044711  \n2                                  0   18.47     18.709687  \n3                                  0   34.00     33.419359  \n4                                  0    7.67      7.693712  \n5                                  0   14.34     14.133565  \n6                                  0   14.02     13.987277  \n7                                  0   28.20     27.313645  \n8                                  0  108.00    108.001747  \n9                                  0    7.04      7.460566  \n\n[10 rows x 260 columns]",
      "text/html": "<div>\n<style scoped>\n    .dataframe tbody tr th:only-of-type {\n        vertical-align: middle;\n    }\n\n    .dataframe tbody tr th {\n        vertical-align: top;\n    }\n\n    .dataframe thead th {\n        text-align: right;\n    }\n</style>\n<table border=\"1\" class=\"dataframe\">\n  <thead>\n    <tr style=\"text-align: right;\">\n      <th></th>\n      <th>review/text</th>\n      <th>review/score</th>\n      <th>conteo</th>\n      <th>review_helpfulness_up</th>\n      <th>review_helpfulness_total</th>\n      <th>publishedDate</th>\n      <th>publisher_\"O'Reilly Media, Inc.\"</th>\n      <th>publisher_Ags Pub</th>\n      <th>publisher_Amber House Books</th>\n      <th>publisher_Amereon Limited</th>\n      <th>...</th>\n      <th>categories_Science</th>\n      <th>categories_Self-Help</th>\n      <th>categories_Social Science</th>\n      <th>categories_Sports &amp; Recreation</th>\n      <th>categories_Technology &amp; Engineering</th>\n      <th>categories_True Crime</th>\n      <th>categories_Young Adult Fiction</th>\n      <th>categories_Young Adult Nonfiction</th>\n      <th>Price</th>\n      <th>Predicciones</th>\n    </tr>\n  </thead>\n  <tbody>\n    <tr>\n      <th>0</th>\n      <td>-0.476078</td>\n      <td>0.657171</td>\n      <td>-0.421620</td>\n      <td>-0.888768</td>\n      <td>-1.014195</td>\n      <td>0.851032</td>\n      <td>0</td>\n      <td>0</td>\n      <td>0</td>\n      <td>0</td>\n      <td>...</td>\n      <td>1</td>\n      <td>0</td>\n      <td>0</td>\n      <td>0</td>\n      <td>0</td>\n      <td>0</td>\n      <td>0</td>\n      <td>0</td>\n      <td>48.27</td>\n      <td>47.207907</td>\n    </tr>\n    <tr>\n      <th>1</th>\n      <td>-1.023176</td>\n      <td>0.657171</td>\n      <td>-0.662528</td>\n      <td>-0.888768</td>\n      <td>-1.014195</td>\n      <td>0.267800</td>\n      <td>0</td>\n      <td>0</td>\n      <td>0</td>\n      <td>0</td>\n      <td>...</td>\n      <td>0</td>\n      <td>0</td>\n      <td>0</td>\n      <td>0</td>\n      <td>0</td>\n      <td>0</td>\n      <td>0</td>\n      <td>0</td>\n      <td>31.50</td>\n      <td>31.044711</td>\n    </tr>\n    <tr>\n      <th>2</th>\n      <td>1.260634</td>\n      <td>-0.140123</td>\n      <td>-0.669614</td>\n      <td>1.614321</td>\n      <td>1.221997</td>\n      <td>-1.093074</td>\n      <td>0</td>\n      <td>0</td>\n      <td>0</td>\n      <td>0</td>\n      <td>...</td>\n      <td>0</td>\n      <td>0</td>\n      <td>0</td>\n      <td>0</td>\n      <td>0</td>\n      <td>0</td>\n      <td>0</td>\n      <td>0</td>\n      <td>18.47</td>\n      <td>18.709687</td>\n    </tr>\n    <tr>\n      <th>3</th>\n      <td>-1.310775</td>\n      <td>0.657171</td>\n      <td>-0.586359</td>\n      <td>-0.888768</td>\n      <td>-1.014195</td>\n      <td>1.045443</td>\n      <td>0</td>\n      <td>0</td>\n      <td>0</td>\n      <td>0</td>\n      <td>...</td>\n      <td>0</td>\n      <td>0</td>\n      <td>0</td>\n      <td>0</td>\n      <td>0</td>\n      <td>0</td>\n      <td>0</td>\n      <td>0</td>\n      <td>34.00</td>\n      <td>33.419359</td>\n    </tr>\n    <tr>\n      <th>4</th>\n      <td>-0.996986</td>\n      <td>-2.532007</td>\n      <td>4.100721</td>\n      <td>-0.888768</td>\n      <td>-1.014195</td>\n      <td>0.267800</td>\n      <td>0</td>\n      <td>0</td>\n      <td>0</td>\n      <td>0</td>\n      <td>...</td>\n      <td>0</td>\n      <td>0</td>\n      <td>0</td>\n      <td>0</td>\n      <td>0</td>\n      <td>0</td>\n      <td>0</td>\n      <td>0</td>\n      <td>7.67</td>\n      <td>7.693712</td>\n    </tr>\n    <tr>\n      <th>5</th>\n      <td>0.708772</td>\n      <td>-0.140123</td>\n      <td>0.106252</td>\n      <td>0.426103</td>\n      <td>0.349554</td>\n      <td>0.851032</td>\n      <td>0</td>\n      <td>0</td>\n      <td>0</td>\n      <td>0</td>\n      <td>...</td>\n      <td>0</td>\n      <td>0</td>\n      <td>0</td>\n      <td>0</td>\n      <td>0</td>\n      <td>0</td>\n      <td>1</td>\n      <td>0</td>\n      <td>14.34</td>\n      <td>14.133565</td>\n    </tr>\n    <tr>\n      <th>6</th>\n      <td>0.403210</td>\n      <td>0.657171</td>\n      <td>1.851065</td>\n      <td>0.153242</td>\n      <td>0.160474</td>\n      <td>-0.769056</td>\n      <td>0</td>\n      <td>0</td>\n      <td>0</td>\n      <td>0</td>\n      <td>...</td>\n      <td>0</td>\n      <td>0</td>\n      <td>0</td>\n      <td>0</td>\n      <td>0</td>\n      <td>0</td>\n      <td>0</td>\n      <td>0</td>\n      <td>14.02</td>\n      <td>13.987277</td>\n    </tr>\n    <tr>\n      <th>7</th>\n      <td>-1.003473</td>\n      <td>-0.937418</td>\n      <td>0.108024</td>\n      <td>-0.888768</td>\n      <td>-1.014195</td>\n      <td>0.786229</td>\n      <td>0</td>\n      <td>0</td>\n      <td>0</td>\n      <td>0</td>\n      <td>...</td>\n      <td>0</td>\n      <td>0</td>\n      <td>0</td>\n      <td>0</td>\n      <td>0</td>\n      <td>0</td>\n      <td>0</td>\n      <td>0</td>\n      <td>28.20</td>\n      <td>27.313645</td>\n    </tr>\n    <tr>\n      <th>8</th>\n      <td>0.693116</td>\n      <td>-0.937418</td>\n      <td>0.471157</td>\n      <td>0.153242</td>\n      <td>0.349554</td>\n      <td>0.786229</td>\n      <td>0</td>\n      <td>0</td>\n      <td>0</td>\n      <td>0</td>\n      <td>...</td>\n      <td>0</td>\n      <td>0</td>\n      <td>1</td>\n      <td>0</td>\n      <td>0</td>\n      <td>0</td>\n      <td>0</td>\n      <td>0</td>\n      <td>108.00</td>\n      <td>108.001747</td>\n    </tr>\n    <tr>\n      <th>9</th>\n      <td>-0.984129</td>\n      <td>-1.734712</td>\n      <td>-0.015973</td>\n      <td>-0.231333</td>\n      <td>-0.426860</td>\n      <td>0.462211</td>\n      <td>0</td>\n      <td>0</td>\n      <td>0</td>\n      <td>0</td>\n      <td>...</td>\n      <td>0</td>\n      <td>0</td>\n      <td>0</td>\n      <td>0</td>\n      <td>0</td>\n      <td>0</td>\n      <td>0</td>\n      <td>0</td>\n      <td>7.04</td>\n      <td>7.460566</td>\n    </tr>\n  </tbody>\n</table>\n<p>10 rows × 260 columns</p>\n</div>"
     },
     "execution_count": 40,
     "metadata": {},
     "output_type": "execute_result"
    }
   ],
   "source": [
    "predicciones_val_price_df = pd.DataFrame({'Predicciones': predicciones_val_price})\n",
    "predicciones_val_price_concat_df = pd.concat([df_price_val.reset_index(drop=True), predicciones_val_price_df], axis=1)\n",
    "predicciones_val_price_concat_df.head(10)\n"
   ]
  },
  {
   "cell_type": "code",
   "execution_count": 41,
   "metadata": {
    "collapsed": false
   },
   "outputs": [
    {
     "data": {
      "text/plain": "       review/text  review/score    conteo  review_helpfulness_up  \\\n9564      0.763047     -0.140123 -0.556245               0.637749   \n1354      0.394537      0.657171 -0.591673               0.426103   \n14251    -0.588709     -2.532007 -0.616472               2.164266   \n13671     0.155244      0.657171 -0.465905               0.426103   \n14865     0.596877      0.657171  0.269220               0.956886   \n...            ...           ...       ...                    ...   \n7087     -0.666296      0.657171 -0.510189              -0.888768   \n4470      0.071256     -1.734712  4.100721              -0.888768   \n8875     -0.488018      0.657171 -0.660757               0.637749   \n6264     -1.251599      0.657171  0.065510              -0.231333   \n6412      0.919492      0.657171 -0.111628               0.153242   \n\n       review_helpfulness_total  publishedDate  \\\n9564                   0.349554      -0.056217   \n1354                   0.504043       0.202997   \n14251                  2.688234       0.138193   \n13671                  0.349554       0.397407   \n14865                  1.280457       0.267800   \n...                         ...            ...   \n7087                  -0.426860       0.786229   \n4470                  -1.014195       0.267800   \n8875                   0.349554      -0.445039   \n6264                  -0.426860      -0.250628   \n6412                  -0.083291      -0.315431   \n\n       publisher_\"O'Reilly Media, Inc.\"  publisher_Ags Pub  \\\n9564                                  0                  0   \n1354                                  0                  0   \n14251                                 0                  0   \n13671                                 0                  0   \n14865                                 0                  0   \n...                                 ...                ...   \n7087                                  0                  0   \n4470                                  0                  0   \n8875                                  0                  0   \n6264                                  0                  0   \n6412                                  0                  0   \n\n       publisher_Amber House Books  publisher_Amereon Limited  ...  \\\n9564                             0                          0  ...   \n1354                             0                          0  ...   \n14251                            0                          0  ...   \n13671                            0                          0  ...   \n14865                            0                          0  ...   \n...                            ...                        ...  ...   \n7087                             0                          0  ...   \n4470                             0                          0  ...   \n8875                             0                          0  ...   \n6264                             0                          0  ...   \n6412                             0                          0  ...   \n\n       categories_Science  categories_Self-Help  categories_Social Science  \\\n9564                    0                     0                          0   \n1354                    0                     0                          0   \n14251                   0                     0                          0   \n13671                   0                     0                          0   \n14865                   0                     0                          0   \n...                   ...                   ...                        ...   \n7087                    0                     0                          0   \n4470                    0                     0                          0   \n8875                    0                     0                          0   \n6264                    0                     0                          0   \n6412                    0                     0                          0   \n\n       categories_Sports & Recreation  categories_Technology & Engineering  \\\n9564                                0                                    0   \n1354                                0                                    0   \n14251                               0                                    0   \n13671                               0                                    0   \n14865                               0                                    0   \n...                               ...                                  ...   \n7087                                0                                    0   \n4470                                0                                    0   \n8875                                0                                    0   \n6264                                0                                    0   \n6412                                0                                    0   \n\n       categories_True Crime  categories_Young Adult Fiction  \\\n9564                       0                               0   \n1354                       0                               0   \n14251                      0                               0   \n13671                      0                               0   \n14865                      0                               0   \n...                      ...                             ...   \n7087                       0                               0   \n4470                       0                               0   \n8875                       0                               0   \n6264                       0                               0   \n6412                       0                               0   \n\n       categories_Young Adult Nonfiction  Price  Predicciones  \n9564                                   0  25.43     24.334588  \n1354                                   0  22.72     22.762969  \n14251                                  0  16.17     15.965657  \n13671                                  0  13.18     13.040216  \n14865                                  0  18.97     19.124026  \n...                                  ...    ...           ...  \n7087                                   0  10.87     10.782349  \n4470                                   0   7.67      7.665498  \n8875                                   0  14.93     14.906520  \n6264                                   0  10.20     10.308830  \n6412                                   0  13.28     13.298939  \n\n[300 rows x 260 columns]",
      "text/html": "<div>\n<style scoped>\n    .dataframe tbody tr th:only-of-type {\n        vertical-align: middle;\n    }\n\n    .dataframe tbody tr th {\n        vertical-align: top;\n    }\n\n    .dataframe thead th {\n        text-align: right;\n    }\n</style>\n<table border=\"1\" class=\"dataframe\">\n  <thead>\n    <tr style=\"text-align: right;\">\n      <th></th>\n      <th>review/text</th>\n      <th>review/score</th>\n      <th>conteo</th>\n      <th>review_helpfulness_up</th>\n      <th>review_helpfulness_total</th>\n      <th>publishedDate</th>\n      <th>publisher_\"O'Reilly Media, Inc.\"</th>\n      <th>publisher_Ags Pub</th>\n      <th>publisher_Amber House Books</th>\n      <th>publisher_Amereon Limited</th>\n      <th>...</th>\n      <th>categories_Science</th>\n      <th>categories_Self-Help</th>\n      <th>categories_Social Science</th>\n      <th>categories_Sports &amp; Recreation</th>\n      <th>categories_Technology &amp; Engineering</th>\n      <th>categories_True Crime</th>\n      <th>categories_Young Adult Fiction</th>\n      <th>categories_Young Adult Nonfiction</th>\n      <th>Price</th>\n      <th>Predicciones</th>\n    </tr>\n  </thead>\n  <tbody>\n    <tr>\n      <th>9564</th>\n      <td>0.763047</td>\n      <td>-0.140123</td>\n      <td>-0.556245</td>\n      <td>0.637749</td>\n      <td>0.349554</td>\n      <td>-0.056217</td>\n      <td>0</td>\n      <td>0</td>\n      <td>0</td>\n      <td>0</td>\n      <td>...</td>\n      <td>0</td>\n      <td>0</td>\n      <td>0</td>\n      <td>0</td>\n      <td>0</td>\n      <td>0</td>\n      <td>0</td>\n      <td>0</td>\n      <td>25.43</td>\n      <td>24.334588</td>\n    </tr>\n    <tr>\n      <th>1354</th>\n      <td>0.394537</td>\n      <td>0.657171</td>\n      <td>-0.591673</td>\n      <td>0.426103</td>\n      <td>0.504043</td>\n      <td>0.202997</td>\n      <td>0</td>\n      <td>0</td>\n      <td>0</td>\n      <td>0</td>\n      <td>...</td>\n      <td>0</td>\n      <td>0</td>\n      <td>0</td>\n      <td>0</td>\n      <td>0</td>\n      <td>0</td>\n      <td>0</td>\n      <td>0</td>\n      <td>22.72</td>\n      <td>22.762969</td>\n    </tr>\n    <tr>\n      <th>14251</th>\n      <td>-0.588709</td>\n      <td>-2.532007</td>\n      <td>-0.616472</td>\n      <td>2.164266</td>\n      <td>2.688234</td>\n      <td>0.138193</td>\n      <td>0</td>\n      <td>0</td>\n      <td>0</td>\n      <td>0</td>\n      <td>...</td>\n      <td>0</td>\n      <td>0</td>\n      <td>0</td>\n      <td>0</td>\n      <td>0</td>\n      <td>0</td>\n      <td>0</td>\n      <td>0</td>\n      <td>16.17</td>\n      <td>15.965657</td>\n    </tr>\n    <tr>\n      <th>13671</th>\n      <td>0.155244</td>\n      <td>0.657171</td>\n      <td>-0.465905</td>\n      <td>0.426103</td>\n      <td>0.349554</td>\n      <td>0.397407</td>\n      <td>0</td>\n      <td>0</td>\n      <td>0</td>\n      <td>0</td>\n      <td>...</td>\n      <td>0</td>\n      <td>0</td>\n      <td>0</td>\n      <td>0</td>\n      <td>0</td>\n      <td>0</td>\n      <td>0</td>\n      <td>0</td>\n      <td>13.18</td>\n      <td>13.040216</td>\n    </tr>\n    <tr>\n      <th>14865</th>\n      <td>0.596877</td>\n      <td>0.657171</td>\n      <td>0.269220</td>\n      <td>0.956886</td>\n      <td>1.280457</td>\n      <td>0.267800</td>\n      <td>0</td>\n      <td>0</td>\n      <td>0</td>\n      <td>0</td>\n      <td>...</td>\n      <td>0</td>\n      <td>0</td>\n      <td>0</td>\n      <td>0</td>\n      <td>0</td>\n      <td>0</td>\n      <td>0</td>\n      <td>0</td>\n      <td>18.97</td>\n      <td>19.124026</td>\n    </tr>\n    <tr>\n      <th>...</th>\n      <td>...</td>\n      <td>...</td>\n      <td>...</td>\n      <td>...</td>\n      <td>...</td>\n      <td>...</td>\n      <td>...</td>\n      <td>...</td>\n      <td>...</td>\n      <td>...</td>\n      <td>...</td>\n      <td>...</td>\n      <td>...</td>\n      <td>...</td>\n      <td>...</td>\n      <td>...</td>\n      <td>...</td>\n      <td>...</td>\n      <td>...</td>\n      <td>...</td>\n      <td>...</td>\n    </tr>\n    <tr>\n      <th>7087</th>\n      <td>-0.666296</td>\n      <td>0.657171</td>\n      <td>-0.510189</td>\n      <td>-0.888768</td>\n      <td>-0.426860</td>\n      <td>0.786229</td>\n      <td>0</td>\n      <td>0</td>\n      <td>0</td>\n      <td>0</td>\n      <td>...</td>\n      <td>0</td>\n      <td>0</td>\n      <td>0</td>\n      <td>0</td>\n      <td>0</td>\n      <td>0</td>\n      <td>0</td>\n      <td>0</td>\n      <td>10.87</td>\n      <td>10.782349</td>\n    </tr>\n    <tr>\n      <th>4470</th>\n      <td>0.071256</td>\n      <td>-1.734712</td>\n      <td>4.100721</td>\n      <td>-0.888768</td>\n      <td>-1.014195</td>\n      <td>0.267800</td>\n      <td>0</td>\n      <td>0</td>\n      <td>0</td>\n      <td>0</td>\n      <td>...</td>\n      <td>0</td>\n      <td>0</td>\n      <td>0</td>\n      <td>0</td>\n      <td>0</td>\n      <td>0</td>\n      <td>0</td>\n      <td>0</td>\n      <td>7.67</td>\n      <td>7.665498</td>\n    </tr>\n    <tr>\n      <th>8875</th>\n      <td>-0.488018</td>\n      <td>0.657171</td>\n      <td>-0.660757</td>\n      <td>0.637749</td>\n      <td>0.349554</td>\n      <td>-0.445039</td>\n      <td>0</td>\n      <td>0</td>\n      <td>0</td>\n      <td>0</td>\n      <td>...</td>\n      <td>0</td>\n      <td>0</td>\n      <td>0</td>\n      <td>0</td>\n      <td>0</td>\n      <td>0</td>\n      <td>0</td>\n      <td>0</td>\n      <td>14.93</td>\n      <td>14.906520</td>\n    </tr>\n    <tr>\n      <th>6264</th>\n      <td>-1.251599</td>\n      <td>0.657171</td>\n      <td>0.065510</td>\n      <td>-0.231333</td>\n      <td>-0.426860</td>\n      <td>-0.250628</td>\n      <td>0</td>\n      <td>0</td>\n      <td>0</td>\n      <td>0</td>\n      <td>...</td>\n      <td>0</td>\n      <td>0</td>\n      <td>0</td>\n      <td>0</td>\n      <td>0</td>\n      <td>0</td>\n      <td>0</td>\n      <td>0</td>\n      <td>10.20</td>\n      <td>10.308830</td>\n    </tr>\n    <tr>\n      <th>6412</th>\n      <td>0.919492</td>\n      <td>0.657171</td>\n      <td>-0.111628</td>\n      <td>0.153242</td>\n      <td>-0.083291</td>\n      <td>-0.315431</td>\n      <td>0</td>\n      <td>0</td>\n      <td>0</td>\n      <td>0</td>\n      <td>...</td>\n      <td>0</td>\n      <td>0</td>\n      <td>0</td>\n      <td>0</td>\n      <td>0</td>\n      <td>0</td>\n      <td>0</td>\n      <td>0</td>\n      <td>13.28</td>\n      <td>13.298939</td>\n    </tr>\n  </tbody>\n</table>\n<p>300 rows × 260 columns</p>\n</div>"
     },
     "execution_count": 41,
     "metadata": {},
     "output_type": "execute_result"
    }
   ],
   "source": [
    "tamano_submuestra = 300  # Puedes ajustar esto al tamaño deseado\n",
    "\n",
    "# Crea una submuestra aleatoria del DataFrame\n",
    "submuestra_aleatoria = predicciones_val_price_concat_df.sample(n=tamano_submuestra, random_state=23)\n",
    "submuestra_aleatoria"
   ]
  },
  {
   "cell_type": "markdown",
   "source": [
    "### Regresor Random Forest"
   ],
   "metadata": {
    "collapsed": false
   }
  },
  {
   "cell_type": "code",
   "execution_count": 42,
   "outputs": [
    {
     "name": "stdout",
     "output_type": "stream",
     "text": [
      "Error cuadrático medio: 54.73\n"
     ]
    }
   ],
   "source": [
    "predicciones_val_price_rf = rf_price.predict(X_price_val)\n",
    "mse_price_rf_val = mean_squared_error(Y_price_val, predicciones_val_price_rf)\n",
    "print(f'Error cuadrático medio: {mse_price_rf_val:.2f}')"
   ],
   "metadata": {
    "collapsed": false
   }
  },
  {
   "cell_type": "code",
   "execution_count": 43,
   "outputs": [
    {
     "name": "stdout",
     "output_type": "stream",
     "text": [
      "Error absoluto medio: 5.06\n",
      "R-squared (variabilidad capturada): 0.79\n",
      "Raiz cuadrada del MSE: 7.40\n",
      "Error Absoluto mediano: 4.28091185718805\n"
     ]
    }
   ],
   "source": [
    "mae_price_val_rf = mean_absolute_error(Y_price_val, predicciones_val_price_rf)\n",
    "r2_price_val_rf = r2_score(Y_price_val, predicciones_val_price_rf)\n",
    "rmse_price_val_rf = np.sqrt(mse_price_rf_val)\n",
    "medae_prive_val_rf = median_absolute_error(Y_price_val, predicciones_val_price_rf)\n",
    "print(f'Error absoluto medio: {mae_price_val_rf:.2f}')\n",
    "print(f'R-squared (variabilidad capturada): {r2_price_val_rf:.2f}')\n",
    "print(f'Raiz cuadrada del MSE: {rmse_price_val_rf:.2f}')\n",
    "print(f\"Error Absoluto mediano: {medae_prive_val_rf}\") #Menos susceptible a valores extremos que el MAE"
   ],
   "metadata": {
    "collapsed": false
   }
  },
  {
   "cell_type": "code",
   "execution_count": 44,
   "outputs": [
    {
     "data": {
      "text/plain": "       review/text  review/score    conteo  review_helpfulness_up  \\\n9564      0.763047     -0.140123 -0.556245               0.637749   \n1354      0.394537      0.657171 -0.591673               0.426103   \n14251    -0.588709     -2.532007 -0.616472               2.164266   \n13671     0.155244      0.657171 -0.465905               0.426103   \n14865     0.596877      0.657171  0.269220               0.956886   \n...            ...           ...       ...                    ...   \n7087     -0.666296      0.657171 -0.510189              -0.888768   \n4470      0.071256     -1.734712  4.100721              -0.888768   \n8875     -0.488018      0.657171 -0.660757               0.637749   \n6264     -1.251599      0.657171  0.065510              -0.231333   \n6412      0.919492      0.657171 -0.111628               0.153242   \n\n       review_helpfulness_total  publishedDate  \\\n9564                   0.349554      -0.056217   \n1354                   0.504043       0.202997   \n14251                  2.688234       0.138193   \n13671                  0.349554       0.397407   \n14865                  1.280457       0.267800   \n...                         ...            ...   \n7087                  -0.426860       0.786229   \n4470                  -1.014195       0.267800   \n8875                   0.349554      -0.445039   \n6264                  -0.426860      -0.250628   \n6412                  -0.083291      -0.315431   \n\n       publisher_\"O'Reilly Media, Inc.\"  publisher_Ags Pub  \\\n9564                                  0                  0   \n1354                                  0                  0   \n14251                                 0                  0   \n13671                                 0                  0   \n14865                                 0                  0   \n...                                 ...                ...   \n7087                                  0                  0   \n4470                                  0                  0   \n8875                                  0                  0   \n6264                                  0                  0   \n6412                                  0                  0   \n\n       publisher_Amber House Books  publisher_Amereon Limited  ...  \\\n9564                             0                          0  ...   \n1354                             0                          0  ...   \n14251                            0                          0  ...   \n13671                            0                          0  ...   \n14865                            0                          0  ...   \n...                            ...                        ...  ...   \n7087                             0                          0  ...   \n4470                             0                          0  ...   \n8875                             0                          0  ...   \n6264                             0                          0  ...   \n6412                             0                          0  ...   \n\n       categories_Science  categories_Self-Help  categories_Social Science  \\\n9564                    0                     0                          0   \n1354                    0                     0                          0   \n14251                   0                     0                          0   \n13671                   0                     0                          0   \n14865                   0                     0                          0   \n...                   ...                   ...                        ...   \n7087                    0                     0                          0   \n4470                    0                     0                          0   \n8875                    0                     0                          0   \n6264                    0                     0                          0   \n6412                    0                     0                          0   \n\n       categories_Sports & Recreation  categories_Technology & Engineering  \\\n9564                                0                                    0   \n1354                                0                                    0   \n14251                               0                                    0   \n13671                               0                                    0   \n14865                               0                                    0   \n...                               ...                                  ...   \n7087                                0                                    0   \n4470                                0                                    0   \n8875                                0                                    0   \n6264                                0                                    0   \n6412                                0                                    0   \n\n       categories_True Crime  categories_Young Adult Fiction  \\\n9564                       0                               0   \n1354                       0                               0   \n14251                      0                               0   \n13671                      0                               0   \n14865                      0                               0   \n...                      ...                             ...   \n7087                       0                               0   \n4470                       0                               0   \n8875                       0                               0   \n6264                       0                               0   \n6412                       0                               0   \n\n       categories_Young Adult Nonfiction  Price  Predicciones RF  \n9564                                   0  25.43        14.670912  \n1354                                   0  22.72        22.720000  \n14251                                  0  16.17        14.670912  \n13671                                  0  13.18        14.670912  \n14865                                  0  18.97        14.670912  \n...                                  ...    ...              ...  \n7087                                   0  10.87        14.670912  \n4470                                   0   7.67        14.670912  \n8875                                   0  14.93        15.884998  \n6264                                   0  10.20        14.670912  \n6412                                   0  13.28        14.670912  \n\n[300 rows x 260 columns]",
      "text/html": "<div>\n<style scoped>\n    .dataframe tbody tr th:only-of-type {\n        vertical-align: middle;\n    }\n\n    .dataframe tbody tr th {\n        vertical-align: top;\n    }\n\n    .dataframe thead th {\n        text-align: right;\n    }\n</style>\n<table border=\"1\" class=\"dataframe\">\n  <thead>\n    <tr style=\"text-align: right;\">\n      <th></th>\n      <th>review/text</th>\n      <th>review/score</th>\n      <th>conteo</th>\n      <th>review_helpfulness_up</th>\n      <th>review_helpfulness_total</th>\n      <th>publishedDate</th>\n      <th>publisher_\"O'Reilly Media, Inc.\"</th>\n      <th>publisher_Ags Pub</th>\n      <th>publisher_Amber House Books</th>\n      <th>publisher_Amereon Limited</th>\n      <th>...</th>\n      <th>categories_Science</th>\n      <th>categories_Self-Help</th>\n      <th>categories_Social Science</th>\n      <th>categories_Sports &amp; Recreation</th>\n      <th>categories_Technology &amp; Engineering</th>\n      <th>categories_True Crime</th>\n      <th>categories_Young Adult Fiction</th>\n      <th>categories_Young Adult Nonfiction</th>\n      <th>Price</th>\n      <th>Predicciones RF</th>\n    </tr>\n  </thead>\n  <tbody>\n    <tr>\n      <th>9564</th>\n      <td>0.763047</td>\n      <td>-0.140123</td>\n      <td>-0.556245</td>\n      <td>0.637749</td>\n      <td>0.349554</td>\n      <td>-0.056217</td>\n      <td>0</td>\n      <td>0</td>\n      <td>0</td>\n      <td>0</td>\n      <td>...</td>\n      <td>0</td>\n      <td>0</td>\n      <td>0</td>\n      <td>0</td>\n      <td>0</td>\n      <td>0</td>\n      <td>0</td>\n      <td>0</td>\n      <td>25.43</td>\n      <td>14.670912</td>\n    </tr>\n    <tr>\n      <th>1354</th>\n      <td>0.394537</td>\n      <td>0.657171</td>\n      <td>-0.591673</td>\n      <td>0.426103</td>\n      <td>0.504043</td>\n      <td>0.202997</td>\n      <td>0</td>\n      <td>0</td>\n      <td>0</td>\n      <td>0</td>\n      <td>...</td>\n      <td>0</td>\n      <td>0</td>\n      <td>0</td>\n      <td>0</td>\n      <td>0</td>\n      <td>0</td>\n      <td>0</td>\n      <td>0</td>\n      <td>22.72</td>\n      <td>22.720000</td>\n    </tr>\n    <tr>\n      <th>14251</th>\n      <td>-0.588709</td>\n      <td>-2.532007</td>\n      <td>-0.616472</td>\n      <td>2.164266</td>\n      <td>2.688234</td>\n      <td>0.138193</td>\n      <td>0</td>\n      <td>0</td>\n      <td>0</td>\n      <td>0</td>\n      <td>...</td>\n      <td>0</td>\n      <td>0</td>\n      <td>0</td>\n      <td>0</td>\n      <td>0</td>\n      <td>0</td>\n      <td>0</td>\n      <td>0</td>\n      <td>16.17</td>\n      <td>14.670912</td>\n    </tr>\n    <tr>\n      <th>13671</th>\n      <td>0.155244</td>\n      <td>0.657171</td>\n      <td>-0.465905</td>\n      <td>0.426103</td>\n      <td>0.349554</td>\n      <td>0.397407</td>\n      <td>0</td>\n      <td>0</td>\n      <td>0</td>\n      <td>0</td>\n      <td>...</td>\n      <td>0</td>\n      <td>0</td>\n      <td>0</td>\n      <td>0</td>\n      <td>0</td>\n      <td>0</td>\n      <td>0</td>\n      <td>0</td>\n      <td>13.18</td>\n      <td>14.670912</td>\n    </tr>\n    <tr>\n      <th>14865</th>\n      <td>0.596877</td>\n      <td>0.657171</td>\n      <td>0.269220</td>\n      <td>0.956886</td>\n      <td>1.280457</td>\n      <td>0.267800</td>\n      <td>0</td>\n      <td>0</td>\n      <td>0</td>\n      <td>0</td>\n      <td>...</td>\n      <td>0</td>\n      <td>0</td>\n      <td>0</td>\n      <td>0</td>\n      <td>0</td>\n      <td>0</td>\n      <td>0</td>\n      <td>0</td>\n      <td>18.97</td>\n      <td>14.670912</td>\n    </tr>\n    <tr>\n      <th>...</th>\n      <td>...</td>\n      <td>...</td>\n      <td>...</td>\n      <td>...</td>\n      <td>...</td>\n      <td>...</td>\n      <td>...</td>\n      <td>...</td>\n      <td>...</td>\n      <td>...</td>\n      <td>...</td>\n      <td>...</td>\n      <td>...</td>\n      <td>...</td>\n      <td>...</td>\n      <td>...</td>\n      <td>...</td>\n      <td>...</td>\n      <td>...</td>\n      <td>...</td>\n      <td>...</td>\n    </tr>\n    <tr>\n      <th>7087</th>\n      <td>-0.666296</td>\n      <td>0.657171</td>\n      <td>-0.510189</td>\n      <td>-0.888768</td>\n      <td>-0.426860</td>\n      <td>0.786229</td>\n      <td>0</td>\n      <td>0</td>\n      <td>0</td>\n      <td>0</td>\n      <td>...</td>\n      <td>0</td>\n      <td>0</td>\n      <td>0</td>\n      <td>0</td>\n      <td>0</td>\n      <td>0</td>\n      <td>0</td>\n      <td>0</td>\n      <td>10.87</td>\n      <td>14.670912</td>\n    </tr>\n    <tr>\n      <th>4470</th>\n      <td>0.071256</td>\n      <td>-1.734712</td>\n      <td>4.100721</td>\n      <td>-0.888768</td>\n      <td>-1.014195</td>\n      <td>0.267800</td>\n      <td>0</td>\n      <td>0</td>\n      <td>0</td>\n      <td>0</td>\n      <td>...</td>\n      <td>0</td>\n      <td>0</td>\n      <td>0</td>\n      <td>0</td>\n      <td>0</td>\n      <td>0</td>\n      <td>0</td>\n      <td>0</td>\n      <td>7.67</td>\n      <td>14.670912</td>\n    </tr>\n    <tr>\n      <th>8875</th>\n      <td>-0.488018</td>\n      <td>0.657171</td>\n      <td>-0.660757</td>\n      <td>0.637749</td>\n      <td>0.349554</td>\n      <td>-0.445039</td>\n      <td>0</td>\n      <td>0</td>\n      <td>0</td>\n      <td>0</td>\n      <td>...</td>\n      <td>0</td>\n      <td>0</td>\n      <td>0</td>\n      <td>0</td>\n      <td>0</td>\n      <td>0</td>\n      <td>0</td>\n      <td>0</td>\n      <td>14.93</td>\n      <td>15.884998</td>\n    </tr>\n    <tr>\n      <th>6264</th>\n      <td>-1.251599</td>\n      <td>0.657171</td>\n      <td>0.065510</td>\n      <td>-0.231333</td>\n      <td>-0.426860</td>\n      <td>-0.250628</td>\n      <td>0</td>\n      <td>0</td>\n      <td>0</td>\n      <td>0</td>\n      <td>...</td>\n      <td>0</td>\n      <td>0</td>\n      <td>0</td>\n      <td>0</td>\n      <td>0</td>\n      <td>0</td>\n      <td>0</td>\n      <td>0</td>\n      <td>10.20</td>\n      <td>14.670912</td>\n    </tr>\n    <tr>\n      <th>6412</th>\n      <td>0.919492</td>\n      <td>0.657171</td>\n      <td>-0.111628</td>\n      <td>0.153242</td>\n      <td>-0.083291</td>\n      <td>-0.315431</td>\n      <td>0</td>\n      <td>0</td>\n      <td>0</td>\n      <td>0</td>\n      <td>...</td>\n      <td>0</td>\n      <td>0</td>\n      <td>0</td>\n      <td>0</td>\n      <td>0</td>\n      <td>0</td>\n      <td>0</td>\n      <td>0</td>\n      <td>13.28</td>\n      <td>14.670912</td>\n    </tr>\n  </tbody>\n</table>\n<p>300 rows × 260 columns</p>\n</div>"
     },
     "execution_count": 44,
     "metadata": {},
     "output_type": "execute_result"
    }
   ],
   "source": [
    "predicciones_val_price_rf_df = pd.DataFrame({'Predicciones RF': predicciones_val_price_rf})\n",
    "predicciones_val_price_concat_rf_df = pd.concat([df_price_val.reset_index(drop=True), predicciones_val_price_rf_df], axis=1)\n",
    "\n",
    "# Crea una submuestra aleatoria del DataFrame\n",
    "submuestra_aleatoria_rf = predicciones_val_price_concat_rf_df.sample(n=tamano_submuestra, random_state=23)\n",
    "submuestra_aleatoria_rf"
   ],
   "metadata": {
    "collapsed": false
   }
  }
 ],
 "metadata": {
  "kernelspec": {
   "display_name": "py310_iar",
   "language": "python",
   "name": "python3"
  },
  "language_info": {
   "codemirror_mode": {
    "name": "ipython",
    "version": 3
   },
   "file_extension": ".py",
   "mimetype": "text/x-python",
   "name": "python",
   "nbconvert_exporter": "python",
   "pygments_lexer": "ipython3",
   "version": "3.10.6"
  }
 },
 "nbformat": 4,
 "nbformat_minor": 2
}
