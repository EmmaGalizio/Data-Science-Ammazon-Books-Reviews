{
 "cells": [
  {
   "cell_type": "markdown",
   "metadata": {},
   "source": [
    "## Preprocesado"
   ]
  },
  {
   "cell_type": "code",
   "execution_count": 54,
   "metadata": {},
   "outputs": [],
   "source": [
    "import numpy as np\n",
    "import pandas as pd"
   ]
  },
  {
   "cell_type": "code",
   "execution_count": 55,
   "metadata": {},
   "outputs": [
    {
     "name": "stdout",
     "output_type": "stream",
     "text": [
      "<class 'pandas.core.frame.DataFrame'>\n",
      "RangeIndex: 33754 entries, 0 to 33753\n",
      "Data columns (total 12 columns):\n",
      " #   Column                    Non-Null Count  Dtype  \n",
      "---  ------                    --------------  -----  \n",
      " 0   Id                        33754 non-null  object \n",
      " 1   review/score              33754 non-null  float64\n",
      " 2   review/text               33754 non-null  int64  \n",
      " 3   Title                     33754 non-null  object \n",
      " 4   authors                   33754 non-null  object \n",
      " 5   publisher                 33754 non-null  object \n",
      " 6   publishedDate             33754 non-null  int64  \n",
      " 7   categories                33754 non-null  object \n",
      " 8   Price                     33754 non-null  float64\n",
      " 9   conteo                    33754 non-null  int64  \n",
      " 10  review_helpfulness_up     33754 non-null  int64  \n",
      " 11  review_helpfulness_total  33754 non-null  int64  \n",
      "dtypes: float64(2), int64(5), object(5)\n",
      "memory usage: 3.1+ MB\n"
     ]
    }
   ],
   "source": [
    "df = pd.read_csv('data/reviews_final.csv')\n",
    "df.info()"
   ]
  },
  {
   "cell_type": "code",
   "execution_count": 56,
   "metadata": {},
   "outputs": [
    {
     "data": {
      "text/plain": "           Id  review/score  review/text  \\\n0  0764229893           5.0          520   \n1  0764229893           5.0          408   \n2  0764229893           5.0          250   \n\n                                         Title      authors  \\\n0  Gods and Kings (Chronicles of the Kings #1)  Lynn Austin   \n1  Gods and Kings (Chronicles of the Kings #1)  Lynn Austin   \n2  Gods and Kings (Chronicles of the Kings #1)  Lynn Austin   \n\n                  publisher  publishedDate categories  Price  conteo  \\\n0  Bethany House Publishers           2005    Fiction  10.19     315   \n1  Bethany House Publishers           2005    Fiction  10.19     315   \n2  Bethany House Publishers           2005    Fiction  10.19     315   \n\n   review_helpfulness_up  review_helpfulness_total  \n0                      0                         0  \n1                      0                         0  \n2                      0                         0  ",
      "text/html": "<div>\n<style scoped>\n    .dataframe tbody tr th:only-of-type {\n        vertical-align: middle;\n    }\n\n    .dataframe tbody tr th {\n        vertical-align: top;\n    }\n\n    .dataframe thead th {\n        text-align: right;\n    }\n</style>\n<table border=\"1\" class=\"dataframe\">\n  <thead>\n    <tr style=\"text-align: right;\">\n      <th></th>\n      <th>Id</th>\n      <th>review/score</th>\n      <th>review/text</th>\n      <th>Title</th>\n      <th>authors</th>\n      <th>publisher</th>\n      <th>publishedDate</th>\n      <th>categories</th>\n      <th>Price</th>\n      <th>conteo</th>\n      <th>review_helpfulness_up</th>\n      <th>review_helpfulness_total</th>\n    </tr>\n  </thead>\n  <tbody>\n    <tr>\n      <th>0</th>\n      <td>0764229893</td>\n      <td>5.0</td>\n      <td>520</td>\n      <td>Gods and Kings (Chronicles of the Kings #1)</td>\n      <td>Lynn Austin</td>\n      <td>Bethany House Publishers</td>\n      <td>2005</td>\n      <td>Fiction</td>\n      <td>10.19</td>\n      <td>315</td>\n      <td>0</td>\n      <td>0</td>\n    </tr>\n    <tr>\n      <th>1</th>\n      <td>0764229893</td>\n      <td>5.0</td>\n      <td>408</td>\n      <td>Gods and Kings (Chronicles of the Kings #1)</td>\n      <td>Lynn Austin</td>\n      <td>Bethany House Publishers</td>\n      <td>2005</td>\n      <td>Fiction</td>\n      <td>10.19</td>\n      <td>315</td>\n      <td>0</td>\n      <td>0</td>\n    </tr>\n    <tr>\n      <th>2</th>\n      <td>0764229893</td>\n      <td>5.0</td>\n      <td>250</td>\n      <td>Gods and Kings (Chronicles of the Kings #1)</td>\n      <td>Lynn Austin</td>\n      <td>Bethany House Publishers</td>\n      <td>2005</td>\n      <td>Fiction</td>\n      <td>10.19</td>\n      <td>315</td>\n      <td>0</td>\n      <td>0</td>\n    </tr>\n  </tbody>\n</table>\n</div>"
     },
     "execution_count": 56,
     "metadata": {},
     "output_type": "execute_result"
    }
   ],
   "source": [
    "df.head(3)"
   ]
  },
  {
   "cell_type": "markdown",
   "metadata": {},
   "source": [
    "### Preprocesado para Precio"
   ]
  },
  {
   "cell_type": "code",
   "execution_count": 57,
   "metadata": {},
   "outputs": [
    {
     "name": "stderr",
     "output_type": "stream",
     "text": [
      "D:\\Repo ciencias de datos\\venv\\Lib\\site-packages\\sklearn\\preprocessing\\_function_transformer.py:345: UserWarning: With transform=\"pandas\", `func` should return a DataFrame to follow the set_output API.\n",
      "  warnings.warn(\n"
     ]
    }
   ],
   "source": [
    "from sklearn.compose import ColumnTransformer\n",
    "from sklearn.pipeline import Pipeline\n",
    "from sklearn.preprocessing import OneHotEncoder, FunctionTransformer, StandardScaler\n",
    "\n",
    "# preprocesado para Precio\n",
    "pipeline_price = Pipeline([\n",
    "    (\n",
    "        'onehot-log',\n",
    "        ColumnTransformer(\n",
    "            transformers=[\n",
    "                (\n",
    "                    'onehot',\n",
    "                    OneHotEncoder(\n",
    "                        sparse_output=False, \n",
    "                        dtype=np.uint8, \n",
    "                        handle_unknown='ignore'\n",
    "                        ),\n",
    "                        ['authors', 'publisher', 'categories']\n",
    "                ),\n",
    "                (\n",
    "                    'log',\n",
    "                    FunctionTransformer(np.log1p),\n",
    "                    ['review/text','review_helpfulness_up', 'review_helpfulness_total']\n",
    "                ),\n",
    "            ],\n",
    "            remainder='passthrough',\n",
    "            verbose_feature_names_out=False\n",
    "        ).set_output(transform='pandas')\n",
    "    ),\n",
    "    (\n",
    "        'z-score',\n",
    "        ColumnTransformer(\n",
    "            transformers=[\n",
    "                (\n",
    "                    'z-score',\n",
    "                    StandardScaler(),\n",
    "                    ['review/text','review/score', 'conteo', 'review_helpfulness_up', 'review_helpfulness_total', 'publishedDate']\n",
    "                ),\n",
    "                (\n",
    "                    'drop_id_title',\n",
    "                    'drop',\n",
    "                    ['Id', 'Title']\n",
    "                )\n",
    "            ],\n",
    "            remainder='passthrough',\n",
    "            verbose_feature_names_out=False\n",
    "        ).set_output(transform='pandas')\n",
    "    )\n",
    "])\n",
    "\n",
    "df_cod_price = pipeline_price.fit_transform(df)"
   ]
  },
  {
   "cell_type": "code",
   "execution_count": 58,
   "metadata": {},
   "outputs": [
    {
     "data": {
      "text/plain": "   review/text  review/score    conteo  review_helpfulness_up  \\\n0     0.258933      0.694733 -0.832488              -0.794639   \n1     0.006045      0.694733 -0.832488              -0.794639   \n2    -0.504113      0.694733 -0.832488              -0.794639   \n3    -1.673016      0.694733 -0.832488              -0.794639   \n4    -0.171757      0.694733 -0.832488              -0.794639   \n\n   review_helpfulness_total  publishedDate  authors_Arlie Russell Hochschild  \\\n0                 -0.918971       0.043671                                 0   \n1                 -0.918971       0.043671                                 0   \n2                 -0.918971       0.043671                                 0   \n3                 -0.918971       0.043671                                 0   \n4                 -0.918971       0.043671                                 0   \n\n   authors_Arthur Pike & David Pike  authors_Ashley Audrain  \\\n0                                 0                       0   \n1                                 0                       0   \n2                                 0                       0   \n3                                 0                       0   \n4                                 0                       0   \n\n   authors_Ben Mezrich  ...  categories_Juvenile Fiction  \\\n0                    0  ...                            0   \n1                    0  ...                            0   \n2                    0  ...                            0   \n3                    0  ...                            0   \n4                    0  ...                            0   \n\n   categories_Juvenile Nonfiction  categories_Performing Arts  \\\n0                               0                           0   \n1                               0                           0   \n2                               0                           0   \n3                               0                           0   \n4                               0                           0   \n\n   categories_Political Science  categories_Psychology  categories_Religion  \\\n0                             0                      0                    0   \n1                             0                      0                    0   \n2                             0                      0                    0   \n3                             0                      0                    0   \n4                             0                      0                    0   \n\n   categories_Social Science  categories_True Crime  \\\n0                          0                      0   \n1                          0                      0   \n2                          0                      0   \n3                          0                      0   \n4                          0                      0   \n\n   categories_Young Adult Fiction  Price  \n0                               0  10.19  \n1                               0  10.19  \n2                               0  10.19  \n3                               0  10.19  \n4                               0  10.19  \n\n[5 rows x 132 columns]",
      "text/html": "<div>\n<style scoped>\n    .dataframe tbody tr th:only-of-type {\n        vertical-align: middle;\n    }\n\n    .dataframe tbody tr th {\n        vertical-align: top;\n    }\n\n    .dataframe thead th {\n        text-align: right;\n    }\n</style>\n<table border=\"1\" class=\"dataframe\">\n  <thead>\n    <tr style=\"text-align: right;\">\n      <th></th>\n      <th>review/text</th>\n      <th>review/score</th>\n      <th>conteo</th>\n      <th>review_helpfulness_up</th>\n      <th>review_helpfulness_total</th>\n      <th>publishedDate</th>\n      <th>authors_Arlie Russell Hochschild</th>\n      <th>authors_Arthur Pike &amp; David Pike</th>\n      <th>authors_Ashley Audrain</th>\n      <th>authors_Ben Mezrich</th>\n      <th>...</th>\n      <th>categories_Juvenile Fiction</th>\n      <th>categories_Juvenile Nonfiction</th>\n      <th>categories_Performing Arts</th>\n      <th>categories_Political Science</th>\n      <th>categories_Psychology</th>\n      <th>categories_Religion</th>\n      <th>categories_Social Science</th>\n      <th>categories_True Crime</th>\n      <th>categories_Young Adult Fiction</th>\n      <th>Price</th>\n    </tr>\n  </thead>\n  <tbody>\n    <tr>\n      <th>0</th>\n      <td>0.258933</td>\n      <td>0.694733</td>\n      <td>-0.832488</td>\n      <td>-0.794639</td>\n      <td>-0.918971</td>\n      <td>0.043671</td>\n      <td>0</td>\n      <td>0</td>\n      <td>0</td>\n      <td>0</td>\n      <td>...</td>\n      <td>0</td>\n      <td>0</td>\n      <td>0</td>\n      <td>0</td>\n      <td>0</td>\n      <td>0</td>\n      <td>0</td>\n      <td>0</td>\n      <td>0</td>\n      <td>10.19</td>\n    </tr>\n    <tr>\n      <th>1</th>\n      <td>0.006045</td>\n      <td>0.694733</td>\n      <td>-0.832488</td>\n      <td>-0.794639</td>\n      <td>-0.918971</td>\n      <td>0.043671</td>\n      <td>0</td>\n      <td>0</td>\n      <td>0</td>\n      <td>0</td>\n      <td>...</td>\n      <td>0</td>\n      <td>0</td>\n      <td>0</td>\n      <td>0</td>\n      <td>0</td>\n      <td>0</td>\n      <td>0</td>\n      <td>0</td>\n      <td>0</td>\n      <td>10.19</td>\n    </tr>\n    <tr>\n      <th>2</th>\n      <td>-0.504113</td>\n      <td>0.694733</td>\n      <td>-0.832488</td>\n      <td>-0.794639</td>\n      <td>-0.918971</td>\n      <td>0.043671</td>\n      <td>0</td>\n      <td>0</td>\n      <td>0</td>\n      <td>0</td>\n      <td>...</td>\n      <td>0</td>\n      <td>0</td>\n      <td>0</td>\n      <td>0</td>\n      <td>0</td>\n      <td>0</td>\n      <td>0</td>\n      <td>0</td>\n      <td>0</td>\n      <td>10.19</td>\n    </tr>\n    <tr>\n      <th>3</th>\n      <td>-1.673016</td>\n      <td>0.694733</td>\n      <td>-0.832488</td>\n      <td>-0.794639</td>\n      <td>-0.918971</td>\n      <td>0.043671</td>\n      <td>0</td>\n      <td>0</td>\n      <td>0</td>\n      <td>0</td>\n      <td>...</td>\n      <td>0</td>\n      <td>0</td>\n      <td>0</td>\n      <td>0</td>\n      <td>0</td>\n      <td>0</td>\n      <td>0</td>\n      <td>0</td>\n      <td>0</td>\n      <td>10.19</td>\n    </tr>\n    <tr>\n      <th>4</th>\n      <td>-0.171757</td>\n      <td>0.694733</td>\n      <td>-0.832488</td>\n      <td>-0.794639</td>\n      <td>-0.918971</td>\n      <td>0.043671</td>\n      <td>0</td>\n      <td>0</td>\n      <td>0</td>\n      <td>0</td>\n      <td>...</td>\n      <td>0</td>\n      <td>0</td>\n      <td>0</td>\n      <td>0</td>\n      <td>0</td>\n      <td>0</td>\n      <td>0</td>\n      <td>0</td>\n      <td>0</td>\n      <td>10.19</td>\n    </tr>\n  </tbody>\n</table>\n<p>5 rows × 132 columns</p>\n</div>"
     },
     "execution_count": 58,
     "metadata": {},
     "output_type": "execute_result"
    }
   ],
   "source": [
    "df_cod_price.head(5)"
   ]
  },
  {
   "cell_type": "markdown",
   "metadata": {},
   "source": [
    "### Preprocesado para Autores"
   ]
  },
  {
   "cell_type": "code",
   "execution_count": 66,
   "metadata": {},
   "outputs": [
    {
     "name": "stderr",
     "output_type": "stream",
     "text": [
      "D:\\Repo ciencias de datos\\venv\\Lib\\site-packages\\sklearn\\preprocessing\\_function_transformer.py:345: UserWarning: With transform=\"pandas\", `func` should return a DataFrame to follow the set_output API.\n",
      "  warnings.warn(\n"
     ]
    }
   ],
   "source": [
    "from sklearn.preprocessing import OrdinalEncoder\n",
    "\n",
    "autores = df['authors'].unique()\n",
    "pipeline_authors = Pipeline([\n",
    "    (\n",
    "        'one-hot-transformer',\n",
    "        ColumnTransformer(\n",
    "            transformers=[\n",
    "                (\n",
    "                    'onehot',\n",
    "                    OneHotEncoder(\n",
    "                        sparse_output=False, \n",
    "                        dtype=np.uint8, \n",
    "                        handle_unknown='ignore'\n",
    "                        ),\n",
    "                        ['publisher', 'categories']\n",
    "                ),\n",
    "                (\n",
    "                    'log',\n",
    "                    FunctionTransformer(np.log1p),\n",
    "                    ['review/text','review_helpfulness_up', 'review_helpfulness_total']\n",
    "                ),\n",
    "                (\n",
    "                    'ordinal',\n",
    "                    OrdinalEncoder(\n",
    "                        dtype=np.int64,\n",
    "                        categories=[autores]\n",
    "                    ),\n",
    "                    ['authors']\n",
    "                ),\n",
    "            ],\n",
    "            remainder='passthrough',\n",
    "            verbose_feature_names_out=False\n",
    "        ).set_output(transform='pandas')\n",
    "    ),\n",
    "    (\n",
    "        'z-score-transformer',\n",
    "        ColumnTransformer(\n",
    "            transformers=[\n",
    "                (\n",
    "                    'z-score',\n",
    "                    StandardScaler(),\n",
    "                    ['review/text', 'Price','review/score', 'conteo', 'review_helpfulness_up', 'review_helpfulness_total', 'publishedDate']\n",
    "                ),\n",
    "                (\n",
    "                    'drop_id_title',\n",
    "                    'drop',\n",
    "                    ['Id', 'Title']\n",
    "                )\n",
    "            ],\n",
    "            remainder='passthrough',\n",
    "            verbose_feature_names_out=False\n",
    "        ).set_output(transform='pandas')\n",
    "    )\n",
    "])\n",
    "\n",
    "df_cod_authors = pipeline_authors.fit_transform(df)"
   ]
  },
  {
   "cell_type": "code",
   "execution_count": 67,
   "metadata": {},
   "outputs": [
    {
     "data": {
      "text/plain": "   review/text     Price  review/score    conteo  review_helpfulness_up  \\\n0     0.258933 -0.523355      0.694733 -0.832488              -0.794639   \n1     0.006045 -0.523355      0.694733 -0.832488              -0.794639   \n2    -0.504113 -0.523355      0.694733 -0.832488              -0.794639   \n3    -1.673016 -0.523355      0.694733 -0.832488              -0.794639   \n4    -0.171757 -0.523355      0.694733 -0.832488              -0.794639   \n\n   review_helpfulness_total  publishedDate  publisher_Ags Pub  \\\n0                 -0.918971       0.043671                  0   \n1                 -0.918971       0.043671                  0   \n2                 -0.918971       0.043671                  0   \n3                 -0.918971       0.043671                  0   \n4                 -0.918971       0.043671                  0   \n\n   publisher_Amsterdam University Press  publisher_Anchor Canada  ...  \\\n0                                     0                        0  ...   \n1                                     0                        0  ...   \n2                                     0                        0  ...   \n3                                     0                        0  ...   \n4                                     0                        0  ...   \n\n   categories_Juvenile Fiction  categories_Juvenile Nonfiction  \\\n0                            0                               0   \n1                            0                               0   \n2                            0                               0   \n3                            0                               0   \n4                            0                               0   \n\n   categories_Performing Arts  categories_Political Science  \\\n0                           0                             0   \n1                           0                             0   \n2                           0                             0   \n3                           0                             0   \n4                           0                             0   \n\n   categories_Psychology  categories_Religion  categories_Social Science  \\\n0                      0                    0                          0   \n1                      0                    0                          0   \n2                      0                    0                          0   \n3                      0                    0                          0   \n4                      0                    0                          0   \n\n   categories_True Crime  categories_Young Adult Fiction  authors  \n0                      0                               0        0  \n1                      0                               0        0  \n2                      0                               0        0  \n3                      0                               0        0  \n4                      0                               0        0  \n\n[5 rows x 78 columns]",
      "text/html": "<div>\n<style scoped>\n    .dataframe tbody tr th:only-of-type {\n        vertical-align: middle;\n    }\n\n    .dataframe tbody tr th {\n        vertical-align: top;\n    }\n\n    .dataframe thead th {\n        text-align: right;\n    }\n</style>\n<table border=\"1\" class=\"dataframe\">\n  <thead>\n    <tr style=\"text-align: right;\">\n      <th></th>\n      <th>review/text</th>\n      <th>Price</th>\n      <th>review/score</th>\n      <th>conteo</th>\n      <th>review_helpfulness_up</th>\n      <th>review_helpfulness_total</th>\n      <th>publishedDate</th>\n      <th>publisher_Ags Pub</th>\n      <th>publisher_Amsterdam University Press</th>\n      <th>publisher_Anchor Canada</th>\n      <th>...</th>\n      <th>categories_Juvenile Fiction</th>\n      <th>categories_Juvenile Nonfiction</th>\n      <th>categories_Performing Arts</th>\n      <th>categories_Political Science</th>\n      <th>categories_Psychology</th>\n      <th>categories_Religion</th>\n      <th>categories_Social Science</th>\n      <th>categories_True Crime</th>\n      <th>categories_Young Adult Fiction</th>\n      <th>authors</th>\n    </tr>\n  </thead>\n  <tbody>\n    <tr>\n      <th>0</th>\n      <td>0.258933</td>\n      <td>-0.523355</td>\n      <td>0.694733</td>\n      <td>-0.832488</td>\n      <td>-0.794639</td>\n      <td>-0.918971</td>\n      <td>0.043671</td>\n      <td>0</td>\n      <td>0</td>\n      <td>0</td>\n      <td>...</td>\n      <td>0</td>\n      <td>0</td>\n      <td>0</td>\n      <td>0</td>\n      <td>0</td>\n      <td>0</td>\n      <td>0</td>\n      <td>0</td>\n      <td>0</td>\n      <td>0</td>\n    </tr>\n    <tr>\n      <th>1</th>\n      <td>0.006045</td>\n      <td>-0.523355</td>\n      <td>0.694733</td>\n      <td>-0.832488</td>\n      <td>-0.794639</td>\n      <td>-0.918971</td>\n      <td>0.043671</td>\n      <td>0</td>\n      <td>0</td>\n      <td>0</td>\n      <td>...</td>\n      <td>0</td>\n      <td>0</td>\n      <td>0</td>\n      <td>0</td>\n      <td>0</td>\n      <td>0</td>\n      <td>0</td>\n      <td>0</td>\n      <td>0</td>\n      <td>0</td>\n    </tr>\n    <tr>\n      <th>2</th>\n      <td>-0.504113</td>\n      <td>-0.523355</td>\n      <td>0.694733</td>\n      <td>-0.832488</td>\n      <td>-0.794639</td>\n      <td>-0.918971</td>\n      <td>0.043671</td>\n      <td>0</td>\n      <td>0</td>\n      <td>0</td>\n      <td>...</td>\n      <td>0</td>\n      <td>0</td>\n      <td>0</td>\n      <td>0</td>\n      <td>0</td>\n      <td>0</td>\n      <td>0</td>\n      <td>0</td>\n      <td>0</td>\n      <td>0</td>\n    </tr>\n    <tr>\n      <th>3</th>\n      <td>-1.673016</td>\n      <td>-0.523355</td>\n      <td>0.694733</td>\n      <td>-0.832488</td>\n      <td>-0.794639</td>\n      <td>-0.918971</td>\n      <td>0.043671</td>\n      <td>0</td>\n      <td>0</td>\n      <td>0</td>\n      <td>...</td>\n      <td>0</td>\n      <td>0</td>\n      <td>0</td>\n      <td>0</td>\n      <td>0</td>\n      <td>0</td>\n      <td>0</td>\n      <td>0</td>\n      <td>0</td>\n      <td>0</td>\n    </tr>\n    <tr>\n      <th>4</th>\n      <td>-0.171757</td>\n      <td>-0.523355</td>\n      <td>0.694733</td>\n      <td>-0.832488</td>\n      <td>-0.794639</td>\n      <td>-0.918971</td>\n      <td>0.043671</td>\n      <td>0</td>\n      <td>0</td>\n      <td>0</td>\n      <td>...</td>\n      <td>0</td>\n      <td>0</td>\n      <td>0</td>\n      <td>0</td>\n      <td>0</td>\n      <td>0</td>\n      <td>0</td>\n      <td>0</td>\n      <td>0</td>\n      <td>0</td>\n    </tr>\n  </tbody>\n</table>\n<p>5 rows × 78 columns</p>\n</div>"
     },
     "execution_count": 67,
     "metadata": {},
     "output_type": "execute_result"
    }
   ],
   "source": [
    "df_cod_authors.head(5)"
   ]
  },
  {
   "cell_type": "markdown",
   "metadata": {},
   "source": [
    "### Preprocesado para Rating"
   ]
  },
  {
   "cell_type": "code",
   "execution_count": 68,
   "metadata": {},
   "outputs": [
    {
     "name": "stderr",
     "output_type": "stream",
     "text": [
      "D:\\Repo ciencias de datos\\venv\\Lib\\site-packages\\sklearn\\preprocessing\\_function_transformer.py:345: UserWarning: With transform=\"pandas\", `func` should return a DataFrame to follow the set_output API.\n",
      "  warnings.warn(\n"
     ]
    }
   ],
   "source": [
    "pipeline_rating = Pipeline([\n",
    "    (\n",
    "        'one-hot-transformer',\n",
    "        ColumnTransformer(\n",
    "            transformers=[\n",
    "                (\n",
    "                    'onehot',\n",
    "                    OneHotEncoder(\n",
    "                        sparse_output=False, \n",
    "                        dtype=np.uint8, \n",
    "                        handle_unknown='ignore'\n",
    "                        ),\n",
    "                        ['authors', 'publisher', 'categories']\n",
    "                ),\n",
    "                (\n",
    "                    'log',\n",
    "                    FunctionTransformer(np.log1p),\n",
    "                    ['review/text','review_helpfulness_up', 'review_helpfulness_total']\n",
    "                )\n",
    "            ],\n",
    "            remainder='passthrough',\n",
    "            verbose_feature_names_out=False\n",
    "        ).set_output(transform='pandas')\n",
    "    ),\n",
    "    (\n",
    "        'z-score-transformer',\n",
    "        ColumnTransformer(\n",
    "            transformers=[\n",
    "                (\n",
    "                    'z-score',\n",
    "                    StandardScaler(),\n",
    "                    ['review/text', 'Price', 'conteo', 'review_helpfulness_up', 'review_helpfulness_total', 'publishedDate']\n",
    "                ),\n",
    "                (\n",
    "                    'drop_id_title',\n",
    "                    'drop',\n",
    "                    ['Id', 'Title']\n",
    "                )\n",
    "            ],\n",
    "            remainder='passthrough',\n",
    "            verbose_feature_names_out=False\n",
    "        ).set_output(transform='pandas')\n",
    "    )\n",
    "])\n",
    "\n",
    "df_cod_rating = pipeline_rating.fit_transform(df)"
   ]
  },
  {
   "cell_type": "code",
   "execution_count": 69,
   "metadata": {},
   "outputs": [
    {
     "data": {
      "text/plain": "   review/text     Price    conteo  review_helpfulness_up  \\\n0     0.258933 -0.523355 -0.832488              -0.794639   \n1     0.006045 -0.523355 -0.832488              -0.794639   \n2    -0.504113 -0.523355 -0.832488              -0.794639   \n3    -1.673016 -0.523355 -0.832488              -0.794639   \n4    -0.171757 -0.523355 -0.832488              -0.794639   \n\n   review_helpfulness_total  publishedDate  authors_Arlie Russell Hochschild  \\\n0                 -0.918971       0.043671                                 0   \n1                 -0.918971       0.043671                                 0   \n2                 -0.918971       0.043671                                 0   \n3                 -0.918971       0.043671                                 0   \n4                 -0.918971       0.043671                                 0   \n\n   authors_Arthur Pike & David Pike  authors_Ashley Audrain  \\\n0                                 0                       0   \n1                                 0                       0   \n2                                 0                       0   \n3                                 0                       0   \n4                                 0                       0   \n\n   authors_Ben Mezrich  ...  categories_Juvenile Fiction  \\\n0                    0  ...                            0   \n1                    0  ...                            0   \n2                    0  ...                            0   \n3                    0  ...                            0   \n4                    0  ...                            0   \n\n   categories_Juvenile Nonfiction  categories_Performing Arts  \\\n0                               0                           0   \n1                               0                           0   \n2                               0                           0   \n3                               0                           0   \n4                               0                           0   \n\n   categories_Political Science  categories_Psychology  categories_Religion  \\\n0                             0                      0                    0   \n1                             0                      0                    0   \n2                             0                      0                    0   \n3                             0                      0                    0   \n4                             0                      0                    0   \n\n   categories_Social Science  categories_True Crime  \\\n0                          0                      0   \n1                          0                      0   \n2                          0                      0   \n3                          0                      0   \n4                          0                      0   \n\n   categories_Young Adult Fiction  review/score  \n0                               0           5.0  \n1                               0           5.0  \n2                               0           5.0  \n3                               0           5.0  \n4                               0           5.0  \n\n[5 rows x 132 columns]",
      "text/html": "<div>\n<style scoped>\n    .dataframe tbody tr th:only-of-type {\n        vertical-align: middle;\n    }\n\n    .dataframe tbody tr th {\n        vertical-align: top;\n    }\n\n    .dataframe thead th {\n        text-align: right;\n    }\n</style>\n<table border=\"1\" class=\"dataframe\">\n  <thead>\n    <tr style=\"text-align: right;\">\n      <th></th>\n      <th>review/text</th>\n      <th>Price</th>\n      <th>conteo</th>\n      <th>review_helpfulness_up</th>\n      <th>review_helpfulness_total</th>\n      <th>publishedDate</th>\n      <th>authors_Arlie Russell Hochschild</th>\n      <th>authors_Arthur Pike &amp; David Pike</th>\n      <th>authors_Ashley Audrain</th>\n      <th>authors_Ben Mezrich</th>\n      <th>...</th>\n      <th>categories_Juvenile Fiction</th>\n      <th>categories_Juvenile Nonfiction</th>\n      <th>categories_Performing Arts</th>\n      <th>categories_Political Science</th>\n      <th>categories_Psychology</th>\n      <th>categories_Religion</th>\n      <th>categories_Social Science</th>\n      <th>categories_True Crime</th>\n      <th>categories_Young Adult Fiction</th>\n      <th>review/score</th>\n    </tr>\n  </thead>\n  <tbody>\n    <tr>\n      <th>0</th>\n      <td>0.258933</td>\n      <td>-0.523355</td>\n      <td>-0.832488</td>\n      <td>-0.794639</td>\n      <td>-0.918971</td>\n      <td>0.043671</td>\n      <td>0</td>\n      <td>0</td>\n      <td>0</td>\n      <td>0</td>\n      <td>...</td>\n      <td>0</td>\n      <td>0</td>\n      <td>0</td>\n      <td>0</td>\n      <td>0</td>\n      <td>0</td>\n      <td>0</td>\n      <td>0</td>\n      <td>0</td>\n      <td>5.0</td>\n    </tr>\n    <tr>\n      <th>1</th>\n      <td>0.006045</td>\n      <td>-0.523355</td>\n      <td>-0.832488</td>\n      <td>-0.794639</td>\n      <td>-0.918971</td>\n      <td>0.043671</td>\n      <td>0</td>\n      <td>0</td>\n      <td>0</td>\n      <td>0</td>\n      <td>...</td>\n      <td>0</td>\n      <td>0</td>\n      <td>0</td>\n      <td>0</td>\n      <td>0</td>\n      <td>0</td>\n      <td>0</td>\n      <td>0</td>\n      <td>0</td>\n      <td>5.0</td>\n    </tr>\n    <tr>\n      <th>2</th>\n      <td>-0.504113</td>\n      <td>-0.523355</td>\n      <td>-0.832488</td>\n      <td>-0.794639</td>\n      <td>-0.918971</td>\n      <td>0.043671</td>\n      <td>0</td>\n      <td>0</td>\n      <td>0</td>\n      <td>0</td>\n      <td>...</td>\n      <td>0</td>\n      <td>0</td>\n      <td>0</td>\n      <td>0</td>\n      <td>0</td>\n      <td>0</td>\n      <td>0</td>\n      <td>0</td>\n      <td>0</td>\n      <td>5.0</td>\n    </tr>\n    <tr>\n      <th>3</th>\n      <td>-1.673016</td>\n      <td>-0.523355</td>\n      <td>-0.832488</td>\n      <td>-0.794639</td>\n      <td>-0.918971</td>\n      <td>0.043671</td>\n      <td>0</td>\n      <td>0</td>\n      <td>0</td>\n      <td>0</td>\n      <td>...</td>\n      <td>0</td>\n      <td>0</td>\n      <td>0</td>\n      <td>0</td>\n      <td>0</td>\n      <td>0</td>\n      <td>0</td>\n      <td>0</td>\n      <td>0</td>\n      <td>5.0</td>\n    </tr>\n    <tr>\n      <th>4</th>\n      <td>-0.171757</td>\n      <td>-0.523355</td>\n      <td>-0.832488</td>\n      <td>-0.794639</td>\n      <td>-0.918971</td>\n      <td>0.043671</td>\n      <td>0</td>\n      <td>0</td>\n      <td>0</td>\n      <td>0</td>\n      <td>...</td>\n      <td>0</td>\n      <td>0</td>\n      <td>0</td>\n      <td>0</td>\n      <td>0</td>\n      <td>0</td>\n      <td>0</td>\n      <td>0</td>\n      <td>0</td>\n      <td>5.0</td>\n    </tr>\n  </tbody>\n</table>\n<p>5 rows × 132 columns</p>\n</div>"
     },
     "execution_count": 69,
     "metadata": {},
     "output_type": "execute_result"
    }
   ],
   "source": [
    "df_cod_rating.head(5)"
   ]
  },
  {
   "cell_type": "markdown",
   "metadata": {},
   "source": [
    "## Separacion de los datos de entrenamiento"
   ]
  },
  {
   "cell_type": "code",
   "execution_count": 70,
   "metadata": {},
   "outputs": [],
   "source": [
    "from sklearn.model_selection import train_test_split\n",
    "from sklearn.ensemble import RandomForestClassifier\n",
    "from sklearn.metrics import confusion_matrix, accuracy_score, precision_score, recall_score, f1_score\n",
    "import time"
   ]
  },
  {
   "cell_type": "code",
   "execution_count": 71,
   "metadata": {},
   "outputs": [],
   "source": [
    "df_price_train, df_price_val = train_test_split(df_cod_price, test_size=0.25, random_state=42, stratify=df_cod_price['Price'])"
   ]
  },
  {
   "cell_type": "code",
   "execution_count": 72,
   "metadata": {},
   "outputs": [],
   "source": [
    "X_price_train = df_price_train.drop(columns='Price')\n",
    "Y_price_train = df_price_train['Price']\n",
    "\n",
    "X_price_val = df_price_val.drop(columns='Price')\n",
    "Y_price_val = df_price_val['Price']"
   ]
  },
  {
   "cell_type": "markdown",
   "metadata": {},
   "source": [
    "### Separacion para Hipotesis Autores"
   ]
  },
  {
   "cell_type": "code",
   "execution_count": 73,
   "metadata": {},
   "outputs": [],
   "source": [
    "df_authors_train, df_authors_val = train_test_split(df_cod_authors, test_size=0.25, random_state=42, stratify=df_cod_authors['authors'])"
   ]
  },
  {
   "cell_type": "code",
   "execution_count": 74,
   "metadata": {},
   "outputs": [],
   "source": [
    "X_authors_train = df_authors_train.drop(columns='authors')\n",
    "Y_authors_train = df_authors_train['authors']\n",
    "\n",
    "X_authors_val = df_authors_val.drop(columns='authors')\n",
    "Y_authors_val = df_authors_val['authors']"
   ]
  },
  {
   "cell_type": "markdown",
   "metadata": {},
   "source": [
    "### Separacion para Hipotesis Rating"
   ]
  },
  {
   "cell_type": "code",
   "execution_count": 75,
   "metadata": {},
   "outputs": [],
   "source": [
    "df_rating_train, df_rating_val = train_test_split(df_cod_rating, test_size=0.25, random_state=42, stratify=df_cod_rating['review/score'])"
   ]
  },
  {
   "cell_type": "code",
   "execution_count": 76,
   "metadata": {},
   "outputs": [],
   "source": [
    "X_rating_train = df_rating_train.drop(columns='review/score')\n",
    "Y_rating_train = df_rating_train['review/score']\n",
    "\n",
    "X_rating_val = df_rating_val.drop(columns='review/score')\n",
    "Y_rating_val = df_rating_val['review/score']"
   ]
  },
  {
   "cell_type": "markdown",
   "metadata": {},
   "source": [
    "### Entrenamiento para Hipotesis Rating"
   ]
  },
  {
   "cell_type": "code",
   "execution_count": 77,
   "metadata": {},
   "outputs": [
    {
     "name": "stdout",
     "output_type": "stream",
     "text": [
      "Tiempo de entrenamiento: 5.119294166564941 segundos\n"
     ]
    }
   ],
   "source": [
    "rf_rating = RandomForestClassifier(n_estimators = 120, max_depth = 15, class_weight = 'balanced')\n",
    "start = time.time()\n",
    "rf_rating.fit(X_rating_train, Y_rating_train)\n",
    "end = time.time()\n",
    "print(f\"Tiempo de entrenamiento: {end-start} segundos\")"
   ]
  },
  {
   "cell_type": "code",
   "execution_count": 78,
   "metadata": {},
   "outputs": [],
   "source": [
    "predicciones_train_rating = rf_rating.predict(X_rating_train)"
   ]
  },
  {
   "cell_type": "code",
   "execution_count": 79,
   "metadata": {},
   "outputs": [
    {
     "name": "stdout",
     "output_type": "stream",
     "text": [
      "Exactitud en los datos de entrenamiento: 0.74\n"
     ]
    }
   ],
   "source": [
    "accuracy_train_rating = accuracy_score(Y_rating_train, predicciones_train_rating)\n",
    "print(f'Exactitud en los datos de entrenamiento: {accuracy_train_rating:.2f}')"
   ]
  },
  {
   "cell_type": "code",
   "execution_count": 80,
   "metadata": {},
   "outputs": [],
   "source": [
    "predicciones_val_rating = rf_rating.predict(X_rating_val)"
   ]
  },
  {
   "cell_type": "code",
   "execution_count": 81,
   "metadata": {},
   "outputs": [
    {
     "name": "stdout",
     "output_type": "stream",
     "text": [
      "Exactitud en los datos de validacion: 0.52\n"
     ]
    }
   ],
   "source": [
    "accuracy_val_rating = accuracy_score(Y_rating_val, predicciones_val_rating)\n",
    "print(f'Exactitud en los datos de validacion: {accuracy_val_rating:.2f}')"
   ]
  },
  {
   "cell_type": "markdown",
   "metadata": {},
   "source": [
    "### Entrenamiento clasificador para Hipotesis Autores"
   ]
  },
  {
   "cell_type": "code",
   "execution_count": 82,
   "metadata": {},
   "outputs": [
    {
     "name": "stdout",
     "output_type": "stream",
     "text": [
      "Tiempo de entrenamiento: 2.418285608291626 segundos\n"
     ]
    }
   ],
   "source": [
    "rf_autores = RandomForestClassifier(n_estimators = 150, max_depth = 12, class_weight = 'balanced')\n",
    "start = time.time()\n",
    "rf_autores.fit(X_authors_train, Y_authors_train)\n",
    "end = time.time()\n",
    "print(f\"Tiempo de entrenamiento: {end-start} segundos\")"
   ]
  },
  {
   "cell_type": "code",
   "execution_count": 83,
   "metadata": {},
   "outputs": [],
   "source": [
    "predicciones_train_autores = rf_autores.predict(X_authors_train)"
   ]
  },
  {
   "cell_type": "code",
   "execution_count": 84,
   "metadata": {},
   "outputs": [
    {
     "name": "stdout",
     "output_type": "stream",
     "text": [
      "Exactitud en los datos de entrenamiento: 1.00\n"
     ]
    }
   ],
   "source": [
    "accuracy_train_autores = accuracy_score(Y_authors_train, predicciones_train_autores)\n",
    "print(f'Exactitud en los datos de entrenamiento: {accuracy_train_autores:.2f}')"
   ]
  },
  {
   "cell_type": "code",
   "execution_count": 85,
   "metadata": {},
   "outputs": [
    {
     "name": "stdout",
     "output_type": "stream",
     "text": [
      "Exactitud en los datos de validación: 1.00\n"
     ]
    }
   ],
   "source": [
    "predicciones_val_autores = rf_autores.predict(X_authors_val)\n",
    "accuracy_val_autores = accuracy_score(Y_authors_val, predicciones_val_autores)\n",
    "print(f'Exactitud en los datos de validación: {accuracy_val_autores:.2f}')"
   ]
  },
  {
   "cell_type": "code",
   "execution_count": 86,
   "metadata": {},
   "outputs": [
    {
     "data": {
      "text/plain": "array([0.00110548, 0.04669177, 0.00172228, 0.05601922, 0.00236577,\n       0.00185244, 0.04978145, 0.00648637, 0.00898969, 0.01266837,\n       0.01669761, 0.0132499 , 0.0142815 , 0.0194795 , 0.0126358 ,\n       0.01141303, 0.01278674, 0.00965413, 0.02185024, 0.01538853,\n       0.0148576 , 0.00639272, 0.00649472, 0.00842776, 0.01055093,\n       0.01386195, 0.00994845, 0.00994116, 0.0107663 , 0.01153327,\n       0.01806721, 0.0114529 , 0.01313765, 0.01436406, 0.01540305,\n       0.01429711, 0.0180577 , 0.00840255, 0.01734568, 0.01347877,\n       0.0121847 , 0.01322592, 0.00896447, 0.01376156, 0.01208495,\n       0.01539179, 0.0076895 , 0.01150387, 0.01747278, 0.01740476,\n       0.01342139, 0.01038055, 0.01749786, 0.01454422, 0.00388403,\n       0.01531882, 0.0078195 , 0.00836498, 0.01225163, 0.01177109,\n       0.00713742, 0.00908766, 0.01362918, 0.01417152, 0.01167645,\n       0.01190123, 0.00631064, 0.01228282, 0.00485491, 0.01229819,\n       0.01286216, 0.00965074, 0.00959786, 0.00948085, 0.01021754,\n       0.00771619, 0.01028487])"
     },
     "execution_count": 86,
     "metadata": {},
     "output_type": "execute_result"
    }
   ],
   "source": [
    "rf_autores.feature_importances_"
   ]
  },
  {
   "cell_type": "markdown",
   "metadata": {},
   "source": [
    "### Clasificador MLP para Autores"
   ]
  },
  {
   "cell_type": "code",
   "execution_count": 87,
   "metadata": {},
   "outputs": [],
   "source": [
    "from sklearn.neural_network import MLPClassifier, MLPRegressor"
   ]
  },
  {
   "cell_type": "code",
   "execution_count": 88,
   "metadata": {},
   "outputs": [
    {
     "name": "stdout",
     "output_type": "stream",
     "text": [
      "Tiempo de entrenamiento: 39.23975491523743\n"
     ]
    }
   ],
   "source": [
    "start = time.time()\n",
    "mlp_autores = MLPClassifier(hidden_layer_sizes=(20,20,20), max_iter=400, activation='logistic', alpha=0.001,  random_state=17)\n",
    "mlp_autores.fit(X_authors_train, Y_authors_train)\n",
    "end = time.time()\n",
    "\n",
    "print(f\"Tiempo de entrenamiento: {end-start}\")"
   ]
  },
  {
   "cell_type": "code",
   "execution_count": 89,
   "metadata": {},
   "outputs": [
    {
     "name": "stdout",
     "output_type": "stream",
     "text": [
      "Exactitud en los datos de entrenamiento: 1.00\n"
     ]
    }
   ],
   "source": [
    "predicciones_train_autores_mlp = mlp_autores.predict(X_authors_train)\n",
    "accuracy_train_autores_mlp = accuracy_score(Y_authors_train, predicciones_train_autores_mlp)\n",
    "print(f'Exactitud en los datos de entrenamiento: {accuracy_train_autores_mlp:.2f}')"
   ]
  },
  {
   "cell_type": "code",
   "execution_count": 90,
   "metadata": {},
   "outputs": [
    {
     "data": {
      "text/plain": "                          Correlation  Abs_Correlation\nauthors                      1.000000         1.000000\nPrice                       -0.280731         0.280731\nconteo                       0.252632         0.252632\nTitle                        0.208383         0.208383\npublishedDate               -0.161830         0.161830\npublisher                   -0.116467         0.116467\nreview/score                -0.108625         0.108625\nreview/text                 -0.039979         0.039979\nreview_helpfulness_total    -0.037844         0.037844\ncategories                  -0.035867         0.035867\nreview_helpfulness_up       -0.024368         0.024368",
      "text/html": "<div>\n<style scoped>\n    .dataframe tbody tr th:only-of-type {\n        vertical-align: middle;\n    }\n\n    .dataframe tbody tr th {\n        vertical-align: top;\n    }\n\n    .dataframe thead th {\n        text-align: right;\n    }\n</style>\n<table border=\"1\" class=\"dataframe\">\n  <thead>\n    <tr style=\"text-align: right;\">\n      <th></th>\n      <th>Correlation</th>\n      <th>Abs_Correlation</th>\n    </tr>\n  </thead>\n  <tbody>\n    <tr>\n      <th>authors</th>\n      <td>1.000000</td>\n      <td>1.000000</td>\n    </tr>\n    <tr>\n      <th>Price</th>\n      <td>-0.280731</td>\n      <td>0.280731</td>\n    </tr>\n    <tr>\n      <th>conteo</th>\n      <td>0.252632</td>\n      <td>0.252632</td>\n    </tr>\n    <tr>\n      <th>Title</th>\n      <td>0.208383</td>\n      <td>0.208383</td>\n    </tr>\n    <tr>\n      <th>publishedDate</th>\n      <td>-0.161830</td>\n      <td>0.161830</td>\n    </tr>\n    <tr>\n      <th>publisher</th>\n      <td>-0.116467</td>\n      <td>0.116467</td>\n    </tr>\n    <tr>\n      <th>review/score</th>\n      <td>-0.108625</td>\n      <td>0.108625</td>\n    </tr>\n    <tr>\n      <th>review/text</th>\n      <td>-0.039979</td>\n      <td>0.039979</td>\n    </tr>\n    <tr>\n      <th>review_helpfulness_total</th>\n      <td>-0.037844</td>\n      <td>0.037844</td>\n    </tr>\n    <tr>\n      <th>categories</th>\n      <td>-0.035867</td>\n      <td>0.035867</td>\n    </tr>\n    <tr>\n      <th>review_helpfulness_up</th>\n      <td>-0.024368</td>\n      <td>0.024368</td>\n    </tr>\n  </tbody>\n</table>\n</div>"
     },
     "execution_count": 90,
     "metadata": {},
     "output_type": "execute_result"
    }
   ],
   "source": [
    "from sklearn.preprocessing import LabelEncoder\n",
    "df_cod_ord = df.copy()\n",
    "\n",
    "# Lista de columnas a codificar\n",
    "columnas_label = ['Title', 'authors', 'publisher', 'categories']\n",
    "\n",
    "# Crear una instancia del codificador\n",
    "label_encoder = LabelEncoder()\n",
    "\n",
    "# Aplicar Label Encoding a cada columna\n",
    "for columna in columnas_label:\n",
    "    df_cod_ord[columna] = label_encoder.fit_transform(df_cod_ord[columna])\n",
    "\n",
    "# Ver el DataFrame resultante\n",
    "df_cod_ord.head()\n",
    "\n",
    "df_cod_ord = df_cod_ord.drop(columns='Id')\n",
    "correlacion_authors_ord =df_cod_ord.corrwith(df_cod_ord['authors'])\n",
    "correlacion_authors_ord_df = pd.DataFrame(correlacion_authors_ord, columns=['Correlation']).sort_values('Correlation').dropna()\n",
    "# Es necesario hacer la copia porque sino salta una excepción al momento de graficar\n",
    "correlacion_authors_ord_df_abs = correlacion_authors_ord_df.copy()\n",
    "correlacion_authors_ord_df_abs['Abs_Correlation'] =correlacion_authors_ord_df_abs['Correlation'].abs()\n",
    "correlacion_authors_ord_df_abs = correlacion_authors_ord_df_abs.sort_values(by='Abs_Correlation', ascending=False)\n",
    "correlacion_authors_ord_df_abs"
   ]
  },
  {
   "cell_type": "markdown",
   "metadata": {},
   "source": [
    "### Entrenamiento para Hipotesis Precio"
   ]
  },
  {
   "cell_type": "code",
   "execution_count": 91,
   "metadata": {},
   "outputs": [
    {
     "name": "stdout",
     "output_type": "stream",
     "text": [
      "Tiempo de entrenamiento: 27.457914352416992\n"
     ]
    }
   ],
   "source": [
    "start = time.time()\n",
    "mlp_precio = MLPRegressor(hidden_layer_sizes=(20,20,20), max_iter=400, activation='logistic', alpha=0.001,  random_state=17)\n",
    "mlp_precio.fit(X_price_train, Y_price_train)\n",
    "end = time.time()\n",
    "\n",
    "print(f\"Tiempo de entrenamiento: {end-start}\")"
   ]
  },
  {
   "cell_type": "code",
   "execution_count": 92,
   "metadata": {},
   "outputs": [],
   "source": [
    "from sklearn.metrics import mean_squared_error"
   ]
  },
  {
   "cell_type": "code",
   "execution_count": 93,
   "metadata": {},
   "outputs": [
    {
     "name": "stdout",
     "output_type": "stream",
     "text": [
      "Error cuadrático medio: 0.00\n"
     ]
    }
   ],
   "source": [
    "predicciones_train_price = mlp_precio.predict(X_price_train)\n",
    "mse_price = mean_squared_error(Y_price_train, predicciones_train_price)\n",
    "print(f'Error cuadrático medio: {mse_price:.2f}')"
   ]
  }
 ],
 "metadata": {
  "kernelspec": {
   "display_name": "py310_iar",
   "language": "python",
   "name": "python3"
  },
  "language_info": {
   "codemirror_mode": {
    "name": "ipython",
    "version": 3
   },
   "file_extension": ".py",
   "mimetype": "text/x-python",
   "name": "python",
   "nbconvert_exporter": "python",
   "pygments_lexer": "ipython3",
   "version": "3.10.6"
  }
 },
 "nbformat": 4,
 "nbformat_minor": 2
}
