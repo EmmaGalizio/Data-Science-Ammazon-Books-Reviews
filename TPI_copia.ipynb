{
 "cells": [
  {
   "cell_type": "code",
   "execution_count": 306,
   "metadata": {
    "collapsed": true
   },
   "outputs": [],
   "source": [
    "import pandas as pd\n",
    "import numpy as np\n",
    "import matplotlib.pyplot as plt\n",
    "import seaborn as sns\n",
    "from fuzzy_match import algorithims"
   ]
  },
  {
   "cell_type": "code",
   "execution_count": 307,
   "outputs": [
    {
     "data": {
      "text/plain": "                                               Title  \\\n0                     Its Only Art If Its Well Hung!   \n1                           Dr. Seuss: American Icon   \n2              Wonderful Worship in Smaller Churches   \n3                      Whispers of the Wicked Saints   \n4  Nation Dance: Religion, Identity and Cultural ...   \n5  The Church of Christ: A Biblical Ecclesiology ...   \n6                         The Overbury affair (Avon)   \n7            A Walk in the Woods: a Play in Two Acts   \n8                           Saint Hyacinth of Poland   \n9  Rising Sons and Daughters: Life Among Japan's ...   \n\n                    authors  \\\n0          ['Julie Strain']   \n1            ['Philip Nel']   \n2          ['David R. Ray']   \n3       ['Veronica Haddon']   \n4           ['Edward Long']   \n5      ['Everett Ferguson']   \n6  ['Miriam Allen De Ford']   \n7          ['Lee Blessing']   \n8  ['Mary Fabyan Windeatt']   \n9        ['Steven Wardell']   \n\n                                               image  \\\n0  http://books.google.com/books/content?id=DykPA...   \n1  http://books.google.com/books/content?id=IjvHQ...   \n2  http://books.google.com/books/content?id=2tsDA...   \n3  http://books.google.com/books/content?id=aRSIg...   \n4                                                NaN   \n5  http://books.google.com/books/content?id=kVqRa...   \n6                                                NaN   \n7                                                NaN   \n8  http://books.google.com/books/content?id=lmLqA...   \n9                                                NaN   \n\n                                         previewLink  \\\n0  http://books.google.nl/books?id=DykPAAAACAAJ&d...   \n1  http://books.google.nl/books?id=IjvHQsCn_pgC&p...   \n2  http://books.google.nl/books?id=2tsDAAAACAAJ&d...   \n3  http://books.google.nl/books?id=aRSIgJlq6JwC&d...   \n4  http://books.google.nl/books?id=399SPgAACAAJ&d...   \n5  http://books.google.nl/books?id=kVqRaiPlx88C&p...   \n6  http://books.google.nl/books?id=mHLTngEACAAJ&d...   \n7  http://books.google.nl/books?id=6HDOwAEACAAJ&d...   \n8  http://books.google.nl/books?id=lmLqAAAACAAJ&d...   \n9  http://books.google.nl/books?id=rbLZugEACAAJ&d...   \n\n                    publisher publishedDate  \\\n0                         NaN          1996   \n1                   A&C Black    2005-01-01   \n2                         NaN          2000   \n3                   iUniverse       2005-02   \n4                         NaN    2003-03-01   \n5  Wm. B. Eerdmans Publishing          1996   \n6                         NaN          1960   \n7                         NaN          1988   \n8             Tan Books & Pub    2009-01-01   \n9          Plympton PressIntl          1995   \n\n                                            infoLink  \\\n0  http://books.google.nl/books?id=DykPAAAACAAJ&d...   \n1  http://books.google.nl/books?id=IjvHQsCn_pgC&d...   \n2  http://books.google.nl/books?id=2tsDAAAACAAJ&d...   \n3  http://books.google.nl/books?id=aRSIgJlq6JwC&d...   \n4  http://books.google.nl/books?id=399SPgAACAAJ&d...   \n5  http://books.google.nl/books?id=kVqRaiPlx88C&d...   \n6  http://books.google.nl/books?id=mHLTngEACAAJ&d...   \n7  http://books.google.nl/books?id=6HDOwAEACAAJ&d...   \n8  http://books.google.nl/books?id=lmLqAAAACAAJ&d...   \n9  http://books.google.nl/books?id=rbLZugEACAAJ&d...   \n\n                      categories  ratingsCount  \n0    ['Comics & Graphic Novels']           NaN  \n1  ['Biography & Autobiography']           NaN  \n2                   ['Religion']           NaN  \n3                    ['Fiction']           NaN  \n4                            NaN           NaN  \n5                   ['Religion']           5.0  \n6                            NaN           NaN  \n7                            NaN           3.0  \n8  ['Biography & Autobiography']           NaN  \n9             ['Social Science']           NaN  ",
      "text/html": "<div>\n<style scoped>\n    .dataframe tbody tr th:only-of-type {\n        vertical-align: middle;\n    }\n\n    .dataframe tbody tr th {\n        vertical-align: top;\n    }\n\n    .dataframe thead th {\n        text-align: right;\n    }\n</style>\n<table border=\"1\" class=\"dataframe\">\n  <thead>\n    <tr style=\"text-align: right;\">\n      <th></th>\n      <th>Title</th>\n      <th>authors</th>\n      <th>image</th>\n      <th>previewLink</th>\n      <th>publisher</th>\n      <th>publishedDate</th>\n      <th>infoLink</th>\n      <th>categories</th>\n      <th>ratingsCount</th>\n    </tr>\n  </thead>\n  <tbody>\n    <tr>\n      <th>0</th>\n      <td>Its Only Art If Its Well Hung!</td>\n      <td>['Julie Strain']</td>\n      <td>http://books.google.com/books/content?id=DykPA...</td>\n      <td>http://books.google.nl/books?id=DykPAAAACAAJ&amp;d...</td>\n      <td>NaN</td>\n      <td>1996</td>\n      <td>http://books.google.nl/books?id=DykPAAAACAAJ&amp;d...</td>\n      <td>['Comics &amp; Graphic Novels']</td>\n      <td>NaN</td>\n    </tr>\n    <tr>\n      <th>1</th>\n      <td>Dr. Seuss: American Icon</td>\n      <td>['Philip Nel']</td>\n      <td>http://books.google.com/books/content?id=IjvHQ...</td>\n      <td>http://books.google.nl/books?id=IjvHQsCn_pgC&amp;p...</td>\n      <td>A&amp;C Black</td>\n      <td>2005-01-01</td>\n      <td>http://books.google.nl/books?id=IjvHQsCn_pgC&amp;d...</td>\n      <td>['Biography &amp; Autobiography']</td>\n      <td>NaN</td>\n    </tr>\n    <tr>\n      <th>2</th>\n      <td>Wonderful Worship in Smaller Churches</td>\n      <td>['David R. Ray']</td>\n      <td>http://books.google.com/books/content?id=2tsDA...</td>\n      <td>http://books.google.nl/books?id=2tsDAAAACAAJ&amp;d...</td>\n      <td>NaN</td>\n      <td>2000</td>\n      <td>http://books.google.nl/books?id=2tsDAAAACAAJ&amp;d...</td>\n      <td>['Religion']</td>\n      <td>NaN</td>\n    </tr>\n    <tr>\n      <th>3</th>\n      <td>Whispers of the Wicked Saints</td>\n      <td>['Veronica Haddon']</td>\n      <td>http://books.google.com/books/content?id=aRSIg...</td>\n      <td>http://books.google.nl/books?id=aRSIgJlq6JwC&amp;d...</td>\n      <td>iUniverse</td>\n      <td>2005-02</td>\n      <td>http://books.google.nl/books?id=aRSIgJlq6JwC&amp;d...</td>\n      <td>['Fiction']</td>\n      <td>NaN</td>\n    </tr>\n    <tr>\n      <th>4</th>\n      <td>Nation Dance: Religion, Identity and Cultural ...</td>\n      <td>['Edward Long']</td>\n      <td>NaN</td>\n      <td>http://books.google.nl/books?id=399SPgAACAAJ&amp;d...</td>\n      <td>NaN</td>\n      <td>2003-03-01</td>\n      <td>http://books.google.nl/books?id=399SPgAACAAJ&amp;d...</td>\n      <td>NaN</td>\n      <td>NaN</td>\n    </tr>\n    <tr>\n      <th>5</th>\n      <td>The Church of Christ: A Biblical Ecclesiology ...</td>\n      <td>['Everett Ferguson']</td>\n      <td>http://books.google.com/books/content?id=kVqRa...</td>\n      <td>http://books.google.nl/books?id=kVqRaiPlx88C&amp;p...</td>\n      <td>Wm. B. Eerdmans Publishing</td>\n      <td>1996</td>\n      <td>http://books.google.nl/books?id=kVqRaiPlx88C&amp;d...</td>\n      <td>['Religion']</td>\n      <td>5.0</td>\n    </tr>\n    <tr>\n      <th>6</th>\n      <td>The Overbury affair (Avon)</td>\n      <td>['Miriam Allen De Ford']</td>\n      <td>NaN</td>\n      <td>http://books.google.nl/books?id=mHLTngEACAAJ&amp;d...</td>\n      <td>NaN</td>\n      <td>1960</td>\n      <td>http://books.google.nl/books?id=mHLTngEACAAJ&amp;d...</td>\n      <td>NaN</td>\n      <td>NaN</td>\n    </tr>\n    <tr>\n      <th>7</th>\n      <td>A Walk in the Woods: a Play in Two Acts</td>\n      <td>['Lee Blessing']</td>\n      <td>NaN</td>\n      <td>http://books.google.nl/books?id=6HDOwAEACAAJ&amp;d...</td>\n      <td>NaN</td>\n      <td>1988</td>\n      <td>http://books.google.nl/books?id=6HDOwAEACAAJ&amp;d...</td>\n      <td>NaN</td>\n      <td>3.0</td>\n    </tr>\n    <tr>\n      <th>8</th>\n      <td>Saint Hyacinth of Poland</td>\n      <td>['Mary Fabyan Windeatt']</td>\n      <td>http://books.google.com/books/content?id=lmLqA...</td>\n      <td>http://books.google.nl/books?id=lmLqAAAACAAJ&amp;d...</td>\n      <td>Tan Books &amp; Pub</td>\n      <td>2009-01-01</td>\n      <td>http://books.google.nl/books?id=lmLqAAAACAAJ&amp;d...</td>\n      <td>['Biography &amp; Autobiography']</td>\n      <td>NaN</td>\n    </tr>\n    <tr>\n      <th>9</th>\n      <td>Rising Sons and Daughters: Life Among Japan's ...</td>\n      <td>['Steven Wardell']</td>\n      <td>NaN</td>\n      <td>http://books.google.nl/books?id=rbLZugEACAAJ&amp;d...</td>\n      <td>Plympton PressIntl</td>\n      <td>1995</td>\n      <td>http://books.google.nl/books?id=rbLZugEACAAJ&amp;d...</td>\n      <td>['Social Science']</td>\n      <td>NaN</td>\n    </tr>\n  </tbody>\n</table>\n</div>"
     },
     "execution_count": 307,
     "metadata": {},
     "output_type": "execute_result"
    }
   ],
   "source": [
    "# carga de df_books\n",
    "columns_books = ['Title', 'authors', 'image', 'previewLink', 'publisher', 'publishedDate', 'infoLink',\n",
    "               'categories', 'ratingsCount']\n",
    "\n",
    "columns_reviews = ['Id', 'Title', 'Price', 'review/helpfulness', 'review/score', 'review/text']\n",
    "\n",
    "df_books = pd.read_csv('data/books_data.csv', usecols=columns_books)\n",
    "df_books.head(10)"
   ],
   "metadata": {
    "collapsed": false
   }
  },
  {
   "cell_type": "code",
   "execution_count": 308,
   "outputs": [
    {
     "data": {
      "text/plain": "           Id                           Title  Price review/helpfulness  \\\n0  1882931173  Its Only Art If Its Well Hung!    NaN                7/7   \n1  0826414346        Dr. Seuss: American Icon    NaN              10/10   \n2  0826414346        Dr. Seuss: American Icon    NaN              10/11   \n3  0826414346        Dr. Seuss: American Icon    NaN                7/7   \n4  0826414346        Dr. Seuss: American Icon    NaN                3/3   \n5  0826414346        Dr. Seuss: American Icon    NaN                2/2   \n6  0826414346        Dr. Seuss: American Icon    NaN                3/4   \n7  0826414346        Dr. Seuss: American Icon    NaN                0/0   \n8  0826414346        Dr. Seuss: American Icon    NaN                0/0   \n9  0826414346        Dr. Seuss: American Icon    NaN                3/5   \n\n   review/score                                        review/text  \n0           4.0  This is only for Julie Strain fans. It's a col...  \n1           5.0  I don't care much for Dr. Seuss but after read...  \n2           5.0  If people become the books they read and if \"t...  \n3           4.0  Theodore Seuss Geisel (1904-1991), aka &quot;D...  \n4           4.0  Philip Nel - Dr. Seuss: American IconThis is b...  \n5           4.0  \"Dr. Seuss: American Icon\" by Philip Nel is a ...  \n6           5.0  Theodor Seuss Giesel was best known as 'Dr. Se...  \n7           5.0  When I recieved this book as a gift for Christ...  \n8           5.0  Trams (or any public transport) are not usuall...  \n9           4.0  As far as I am aware, this is the first book-l...  ",
      "text/html": "<div>\n<style scoped>\n    .dataframe tbody tr th:only-of-type {\n        vertical-align: middle;\n    }\n\n    .dataframe tbody tr th {\n        vertical-align: top;\n    }\n\n    .dataframe thead th {\n        text-align: right;\n    }\n</style>\n<table border=\"1\" class=\"dataframe\">\n  <thead>\n    <tr style=\"text-align: right;\">\n      <th></th>\n      <th>Id</th>\n      <th>Title</th>\n      <th>Price</th>\n      <th>review/helpfulness</th>\n      <th>review/score</th>\n      <th>review/text</th>\n    </tr>\n  </thead>\n  <tbody>\n    <tr>\n      <th>0</th>\n      <td>1882931173</td>\n      <td>Its Only Art If Its Well Hung!</td>\n      <td>NaN</td>\n      <td>7/7</td>\n      <td>4.0</td>\n      <td>This is only for Julie Strain fans. It's a col...</td>\n    </tr>\n    <tr>\n      <th>1</th>\n      <td>0826414346</td>\n      <td>Dr. Seuss: American Icon</td>\n      <td>NaN</td>\n      <td>10/10</td>\n      <td>5.0</td>\n      <td>I don't care much for Dr. Seuss but after read...</td>\n    </tr>\n    <tr>\n      <th>2</th>\n      <td>0826414346</td>\n      <td>Dr. Seuss: American Icon</td>\n      <td>NaN</td>\n      <td>10/11</td>\n      <td>5.0</td>\n      <td>If people become the books they read and if \"t...</td>\n    </tr>\n    <tr>\n      <th>3</th>\n      <td>0826414346</td>\n      <td>Dr. Seuss: American Icon</td>\n      <td>NaN</td>\n      <td>7/7</td>\n      <td>4.0</td>\n      <td>Theodore Seuss Geisel (1904-1991), aka &amp;quot;D...</td>\n    </tr>\n    <tr>\n      <th>4</th>\n      <td>0826414346</td>\n      <td>Dr. Seuss: American Icon</td>\n      <td>NaN</td>\n      <td>3/3</td>\n      <td>4.0</td>\n      <td>Philip Nel - Dr. Seuss: American IconThis is b...</td>\n    </tr>\n    <tr>\n      <th>5</th>\n      <td>0826414346</td>\n      <td>Dr. Seuss: American Icon</td>\n      <td>NaN</td>\n      <td>2/2</td>\n      <td>4.0</td>\n      <td>\"Dr. Seuss: American Icon\" by Philip Nel is a ...</td>\n    </tr>\n    <tr>\n      <th>6</th>\n      <td>0826414346</td>\n      <td>Dr. Seuss: American Icon</td>\n      <td>NaN</td>\n      <td>3/4</td>\n      <td>5.0</td>\n      <td>Theodor Seuss Giesel was best known as 'Dr. Se...</td>\n    </tr>\n    <tr>\n      <th>7</th>\n      <td>0826414346</td>\n      <td>Dr. Seuss: American Icon</td>\n      <td>NaN</td>\n      <td>0/0</td>\n      <td>5.0</td>\n      <td>When I recieved this book as a gift for Christ...</td>\n    </tr>\n    <tr>\n      <th>8</th>\n      <td>0826414346</td>\n      <td>Dr. Seuss: American Icon</td>\n      <td>NaN</td>\n      <td>0/0</td>\n      <td>5.0</td>\n      <td>Trams (or any public transport) are not usuall...</td>\n    </tr>\n    <tr>\n      <th>9</th>\n      <td>0826414346</td>\n      <td>Dr. Seuss: American Icon</td>\n      <td>NaN</td>\n      <td>3/5</td>\n      <td>4.0</td>\n      <td>As far as I am aware, this is the first book-l...</td>\n    </tr>\n  </tbody>\n</table>\n</div>"
     },
     "execution_count": 308,
     "metadata": {},
     "output_type": "execute_result"
    }
   ],
   "source": [
    "# carga de df_reviews\n",
    "df_reviews = pd.read_csv('data/Books_rating.csv', usecols=columns_reviews)\n",
    "df_reviews.head(10)"
   ],
   "metadata": {
    "collapsed": false
   }
  },
  {
   "cell_type": "code",
   "execution_count": 309,
   "outputs": [
    {
     "name": "stdout",
     "output_type": "stream",
     "text": [
      "Datos de books_data.csv\n",
      "Datos por columna:\n",
      "Title            212403\n",
      "authors          180991\n",
      "image            160329\n",
      "previewLink      188568\n",
      "publisher        136518\n",
      "publishedDate    187099\n",
      "infoLink         188568\n",
      "categories       171205\n",
      "ratingsCount      49752\n",
      "dtype: int64\n",
      "\n",
      "Datos faltantes por columna:\n",
      "Title                 1\n",
      "authors           31413\n",
      "image             52075\n",
      "previewLink       23836\n",
      "publisher         75886\n",
      "publishedDate     25305\n",
      "infoLink          23836\n",
      "categories        41199\n",
      "ratingsCount     162652\n",
      "dtype: int64\n",
      "\n",
      "% datos faltantes por columna:\n",
      "Title             0.000471\n",
      "authors          14.789270\n",
      "image            24.516958\n",
      "previewLink      11.222011\n",
      "publisher        35.727199\n",
      "publishedDate    11.913617\n",
      "infoLink         11.222011\n",
      "categories       19.396527\n",
      "ratingsCount     76.576712\n",
      "dtype: float64\n",
      "\n"
     ]
    }
   ],
   "source": [
    "# datos de df_book\n",
    "print(\"Datos de books_data.csv\")\n",
    "print(\"Datos por columna:\\n\", df_books.count(), sep=\"\", end=\"\\n\\n\")\n",
    "print(\"Datos faltantes por columna:\\n\", df_books.isna().sum(), sep=\"\", end=\"\\n\\n\")\n",
    "print(\"% datos faltantes por columna:\\n\", df_books.isna().sum() * 100 / len(df_books), sep=\"\", end=\"\\n\\n\")"
   ],
   "metadata": {
    "collapsed": false
   }
  },
  {
   "cell_type": "code",
   "execution_count": 310,
   "outputs": [
    {
     "name": "stdout",
     "output_type": "stream",
     "text": [
      "Datos de Books_rating.csv\n",
      "Datos por columna:\n",
      "Id                    3000000\n",
      "Title                 2999792\n",
      "Price                  481171\n",
      "review/helpfulness    3000000\n",
      "review/score          3000000\n",
      "review/text           2999992\n",
      "dtype: int64\n",
      "\n",
      "Datos faltantes por columna:\n",
      "Id                          0\n",
      "Title                     208\n",
      "Price                 2518829\n",
      "review/helpfulness          0\n",
      "review/score                0\n",
      "review/text                 8\n",
      "dtype: int64\n",
      "\n",
      "% datos faltantes por columna:\n",
      "Id                     0.000000\n",
      "Title                  0.006933\n",
      "Price                 83.960967\n",
      "review/helpfulness     0.000000\n",
      "review/score           0.000000\n",
      "review/text            0.000267\n",
      "dtype: float64\n",
      "\n"
     ]
    }
   ],
   "source": [
    "# datos de df_reviews\n",
    "print(\"Datos de Books_rating.csv\")\n",
    "print(\"Datos por columna:\\n\", df_reviews.count(), sep=\"\", end=\"\\n\\n\")\n",
    "print(\"Datos faltantes por columna:\\n\", df_reviews.isna().sum(), sep=\"\", end=\"\\n\\n\")\n",
    "print(\"% datos faltantes por columna:\\n\", df_reviews.isna().sum() * 100 / len(df_reviews), sep=\"\", end=\"\\n\\n\")"
   ],
   "metadata": {
    "collapsed": false
   }
  },
  {
   "cell_type": "markdown",
   "source": [
    "## Preprocesamiento de los datos"
   ],
   "metadata": {
    "collapsed": false
   }
  },
  {
   "cell_type": "code",
   "execution_count": 311,
   "outputs": [],
   "source": [
    "df_books = df_books.drop(columns=['ratingsCount', 'image', 'previewLink', 'infoLink']).dropna()\n",
    "df_reviews = df_reviews.dropna()"
   ],
   "metadata": {
    "collapsed": false
   }
  },
  {
   "cell_type": "code",
   "execution_count": 312,
   "outputs": [
    {
     "name": "stdout",
     "output_type": "stream",
     "text": [
      "<class 'pandas.core.frame.DataFrame'>\n",
      "Index: 130433 entries, 1 to 212402\n",
      "Data columns (total 5 columns):\n",
      " #   Column         Non-Null Count   Dtype \n",
      "---  ------         --------------   ----- \n",
      " 0   Title          130433 non-null  object\n",
      " 1   authors        130433 non-null  object\n",
      " 2   publisher      130433 non-null  object\n",
      " 3   publishedDate  130433 non-null  object\n",
      " 4   categories     130433 non-null  object\n",
      "dtypes: object(5)\n",
      "memory usage: 6.0+ MB\n"
     ]
    }
   ],
   "source": [
    "df_books.info()"
   ],
   "metadata": {
    "collapsed": false
   }
  },
  {
   "cell_type": "code",
   "execution_count": 313,
   "outputs": [
    {
     "name": "stdout",
     "output_type": "stream",
     "text": [
      "<class 'pandas.core.frame.DataFrame'>\n",
      "Index: 481164 entries, 10 to 2999988\n",
      "Data columns (total 6 columns):\n",
      " #   Column              Non-Null Count   Dtype  \n",
      "---  ------              --------------   -----  \n",
      " 0   Id                  481164 non-null  object \n",
      " 1   Title               481164 non-null  object \n",
      " 2   Price               481164 non-null  float64\n",
      " 3   review/helpfulness  481164 non-null  object \n",
      " 4   review/score        481164 non-null  float64\n",
      " 5   review/text         481164 non-null  object \n",
      "dtypes: float64(2), object(4)\n",
      "memory usage: 25.7+ MB\n"
     ]
    }
   ],
   "source": [
    "df_reviews.info()"
   ],
   "metadata": {
    "collapsed": false
   }
  },
  {
   "cell_type": "markdown",
   "source": [
    "### Análisis de libros duplicados en df de libros"
   ],
   "metadata": {
    "collapsed": false
   }
  },
  {
   "cell_type": "code",
   "execution_count": 314,
   "outputs": [
    {
     "name": "stdout",
     "output_type": "stream",
     "text": [
      "\n",
      "Cantidad de titulos sin duplicar en el df de libros: 130433\n",
      "Cantidad de libros en el df de libros: Title            130433\n",
      "authors          130433\n",
      "publisher        130433\n",
      "publishedDate    130433\n",
      "categories       130433\n",
      "dtype: int64\n"
     ]
    }
   ],
   "source": [
    "df_books_unique = df_books[\"Title\"].drop_duplicates(ignore_index=True)\n",
    "\n",
    "print(\"\\nCantidad de titulos sin duplicar en el df de libros: {}\".format(df_books_unique.count()), end=\"\\n\")\n",
    "\n",
    "print(f\"Cantidad de libros en el df de libros: {df_books.count()}\")"
   ],
   "metadata": {
    "collapsed": false
   }
  },
  {
   "cell_type": "markdown",
   "source": [
    "### Almacenamiento parcial de los cambios\n"
   ],
   "metadata": {
    "collapsed": false
   }
  },
  {
   "cell_type": "code",
   "execution_count": 315,
   "outputs": [],
   "source": [
    "df_books.to_csv('data/copia_1_books.csv', index=False)\n",
    "df_reviews.to_csv('data/copia_1_reviews.csv', index=False)"
   ],
   "metadata": {
    "collapsed": false
   }
  },
  {
   "cell_type": "markdown",
   "source": [
    "### Carga de los cambios parciales"
   ],
   "metadata": {
    "collapsed": false
   }
  },
  {
   "cell_type": "code",
   "execution_count": 316,
   "outputs": [],
   "source": [
    "df_books = pd.read_csv('data/copia_1_books.csv')\n",
    "df_reviews = pd.read_csv('data/copia_1_reviews.csv')"
   ],
   "metadata": {
    "collapsed": false
   }
  },
  {
   "cell_type": "code",
   "execution_count": 317,
   "outputs": [],
   "source": [
    "import re"
   ],
   "metadata": {
    "collapsed": false
   }
  },
  {
   "cell_type": "markdown",
   "source": [
    "### Análisis de Ids"
   ],
   "metadata": {
    "collapsed": false
   }
  },
  {
   "cell_type": "code",
   "execution_count": 318,
   "outputs": [
    {
     "data": {
      "text/plain": "           Id                                  Title  Price  \\\n0  0829814000  Wonderful Worship in Smaller Churches  19.40   \n1  0829814000  Wonderful Worship in Smaller Churches  19.40   \n2  0829814000  Wonderful Worship in Smaller Churches  19.40   \n3  0829814000  Wonderful Worship in Smaller Churches  19.40   \n4  0595344550          Whispers of the Wicked Saints  10.95   \n5  0595344550          Whispers of the Wicked Saints  10.95   \n6  0595344550          Whispers of the Wicked Saints  10.95   \n7  0595344550          Whispers of the Wicked Saints  10.95   \n8  0595344550          Whispers of the Wicked Saints  10.95   \n9  0595344550          Whispers of the Wicked Saints  10.95   \n\n  review/helpfulness  review/score  \\\n0               8/10           5.0   \n1                1/1           5.0   \n2                1/1           5.0   \n3                1/1           5.0   \n4               7/11           1.0   \n5                1/2           4.0   \n6                1/2           1.0   \n7                2/4           5.0   \n8                5/9           5.0   \n9                1/3           5.0   \n\n                                         review/text  \n0  I just finished the book, &quot;Wonderful Wors...  \n1  Many small churches feel like they can not hav...  \n2  I just finished reading this amazing book and ...  \n3  I hadn't been a small church pastor very long ...  \n4  I bought this book because I read some glowing...  \n5  I have to admit, I am not one to write reviews...  \n6  This is a self-published book, and if you want...  \n7  When I first read this the I was mezmerized at...  \n8  I read the review directly under mine and I ha...  \n9  I really enjoyed the book. I believe the autho...  ",
      "text/html": "<div>\n<style scoped>\n    .dataframe tbody tr th:only-of-type {\n        vertical-align: middle;\n    }\n\n    .dataframe tbody tr th {\n        vertical-align: top;\n    }\n\n    .dataframe thead th {\n        text-align: right;\n    }\n</style>\n<table border=\"1\" class=\"dataframe\">\n  <thead>\n    <tr style=\"text-align: right;\">\n      <th></th>\n      <th>Id</th>\n      <th>Title</th>\n      <th>Price</th>\n      <th>review/helpfulness</th>\n      <th>review/score</th>\n      <th>review/text</th>\n    </tr>\n  </thead>\n  <tbody>\n    <tr>\n      <th>0</th>\n      <td>0829814000</td>\n      <td>Wonderful Worship in Smaller Churches</td>\n      <td>19.40</td>\n      <td>8/10</td>\n      <td>5.0</td>\n      <td>I just finished the book, &amp;quot;Wonderful Wors...</td>\n    </tr>\n    <tr>\n      <th>1</th>\n      <td>0829814000</td>\n      <td>Wonderful Worship in Smaller Churches</td>\n      <td>19.40</td>\n      <td>1/1</td>\n      <td>5.0</td>\n      <td>Many small churches feel like they can not hav...</td>\n    </tr>\n    <tr>\n      <th>2</th>\n      <td>0829814000</td>\n      <td>Wonderful Worship in Smaller Churches</td>\n      <td>19.40</td>\n      <td>1/1</td>\n      <td>5.0</td>\n      <td>I just finished reading this amazing book and ...</td>\n    </tr>\n    <tr>\n      <th>3</th>\n      <td>0829814000</td>\n      <td>Wonderful Worship in Smaller Churches</td>\n      <td>19.40</td>\n      <td>1/1</td>\n      <td>5.0</td>\n      <td>I hadn't been a small church pastor very long ...</td>\n    </tr>\n    <tr>\n      <th>4</th>\n      <td>0595344550</td>\n      <td>Whispers of the Wicked Saints</td>\n      <td>10.95</td>\n      <td>7/11</td>\n      <td>1.0</td>\n      <td>I bought this book because I read some glowing...</td>\n    </tr>\n    <tr>\n      <th>5</th>\n      <td>0595344550</td>\n      <td>Whispers of the Wicked Saints</td>\n      <td>10.95</td>\n      <td>1/2</td>\n      <td>4.0</td>\n      <td>I have to admit, I am not one to write reviews...</td>\n    </tr>\n    <tr>\n      <th>6</th>\n      <td>0595344550</td>\n      <td>Whispers of the Wicked Saints</td>\n      <td>10.95</td>\n      <td>1/2</td>\n      <td>1.0</td>\n      <td>This is a self-published book, and if you want...</td>\n    </tr>\n    <tr>\n      <th>7</th>\n      <td>0595344550</td>\n      <td>Whispers of the Wicked Saints</td>\n      <td>10.95</td>\n      <td>2/4</td>\n      <td>5.0</td>\n      <td>When I first read this the I was mezmerized at...</td>\n    </tr>\n    <tr>\n      <th>8</th>\n      <td>0595344550</td>\n      <td>Whispers of the Wicked Saints</td>\n      <td>10.95</td>\n      <td>5/9</td>\n      <td>5.0</td>\n      <td>I read the review directly under mine and I ha...</td>\n    </tr>\n    <tr>\n      <th>9</th>\n      <td>0595344550</td>\n      <td>Whispers of the Wicked Saints</td>\n      <td>10.95</td>\n      <td>1/3</td>\n      <td>5.0</td>\n      <td>I really enjoyed the book. I believe the autho...</td>\n    </tr>\n  </tbody>\n</table>\n</div>"
     },
     "execution_count": 318,
     "metadata": {},
     "output_type": "execute_result"
    }
   ],
   "source": [
    "df_reviews.head(10)"
   ],
   "metadata": {
    "collapsed": false
   }
  },
  {
   "cell_type": "code",
   "execution_count": 319,
   "outputs": [
    {
     "data": {
      "text/plain": "Id                    450411\nTitle                 450411\nPrice                 450411\nreview/helpfulness    450411\nreview/score          450411\nreview/text           450411\nId_Tipo               450411\ndtype: int64"
     },
     "execution_count": 319,
     "metadata": {},
     "output_type": "execute_result"
    }
   ],
   "source": [
    "def es_isbn(id):\n",
    "    # Expresiones regulares para ISBN-10 y ISBN-13\n",
    "    isbn_10_pattern = r'\\b\\d{9}[\\d|X]\\b'\n",
    "    isbn_13_pattern = r'\\b\\d{13}\\b'\n",
    "\n",
    "    # Verificar si el identificador coincide con alguno de los patrones\n",
    "    if re.match(isbn_10_pattern, id) or re.match(isbn_13_pattern, id):\n",
    "        return 'ISBN'\n",
    "    else:\n",
    "        return 'Otro'\n",
    "\n",
    "# Aplicar la función para etiquetar los registros\n",
    "df_reviews['Id_Tipo'] = df_reviews['Id'].apply(es_isbn)\n",
    "\n",
    "# Filtrar registros que tienen 'Id' en formato ISBN\n",
    "df_isbn = df_reviews[df_reviews['Id_Tipo'] == 'ISBN']\n",
    "\n",
    "df_isbn.count()"
   ],
   "metadata": {
    "collapsed": false
   }
  },
  {
   "cell_type": "code",
   "execution_count": 320,
   "outputs": [
    {
     "data": {
      "text/plain": "                Id                                      Title  Price  \\\n0       0829814000      Wonderful Worship in Smaller Churches  19.40   \n313593  0876092121  Economic Sanctions and American Diplomacy  19.15   \n313592  0876092121  Economic Sanctions and American Diplomacy  19.15   \n313591  0876092121  Economic Sanctions and American Diplomacy  19.15   \n313590  1584651946        American Wall Stenciling, 1790-1840  40.00   \n313589  0471507741                 Espaol a lo vivo, Workbook  58.68   \n313588  0471507741                 Espaol a lo vivo, Workbook  58.68   \n313587  0195084888        Moore and Wittgenstein on Certainty  96.72   \n313586  0816519676     Last Rampage: The Escape of Gary Tison  17.95   \n313585  0816519676     Last Rampage: The Escape of Gary Tison  17.95   \n\n       review/helpfulness  review/score  \\\n0                    8/10           5.0   \n313593                0/0           3.0   \n313592                2/2           5.0   \n313591                2/2           5.0   \n313590              16/18           5.0   \n313589                0/2           1.0   \n313588                1/1           4.0   \n313587              18/18           5.0   \n313586               3/15           3.0   \n313585                1/3           3.0   \n\n                                              review/text Id_Tipo  \n0       I just finished the book, &quot;Wonderful Wors...    ISBN  \n313593  The unfortunate part about books such as these...    ISBN  \n313592  This book analyzes all the major cases of the ...    ISBN  \n313591  This work illuminates the worst of American di...    ISBN  \n313590  Last weekend I attended a party in RI and I fo...    ISBN  \n313589  I received this book in total error. It was on...    ISBN  \n313588  I started using this book for self study as my...    ISBN  \n313587  Stroll's book is a must-read for anyone remote...    ISBN  \n313586  I was somewhat disappointed with this book. Be...    ISBN  \n313585  Tison, Greenawalt and his misguided idiot kids...    ISBN  ",
      "text/html": "<div>\n<style scoped>\n    .dataframe tbody tr th:only-of-type {\n        vertical-align: middle;\n    }\n\n    .dataframe tbody tr th {\n        vertical-align: top;\n    }\n\n    .dataframe thead th {\n        text-align: right;\n    }\n</style>\n<table border=\"1\" class=\"dataframe\">\n  <thead>\n    <tr style=\"text-align: right;\">\n      <th></th>\n      <th>Id</th>\n      <th>Title</th>\n      <th>Price</th>\n      <th>review/helpfulness</th>\n      <th>review/score</th>\n      <th>review/text</th>\n      <th>Id_Tipo</th>\n    </tr>\n  </thead>\n  <tbody>\n    <tr>\n      <th>0</th>\n      <td>0829814000</td>\n      <td>Wonderful Worship in Smaller Churches</td>\n      <td>19.40</td>\n      <td>8/10</td>\n      <td>5.0</td>\n      <td>I just finished the book, &amp;quot;Wonderful Wors...</td>\n      <td>ISBN</td>\n    </tr>\n    <tr>\n      <th>313593</th>\n      <td>0876092121</td>\n      <td>Economic Sanctions and American Diplomacy</td>\n      <td>19.15</td>\n      <td>0/0</td>\n      <td>3.0</td>\n      <td>The unfortunate part about books such as these...</td>\n      <td>ISBN</td>\n    </tr>\n    <tr>\n      <th>313592</th>\n      <td>0876092121</td>\n      <td>Economic Sanctions and American Diplomacy</td>\n      <td>19.15</td>\n      <td>2/2</td>\n      <td>5.0</td>\n      <td>This book analyzes all the major cases of the ...</td>\n      <td>ISBN</td>\n    </tr>\n    <tr>\n      <th>313591</th>\n      <td>0876092121</td>\n      <td>Economic Sanctions and American Diplomacy</td>\n      <td>19.15</td>\n      <td>2/2</td>\n      <td>5.0</td>\n      <td>This work illuminates the worst of American di...</td>\n      <td>ISBN</td>\n    </tr>\n    <tr>\n      <th>313590</th>\n      <td>1584651946</td>\n      <td>American Wall Stenciling, 1790-1840</td>\n      <td>40.00</td>\n      <td>16/18</td>\n      <td>5.0</td>\n      <td>Last weekend I attended a party in RI and I fo...</td>\n      <td>ISBN</td>\n    </tr>\n    <tr>\n      <th>313589</th>\n      <td>0471507741</td>\n      <td>Espaol a lo vivo, Workbook</td>\n      <td>58.68</td>\n      <td>0/2</td>\n      <td>1.0</td>\n      <td>I received this book in total error. It was on...</td>\n      <td>ISBN</td>\n    </tr>\n    <tr>\n      <th>313588</th>\n      <td>0471507741</td>\n      <td>Espaol a lo vivo, Workbook</td>\n      <td>58.68</td>\n      <td>1/1</td>\n      <td>4.0</td>\n      <td>I started using this book for self study as my...</td>\n      <td>ISBN</td>\n    </tr>\n    <tr>\n      <th>313587</th>\n      <td>0195084888</td>\n      <td>Moore and Wittgenstein on Certainty</td>\n      <td>96.72</td>\n      <td>18/18</td>\n      <td>5.0</td>\n      <td>Stroll's book is a must-read for anyone remote...</td>\n      <td>ISBN</td>\n    </tr>\n    <tr>\n      <th>313586</th>\n      <td>0816519676</td>\n      <td>Last Rampage: The Escape of Gary Tison</td>\n      <td>17.95</td>\n      <td>3/15</td>\n      <td>3.0</td>\n      <td>I was somewhat disappointed with this book. Be...</td>\n      <td>ISBN</td>\n    </tr>\n    <tr>\n      <th>313585</th>\n      <td>0816519676</td>\n      <td>Last Rampage: The Escape of Gary Tison</td>\n      <td>17.95</td>\n      <td>1/3</td>\n      <td>3.0</td>\n      <td>Tison, Greenawalt and his misguided idiot kids...</td>\n      <td>ISBN</td>\n    </tr>\n  </tbody>\n</table>\n</div>"
     },
     "execution_count": 320,
     "metadata": {},
     "output_type": "execute_result"
    }
   ],
   "source": [
    "df_reviews_sorted = df_reviews.sort_values(by='Id_Tipo')\n",
    "df_reviews_sorted.head(10)"
   ],
   "metadata": {
    "collapsed": false
   }
  },
  {
   "cell_type": "code",
   "execution_count": 321,
   "outputs": [
    {
     "data": {
      "text/plain": "                Id                                              Title  Price  \\\n187202  B000FMRQQY                                    Family Violence   7.99   \n52485   B000FO5APG  The Project Manager's Toolkit (Computer Weekly...  10.39   \n423922  B000GPIA2Y                        The Yorkshire Terrier Today   2.99   \n52457   B000GYI8RC  Applied Longitudinal Data Analysis for Epidemi...  12.00   \n52456   B000GYI8RC  Applied Longitudinal Data Analysis for Epidemi...  12.00   \n52455   B0007SE132  Contemporary Authors: Biography - Morton, H(en...   3.10   \n52454   B0007SE132  Contemporary Authors: Biography - Morton, H(en...   3.10   \n52453   B000063D6N                                 Making a Deal Work   7.95   \n424000  B000GPIA24  Cliffsquickreview Calculus: Anton/Bivens/Davis...   1.00   \n61139   B000FUFSR0                               Wealth Beyond Reason   3.70   \n\n       review/helpfulness  review/score  \\\n187202                0/0           5.0   \n52485                 0/0           5.0   \n423922              13/13           5.0   \n52457                 0/0           5.0   \n52456                 4/4           5.0   \n52455                 0/0           1.0   \n52454                 1/1           1.0   \n52453                 0/0           5.0   \n424000              11/12           5.0   \n61139                 2/9           1.0   \n\n                                              review/text Id_Tipo  \n187202  Valuable research which all but predicted toda...    Otro  \n52485   Over the last few years we have transitioned i...    Otro  \n423922  Ms. Sameja-Hilliard has captured the versatili...    Otro  \n52457   The discussion of sphericity alone is worth th...    Otro  \n52456   This book is really useful and handy. It is ve...    Otro  \n52455   HV Morton was born at Ashton-under-Lyne near M...    Otro  \n52454   i feel cheated by this so called 'biography'. ...    Otro  \n52453   Very worthwhile reading for the more sophistic...    Otro  \n424000  I bought this slim little book when I was firs...    Otro  \n61139   A crappy e-book that repeats everything in eve...    Otro  ",
      "text/html": "<div>\n<style scoped>\n    .dataframe tbody tr th:only-of-type {\n        vertical-align: middle;\n    }\n\n    .dataframe tbody tr th {\n        vertical-align: top;\n    }\n\n    .dataframe thead th {\n        text-align: right;\n    }\n</style>\n<table border=\"1\" class=\"dataframe\">\n  <thead>\n    <tr style=\"text-align: right;\">\n      <th></th>\n      <th>Id</th>\n      <th>Title</th>\n      <th>Price</th>\n      <th>review/helpfulness</th>\n      <th>review/score</th>\n      <th>review/text</th>\n      <th>Id_Tipo</th>\n    </tr>\n  </thead>\n  <tbody>\n    <tr>\n      <th>187202</th>\n      <td>B000FMRQQY</td>\n      <td>Family Violence</td>\n      <td>7.99</td>\n      <td>0/0</td>\n      <td>5.0</td>\n      <td>Valuable research which all but predicted toda...</td>\n      <td>Otro</td>\n    </tr>\n    <tr>\n      <th>52485</th>\n      <td>B000FO5APG</td>\n      <td>The Project Manager's Toolkit (Computer Weekly...</td>\n      <td>10.39</td>\n      <td>0/0</td>\n      <td>5.0</td>\n      <td>Over the last few years we have transitioned i...</td>\n      <td>Otro</td>\n    </tr>\n    <tr>\n      <th>423922</th>\n      <td>B000GPIA2Y</td>\n      <td>The Yorkshire Terrier Today</td>\n      <td>2.99</td>\n      <td>13/13</td>\n      <td>5.0</td>\n      <td>Ms. Sameja-Hilliard has captured the versatili...</td>\n      <td>Otro</td>\n    </tr>\n    <tr>\n      <th>52457</th>\n      <td>B000GYI8RC</td>\n      <td>Applied Longitudinal Data Analysis for Epidemi...</td>\n      <td>12.00</td>\n      <td>0/0</td>\n      <td>5.0</td>\n      <td>The discussion of sphericity alone is worth th...</td>\n      <td>Otro</td>\n    </tr>\n    <tr>\n      <th>52456</th>\n      <td>B000GYI8RC</td>\n      <td>Applied Longitudinal Data Analysis for Epidemi...</td>\n      <td>12.00</td>\n      <td>4/4</td>\n      <td>5.0</td>\n      <td>This book is really useful and handy. It is ve...</td>\n      <td>Otro</td>\n    </tr>\n    <tr>\n      <th>52455</th>\n      <td>B0007SE132</td>\n      <td>Contemporary Authors: Biography - Morton, H(en...</td>\n      <td>3.10</td>\n      <td>0/0</td>\n      <td>1.0</td>\n      <td>HV Morton was born at Ashton-under-Lyne near M...</td>\n      <td>Otro</td>\n    </tr>\n    <tr>\n      <th>52454</th>\n      <td>B0007SE132</td>\n      <td>Contemporary Authors: Biography - Morton, H(en...</td>\n      <td>3.10</td>\n      <td>1/1</td>\n      <td>1.0</td>\n      <td>i feel cheated by this so called 'biography'. ...</td>\n      <td>Otro</td>\n    </tr>\n    <tr>\n      <th>52453</th>\n      <td>B000063D6N</td>\n      <td>Making a Deal Work</td>\n      <td>7.95</td>\n      <td>0/0</td>\n      <td>5.0</td>\n      <td>Very worthwhile reading for the more sophistic...</td>\n      <td>Otro</td>\n    </tr>\n    <tr>\n      <th>424000</th>\n      <td>B000GPIA24</td>\n      <td>Cliffsquickreview Calculus: Anton/Bivens/Davis...</td>\n      <td>1.00</td>\n      <td>11/12</td>\n      <td>5.0</td>\n      <td>I bought this slim little book when I was firs...</td>\n      <td>Otro</td>\n    </tr>\n    <tr>\n      <th>61139</th>\n      <td>B000FUFSR0</td>\n      <td>Wealth Beyond Reason</td>\n      <td>3.70</td>\n      <td>2/9</td>\n      <td>1.0</td>\n      <td>A crappy e-book that repeats everything in eve...</td>\n      <td>Otro</td>\n    </tr>\n  </tbody>\n</table>\n</div>"
     },
     "execution_count": 321,
     "metadata": {},
     "output_type": "execute_result"
    }
   ],
   "source": [
    "df_reviews_sorted.tail(10)"
   ],
   "metadata": {
    "collapsed": false
   }
  },
  {
   "cell_type": "markdown",
   "source": [
    "### Eliminación de todos los registros que no corresponden a ISBNs\n",
    "Algunos valores tienen una X al final, es un formato válido para ISBNs"
   ],
   "metadata": {
    "collapsed": false
   }
  },
  {
   "cell_type": "code",
   "execution_count": 322,
   "outputs": [
    {
     "name": "stdout",
     "output_type": "stream",
     "text": [
      "<class 'pandas.core.frame.DataFrame'>\n",
      "Index: 450411 entries, 0 to 481163\n",
      "Data columns (total 7 columns):\n",
      " #   Column              Non-Null Count   Dtype  \n",
      "---  ------              --------------   -----  \n",
      " 0   Id                  450411 non-null  object \n",
      " 1   Title               450411 non-null  object \n",
      " 2   Price               450411 non-null  float64\n",
      " 3   review/helpfulness  450411 non-null  object \n",
      " 4   review/score        450411 non-null  float64\n",
      " 5   review/text         450411 non-null  object \n",
      " 6   Id_Tipo             450411 non-null  object \n",
      "dtypes: float64(2), object(5)\n",
      "memory usage: 27.5+ MB\n"
     ]
    }
   ],
   "source": [
    "df_reviews = df_reviews[df_reviews['Id_Tipo'] == 'ISBN']\n",
    "df_reviews.info()"
   ],
   "metadata": {
    "collapsed": false
   }
  },
  {
   "cell_type": "markdown",
   "source": [
    "## Análisis de relación entre los libros del dataframe de libros y de reseñas"
   ],
   "metadata": {
    "collapsed": false
   }
  },
  {
   "cell_type": "code",
   "execution_count": 323,
   "outputs": [
    {
     "name": "stdout",
     "output_type": "stream",
     "text": [
      "<class 'pandas.core.frame.DataFrame'>\n",
      "RangeIndex: 45367 entries, 0 to 45366\n",
      "Data columns (total 2 columns):\n",
      " #   Column  Non-Null Count  Dtype \n",
      "---  ------  --------------  ----- \n",
      " 0   Id      45367 non-null  object\n",
      " 1   Title   45367 non-null  object\n",
      "dtypes: object(2)\n",
      "memory usage: 709.0+ KB\n"
     ]
    }
   ],
   "source": [
    "df_books_reviews = df_reviews[['Id', 'Title']].drop_duplicates()\n",
    "df_books_reviews = df_books_reviews.reset_index(drop=True)\n",
    "\n",
    "df_books_reviews.info()"
   ],
   "metadata": {
    "collapsed": false
   }
  },
  {
   "cell_type": "code",
   "execution_count": 324,
   "outputs": [
    {
     "data": {
      "text/plain": "Empty DataFrame\nColumns: [Id, Title]\nIndex: []",
      "text/html": "<div>\n<style scoped>\n    .dataframe tbody tr th:only-of-type {\n        vertical-align: middle;\n    }\n\n    .dataframe tbody tr th {\n        vertical-align: top;\n    }\n\n    .dataframe thead th {\n        text-align: right;\n    }\n</style>\n<table border=\"1\" class=\"dataframe\">\n  <thead>\n    <tr style=\"text-align: right;\">\n      <th></th>\n      <th>Id</th>\n      <th>Title</th>\n    </tr>\n  </thead>\n  <tbody>\n  </tbody>\n</table>\n</div>"
     },
     "execution_count": 324,
     "metadata": {},
     "output_type": "execute_result"
    }
   ],
   "source": [
    "duplicados = df_books_reviews[df_books_reviews['Id'].duplicated(keep=False)]\n",
    "duplicados"
   ],
   "metadata": {
    "collapsed": false
   }
  },
  {
   "cell_type": "markdown",
   "source": [
    "### Titulos duplicados en el dataframe df_books_reviews"
   ],
   "metadata": {
    "collapsed": false
   }
  },
  {
   "cell_type": "code",
   "execution_count": 325,
   "outputs": [
    {
     "data": {
      "text/plain": "               Id                                              Title\n123    0873387775                    Tales of Soldiers and Civilians\n169    155619630X  Translating Into Success: Cutting-edge strateg...\n239    1556196318  Translating Into Success: Cutting-edge strateg...\n249    0813026202  E-mails from Scheherazad (Contemporary Poetry ...\n273    1419123548                                            Herland\n...           ...                                                ...\n45053  1583961054                      Tarzan and the Jewels of Opar\n45099  0786187379                                            Beowulf\n45105  0595335462     Mothering with Breastfeeding and Maternal Care\n45196  0803938837  Social Cognition and Individual Change: Curren...\n45220  0803938845  Social Cognition and Individual Change: Curren...\n\n[1260 rows x 2 columns]",
      "text/html": "<div>\n<style scoped>\n    .dataframe tbody tr th:only-of-type {\n        vertical-align: middle;\n    }\n\n    .dataframe tbody tr th {\n        vertical-align: top;\n    }\n\n    .dataframe thead th {\n        text-align: right;\n    }\n</style>\n<table border=\"1\" class=\"dataframe\">\n  <thead>\n    <tr style=\"text-align: right;\">\n      <th></th>\n      <th>Id</th>\n      <th>Title</th>\n    </tr>\n  </thead>\n  <tbody>\n    <tr>\n      <th>123</th>\n      <td>0873387775</td>\n      <td>Tales of Soldiers and Civilians</td>\n    </tr>\n    <tr>\n      <th>169</th>\n      <td>155619630X</td>\n      <td>Translating Into Success: Cutting-edge strateg...</td>\n    </tr>\n    <tr>\n      <th>239</th>\n      <td>1556196318</td>\n      <td>Translating Into Success: Cutting-edge strateg...</td>\n    </tr>\n    <tr>\n      <th>249</th>\n      <td>0813026202</td>\n      <td>E-mails from Scheherazad (Contemporary Poetry ...</td>\n    </tr>\n    <tr>\n      <th>273</th>\n      <td>1419123548</td>\n      <td>Herland</td>\n    </tr>\n    <tr>\n      <th>...</th>\n      <td>...</td>\n      <td>...</td>\n    </tr>\n    <tr>\n      <th>45053</th>\n      <td>1583961054</td>\n      <td>Tarzan and the Jewels of Opar</td>\n    </tr>\n    <tr>\n      <th>45099</th>\n      <td>0786187379</td>\n      <td>Beowulf</td>\n    </tr>\n    <tr>\n      <th>45105</th>\n      <td>0595335462</td>\n      <td>Mothering with Breastfeeding and Maternal Care</td>\n    </tr>\n    <tr>\n      <th>45196</th>\n      <td>0803938837</td>\n      <td>Social Cognition and Individual Change: Curren...</td>\n    </tr>\n    <tr>\n      <th>45220</th>\n      <td>0803938845</td>\n      <td>Social Cognition and Individual Change: Curren...</td>\n    </tr>\n  </tbody>\n</table>\n<p>1260 rows × 2 columns</p>\n</div>"
     },
     "execution_count": 325,
     "metadata": {},
     "output_type": "execute_result"
    }
   ],
   "source": [
    "duplicados = df_books_reviews.duplicated(subset=['Title'], keep=False)\n",
    "\n",
    "# Filtrar el DataFrame para obtener los registros duplicados\n",
    "registros_duplicados = df_books_reviews[duplicados]\n",
    "\n",
    "# Mostrar los registros duplicados\n",
    "registros_duplicados"
   ],
   "metadata": {
    "collapsed": false
   }
  },
  {
   "cell_type": "code",
   "execution_count": 326,
   "outputs": [
    {
     "data": {
      "text/plain": "Title\nSelected Poems                                                                                                                6\nTexas Fury (Texas Series)                                                                                                     4\nThe Awakening                                                                                                                 4\nThe Mammoth Cheese                                                                                                            4\nPoems                                                                                                                         4\n                                                                                                                             ..\nThe Interpretation of the Flesh: Freud and Femininity                                                                         2\nThe Bartered Bride                                                                                                            2\nResearching the Small Enterprise (Sage Series in Management Research)                                                         2\nHousing Decisions                                                                                                             2\nSocial Cognition and Individual Change: Current Theory and Counseling Guidelines (SAGE Sourcebooks for the Human Services)    2\nName: count, Length: 619, dtype: int64"
     },
     "execution_count": 326,
     "metadata": {},
     "output_type": "execute_result"
    }
   ],
   "source": [
    "conteo_duplicados = registros_duplicados['Title'].value_counts()\n",
    "conteo_duplicados"
   ],
   "metadata": {
    "collapsed": false
   }
  },
  {
   "cell_type": "markdown",
   "source": [
    "### Análisis de uniformidad de precios\n"
   ],
   "metadata": {
    "collapsed": false
   }
  },
  {
   "cell_type": "markdown",
   "source": [
    "### Verificación de que existe un único título para cada Id\n"
   ],
   "metadata": {
    "collapsed": false
   }
  },
  {
   "cell_type": "code",
   "execution_count": 327,
   "outputs": [
    {
     "data": {
      "text/plain": "Series([], Name: Title, dtype: int64)"
     },
     "execution_count": 327,
     "metadata": {},
     "output_type": "execute_result"
    }
   ],
   "source": [
    "title_counts = df_reviews.groupby('Id')['Title'].nunique()\n",
    "\n",
    "# Filtrar los casos donde hay más de un título para un mismo 'Id'\n",
    "multiple_titles_for_id = title_counts[title_counts > 1]\n",
    "\n",
    "multiple_titles_for_id\n"
   ],
   "metadata": {
    "collapsed": false
   }
  },
  {
   "cell_type": "markdown",
   "source": [
    "### Verificación de que existe un único Id para cada título\n"
   ],
   "metadata": {
    "collapsed": false
   }
  },
  {
   "cell_type": "code",
   "execution_count": 328,
   "outputs": [
    {
     "data": {
      "text/plain": "Title\nSelected Poems                                                                                        6\nPoems                                                                                                 4\nThe Awakening                                                                                         4\nTexas Fury (Texas Series)                                                                             4\nThe Mammoth Cheese                                                                                    4\n                                                                                                     ..\nHuman Evolution and Prehistory                                                                        2\nI Have This Nifty Idea: ...Now What Do I Do with It?                                                  2\nIdeas and Options in English for Specific Purposes (ESL & Applied Linguistics Professional Series)    2\nImages of the Passion: The Sacramental Mode in Film                                                   2\nZondervan KJV Study Bible, Personal Size                                                              2\nName: Id, Length: 619, dtype: int64"
     },
     "execution_count": 328,
     "metadata": {},
     "output_type": "execute_result"
    }
   ],
   "source": [
    "id_counts = df_reviews.groupby('Title')['Id'].nunique()\n",
    "\n",
    "# Filtrar los casos donde hay más de un título para un mismo 'Id'\n",
    "multiple_ids_for_title = id_counts[id_counts > 1]\n",
    "\n",
    "multiple_ids_for_title.sort_values(ascending=False)"
   ],
   "metadata": {
    "collapsed": false
   }
  },
  {
   "cell_type": "markdown",
   "source": [
    "### Verificación de que existe un único precio para cada Id\n"
   ],
   "metadata": {
    "collapsed": false
   }
  },
  {
   "cell_type": "code",
   "execution_count": 329,
   "outputs": [
    {
     "data": {
      "text/plain": "Series([], Name: Price, dtype: int64)"
     },
     "execution_count": 329,
     "metadata": {},
     "output_type": "execute_result"
    }
   ],
   "source": [
    "price_discrepancies = df_reviews.groupby('Id')['Price'].nunique()\n",
    "\n",
    "ids_con_distintos_precios = price_discrepancies[price_discrepancies > 1]\n",
    "\n",
    "ids_con_distintos_precios"
   ],
   "metadata": {
    "collapsed": false
   }
  },
  {
   "cell_type": "markdown",
   "source": [
    "### Verificación de que existe un único precio para cada título\n",
    "\n"
   ],
   "metadata": {
    "collapsed": false
   }
  },
  {
   "cell_type": "code",
   "execution_count": 330,
   "outputs": [
    {
     "data": {
      "text/plain": "Title\nSelected Poems                                                                                        5\nPoems                                                                                                 4\nThe Mammoth Cheese                                                                                    4\nTexas Fury (Texas Series)                                                                             4\nThe Awakening                                                                                         4\n                                                                                                     ..\nIdeas and Options in English for Specific Purposes (ESL & Applied Linguistics Professional Series)    2\nImages of the Passion: The Sacramental Mode in Film                                                   2\nIn Darkness and Secrecy: The Anthropology of Assault Sorcery and Witchcraft in Amazonia               2\nIn God's Name                                                                                         2\nZondervan KJV Study Bible, Personal Size                                                              2\nName: Price, Length: 611, dtype: int64"
     },
     "execution_count": 330,
     "metadata": {},
     "output_type": "execute_result"
    }
   ],
   "source": [
    "price_title_discrepancies = df_reviews.groupby('Title')['Price'].nunique()\n",
    "price_title_discrepancies = price_title_discrepancies[price_title_discrepancies > 1]\n",
    "price_title_discrepancies.sort_values(ascending=False)"
   ],
   "metadata": {
    "collapsed": false
   }
  },
  {
   "cell_type": "markdown",
   "source": [
    "### Verificación de que existe un único precio para cada combinación de título e id"
   ],
   "metadata": {
    "collapsed": false
   }
  },
  {
   "cell_type": "code",
   "execution_count": 331,
   "outputs": [
    {
     "data": {
      "text/plain": "Series([], Name: Price, dtype: int64)"
     },
     "execution_count": 331,
     "metadata": {},
     "output_type": "execute_result"
    }
   ],
   "source": [
    "price_id_title_discrepancies = df_reviews.groupby(['Id','Title'])['Price'].nunique()\n",
    "price_id_title_discrepancies = price_id_title_discrepancies[price_id_title_discrepancies > 1]\n",
    "price_id_title_discrepancies.sort_values(ascending=False)"
   ],
   "metadata": {
    "collapsed": false
   }
  },
  {
   "cell_type": "markdown",
   "source": [
    "### Prueba eliminación de libros con título repetidos"
   ],
   "metadata": {
    "collapsed": false
   }
  },
  {
   "cell_type": "code",
   "execution_count": 332,
   "outputs": [
    {
     "name": "stdout",
     "output_type": "stream",
     "text": [
      "<class 'pandas.core.frame.DataFrame'>\n",
      "Index: 433205 entries, 0 to 481163\n",
      "Data columns (total 7 columns):\n",
      " #   Column              Non-Null Count   Dtype  \n",
      "---  ------              --------------   -----  \n",
      " 0   Id                  433205 non-null  object \n",
      " 1   Title               433205 non-null  object \n",
      " 2   Price               433205 non-null  float64\n",
      " 3   review/helpfulness  433205 non-null  object \n",
      " 4   review/score        433205 non-null  float64\n",
      " 5   review/text         433205 non-null  object \n",
      " 6   Id_Tipo             433205 non-null  object \n",
      "dtypes: float64(2), object(5)\n",
      "memory usage: 26.4+ MB\n"
     ]
    }
   ],
   "source": [
    "df_reviews_copia = df_reviews.copy()\n",
    "df_reviews_no_repetidos = df_reviews_copia[~df_reviews_copia['Title'].isin(multiple_ids_for_title.index)]\n",
    "\n",
    "df_reviews_no_repetidos.info()"
   ],
   "metadata": {
    "collapsed": false
   }
  },
  {
   "cell_type": "markdown",
   "source": [
    "### Verificación de que se eliminaron los registros correctos"
   ],
   "metadata": {
    "collapsed": false
   }
  },
  {
   "cell_type": "code",
   "execution_count": 333,
   "outputs": [
    {
     "data": {
      "text/plain": "Series([], Name: Id, dtype: int64)"
     },
     "execution_count": 333,
     "metadata": {},
     "output_type": "execute_result"
    }
   ],
   "source": [
    "id_counts_no_rep = df_reviews_no_repetidos.groupby('Title')['Id'].nunique()\n",
    "\n",
    "# Filtrar los casos donde hay más de un título para un mismo 'Id'\n",
    "multiple_ids_for_title_no_rep = id_counts_no_rep[id_counts_no_rep > 1]\n",
    "\n",
    "multiple_ids_for_title_no_rep.sort_values(ascending=False)"
   ],
   "metadata": {
    "collapsed": false
   }
  },
  {
   "cell_type": "markdown",
   "source": [
    "### Verificación de que existe un único precio para cada título"
   ],
   "metadata": {
    "collapsed": false
   }
  },
  {
   "cell_type": "code",
   "execution_count": 334,
   "outputs": [
    {
     "data": {
      "text/plain": "Series([], Name: Price, dtype: int64)"
     },
     "execution_count": 334,
     "metadata": {},
     "output_type": "execute_result"
    }
   ],
   "source": [
    "price_title = df_reviews_no_repetidos.groupby('Title')['Price'].nunique()\n",
    "price_title = price_title[price_title > 1]\n",
    "price_title.sort_values(ascending=False)"
   ],
   "metadata": {
    "collapsed": false
   }
  },
  {
   "cell_type": "code",
   "execution_count": 335,
   "outputs": [
    {
     "data": {
      "text/plain": "Series([], Name: Title, dtype: int64)"
     },
     "execution_count": 335,
     "metadata": {},
     "output_type": "execute_result"
    }
   ],
   "source": [
    "title_counts_no_rep = df_reviews_no_repetidos.groupby('Id')['Title'].nunique()\n",
    "\n",
    "# Filtrar los casos donde hay más de un título para un mismo 'Id'\n",
    "multiple_titles_for_id_no_rep = title_counts_no_rep[title_counts > 1]\n",
    "\n",
    "multiple_titles_for_id_no_rep"
   ],
   "metadata": {
    "collapsed": false
   }
  },
  {
   "cell_type": "markdown",
   "source": [
    "### Análisis de los libros que quedaron en el df de reseñas"
   ],
   "metadata": {
    "collapsed": false
   }
  },
  {
   "cell_type": "code",
   "execution_count": 336,
   "outputs": [
    {
     "name": "stdout",
     "output_type": "stream",
     "text": [
      "<class 'pandas.core.frame.DataFrame'>\n",
      "RangeIndex: 44107 entries, 0 to 44106\n",
      "Data columns (total 2 columns):\n",
      " #   Column  Non-Null Count  Dtype \n",
      "---  ------  --------------  ----- \n",
      " 0   Id      44107 non-null  object\n",
      " 1   Title   44107 non-null  object\n",
      "dtypes: object(2)\n",
      "memory usage: 689.3+ KB\n"
     ]
    }
   ],
   "source": [
    "df_books_reviews_no_rep = df_reviews_no_repetidos[['Id', 'Title']].drop_duplicates()\n",
    "df_books_reviews_no_rep = df_books_reviews_no_rep.reset_index(drop=True)\n",
    "\n",
    "df_books_reviews_no_rep.info()"
   ],
   "metadata": {
    "collapsed": false
   }
  },
  {
   "cell_type": "markdown",
   "source": [
    "### Agregar columna Id a df_books"
   ],
   "metadata": {
    "collapsed": false
   }
  },
  {
   "cell_type": "code",
   "execution_count": 337,
   "outputs": [
    {
     "name": "stdout",
     "output_type": "stream",
     "text": [
      "<class 'pandas.core.frame.DataFrame'>\n",
      "RangeIndex: 44107 entries, 0 to 44106\n",
      "Data columns (total 2 columns):\n",
      " #   Column  Non-Null Count  Dtype \n",
      "---  ------  --------------  ----- \n",
      " 0   Id      44107 non-null  object\n",
      " 1   Title   44107 non-null  object\n",
      "dtypes: object(2)\n",
      "memory usage: 689.3+ KB\n"
     ]
    }
   ],
   "source": [
    "df_reviews_id_titulo = df_reviews_no_repetidos[[\"Id\",\"Title\"]].drop_duplicates(ignore_index=True)\n",
    "df_reviews_id_titulo.info()"
   ],
   "metadata": {
    "collapsed": false
   }
  },
  {
   "cell_type": "code",
   "execution_count": 338,
   "outputs": [
    {
     "name": "stdout",
     "output_type": "stream",
     "text": [
      "<class 'pandas.core.frame.DataFrame'>\n",
      "RangeIndex: 31360 entries, 0 to 31359\n",
      "Data columns (total 6 columns):\n",
      " #   Column         Non-Null Count  Dtype \n",
      "---  ------         --------------  ----- \n",
      " 0   Id             31360 non-null  object\n",
      " 1   Title          31360 non-null  object\n",
      " 2   authors        31360 non-null  object\n",
      " 3   publisher      31360 non-null  object\n",
      " 4   publishedDate  31360 non-null  object\n",
      " 5   categories     31360 non-null  object\n",
      "dtypes: object(6)\n",
      "memory usage: 1.4+ MB\n"
     ]
    }
   ],
   "source": [
    "df_books = df_books.merge(df_reviews_id_titulo, on='Title', how='inner')\n",
    "isbn_column = df_books['Id']\n",
    "df_books = df_books.drop(columns=['Id'])\n",
    "df_books.insert(0, 'Id', isbn_column)\n",
    "df_books.info()"
   ],
   "metadata": {
    "collapsed": false
   }
  },
  {
   "cell_type": "code",
   "execution_count": 339,
   "outputs": [
    {
     "data": {
      "text/plain": "           Id                                              Title  \\\n0  0595344550                      Whispers of the Wicked Saints   \n1  0802841899  The Church of Christ: A Biblical Ecclesiology ...   \n2  0895554224                           Saint Hyacinth of Poland   \n3  0792391810  Vector Quantization and Signal Compression (Th...   \n4  0974289108  The Ultimate Guide to Law School Admission: In...   \n5  0553763121  Overcoming Hypertension (Dr. Kenneth H. Cooper...   \n6  158322047X           The Forbidden Stories of Marta Veneranda   \n7  3161453549  Homer or Moses?: Early Christian Interpretatio...   \n8  0887402216                            The Battleship Bismarck   \n9  0781810698   Beginner's Yoruba (Hippocrene Beginner's Series)   \n\n                              authors                          publisher  \\\n0                 ['Veronica Haddon']                          iUniverse   \n1                ['Everett Ferguson']         Wm. B. Eerdmans Publishing   \n2            ['Mary Fabyan Windeatt']                    Tan Books & Pub   \n3  ['Allen Gersho', 'Robert M. Gray']  Springer Science & Business Media   \n4                    ['Fiona Cownie']              Bloomsbury Publishing   \n5               ['Kenneth H. Cooper']                             Bantam   \n6             ['Sonia Rivera-Valdes']                Seven Stories Press   \n7                 ['Arthur J. Droge']                       Mohr Siebeck   \n8                ['Stefan Draminski']              Bloomsbury Publishing   \n9             ['Kayode J. Fakinlede']                   Hippocrene Books   \n\n  publishedDate                     categories  \n0       2005-02                    ['Fiction']  \n1          1996                   ['Religion']  \n2    2009-01-01  ['Biography & Autobiography']  \n3    2012-12-06   ['Technology & Engineering']  \n4    2010-01-28                        ['Law']  \n5    2012-02-01           ['Health & Fitness']  \n6    2001-03-06                    ['Fiction']  \n7          1989                   ['Religion']  \n8    2018-09-20                    ['History']  \n9          2005     ['Foreign Language Study']  ",
      "text/html": "<div>\n<style scoped>\n    .dataframe tbody tr th:only-of-type {\n        vertical-align: middle;\n    }\n\n    .dataframe tbody tr th {\n        vertical-align: top;\n    }\n\n    .dataframe thead th {\n        text-align: right;\n    }\n</style>\n<table border=\"1\" class=\"dataframe\">\n  <thead>\n    <tr style=\"text-align: right;\">\n      <th></th>\n      <th>Id</th>\n      <th>Title</th>\n      <th>authors</th>\n      <th>publisher</th>\n      <th>publishedDate</th>\n      <th>categories</th>\n    </tr>\n  </thead>\n  <tbody>\n    <tr>\n      <th>0</th>\n      <td>0595344550</td>\n      <td>Whispers of the Wicked Saints</td>\n      <td>['Veronica Haddon']</td>\n      <td>iUniverse</td>\n      <td>2005-02</td>\n      <td>['Fiction']</td>\n    </tr>\n    <tr>\n      <th>1</th>\n      <td>0802841899</td>\n      <td>The Church of Christ: A Biblical Ecclesiology ...</td>\n      <td>['Everett Ferguson']</td>\n      <td>Wm. B. Eerdmans Publishing</td>\n      <td>1996</td>\n      <td>['Religion']</td>\n    </tr>\n    <tr>\n      <th>2</th>\n      <td>0895554224</td>\n      <td>Saint Hyacinth of Poland</td>\n      <td>['Mary Fabyan Windeatt']</td>\n      <td>Tan Books &amp; Pub</td>\n      <td>2009-01-01</td>\n      <td>['Biography &amp; Autobiography']</td>\n    </tr>\n    <tr>\n      <th>3</th>\n      <td>0792391810</td>\n      <td>Vector Quantization and Signal Compression (Th...</td>\n      <td>['Allen Gersho', 'Robert M. Gray']</td>\n      <td>Springer Science &amp; Business Media</td>\n      <td>2012-12-06</td>\n      <td>['Technology &amp; Engineering']</td>\n    </tr>\n    <tr>\n      <th>4</th>\n      <td>0974289108</td>\n      <td>The Ultimate Guide to Law School Admission: In...</td>\n      <td>['Fiona Cownie']</td>\n      <td>Bloomsbury Publishing</td>\n      <td>2010-01-28</td>\n      <td>['Law']</td>\n    </tr>\n    <tr>\n      <th>5</th>\n      <td>0553763121</td>\n      <td>Overcoming Hypertension (Dr. Kenneth H. Cooper...</td>\n      <td>['Kenneth H. Cooper']</td>\n      <td>Bantam</td>\n      <td>2012-02-01</td>\n      <td>['Health &amp; Fitness']</td>\n    </tr>\n    <tr>\n      <th>6</th>\n      <td>158322047X</td>\n      <td>The Forbidden Stories of Marta Veneranda</td>\n      <td>['Sonia Rivera-Valdes']</td>\n      <td>Seven Stories Press</td>\n      <td>2001-03-06</td>\n      <td>['Fiction']</td>\n    </tr>\n    <tr>\n      <th>7</th>\n      <td>3161453549</td>\n      <td>Homer or Moses?: Early Christian Interpretatio...</td>\n      <td>['Arthur J. Droge']</td>\n      <td>Mohr Siebeck</td>\n      <td>1989</td>\n      <td>['Religion']</td>\n    </tr>\n    <tr>\n      <th>8</th>\n      <td>0887402216</td>\n      <td>The Battleship Bismarck</td>\n      <td>['Stefan Draminski']</td>\n      <td>Bloomsbury Publishing</td>\n      <td>2018-09-20</td>\n      <td>['History']</td>\n    </tr>\n    <tr>\n      <th>9</th>\n      <td>0781810698</td>\n      <td>Beginner's Yoruba (Hippocrene Beginner's Series)</td>\n      <td>['Kayode J. Fakinlede']</td>\n      <td>Hippocrene Books</td>\n      <td>2005</td>\n      <td>['Foreign Language Study']</td>\n    </tr>\n  </tbody>\n</table>\n</div>"
     },
     "execution_count": 339,
     "metadata": {},
     "output_type": "execute_result"
    }
   ],
   "source": [
    "df_books.head(10)"
   ],
   "metadata": {
    "collapsed": false
   }
  },
  {
   "cell_type": "markdown",
   "source": [
    "### Agregar columna precio al df de libros"
   ],
   "metadata": {
    "collapsed": false
   }
  },
  {
   "cell_type": "code",
   "execution_count": 340,
   "outputs": [
    {
     "name": "stdout",
     "output_type": "stream",
     "text": [
      "<class 'pandas.core.frame.DataFrame'>\n",
      "RangeIndex: 44107 entries, 0 to 44106\n",
      "Data columns (total 2 columns):\n",
      " #   Column  Non-Null Count  Dtype  \n",
      "---  ------  --------------  -----  \n",
      " 0   Id      44107 non-null  object \n",
      " 1   Price   44107 non-null  float64\n",
      "dtypes: float64(1), object(1)\n",
      "memory usage: 689.3+ KB\n"
     ]
    }
   ],
   "source": [
    "#precio_promedio = df_reviews_no_repetidos.groupby('Id')['Price'].agg(lambda x: np.nanmean(x[x.notna()])).reset_index()\n",
    "precio_promedio = df_reviews_no_repetidos.groupby('Id')['Price'].agg(lambda x: np.nanmean(x)).reset_index()\n",
    "precio_promedio.info()"
   ],
   "metadata": {
    "collapsed": false
   }
  },
  {
   "cell_type": "code",
   "execution_count": 341,
   "outputs": [
    {
     "name": "stdout",
     "output_type": "stream",
     "text": [
      "<class 'pandas.core.frame.DataFrame'>\n",
      "RangeIndex: 31360 entries, 0 to 31359\n",
      "Data columns (total 7 columns):\n",
      " #   Column         Non-Null Count  Dtype  \n",
      "---  ------         --------------  -----  \n",
      " 0   Id             31360 non-null  object \n",
      " 1   Title          31360 non-null  object \n",
      " 2   authors        31360 non-null  object \n",
      " 3   publisher      31360 non-null  object \n",
      " 4   publishedDate  31360 non-null  object \n",
      " 5   categories     31360 non-null  object \n",
      " 6   Price          31360 non-null  float64\n",
      "dtypes: float64(1), object(6)\n",
      "memory usage: 1.7+ MB\n"
     ]
    }
   ],
   "source": [
    "df_books = df_books.merge(precio_promedio, on='Id', how='left')\n",
    "df_books.info()"
   ],
   "metadata": {
    "collapsed": false
   }
  },
  {
   "cell_type": "code",
   "execution_count": 342,
   "outputs": [
    {
     "data": {
      "text/plain": "           Id                                              Title  \\\n0  0595344550                      Whispers of the Wicked Saints   \n1  0802841899  The Church of Christ: A Biblical Ecclesiology ...   \n2  0895554224                           Saint Hyacinth of Poland   \n3  0792391810  Vector Quantization and Signal Compression (Th...   \n4  0974289108  The Ultimate Guide to Law School Admission: In...   \n5  0553763121  Overcoming Hypertension (Dr. Kenneth H. Cooper...   \n6  158322047X           The Forbidden Stories of Marta Veneranda   \n7  3161453549  Homer or Moses?: Early Christian Interpretatio...   \n8  0887402216                            The Battleship Bismarck   \n9  0781810698   Beginner's Yoruba (Hippocrene Beginner's Series)   \n\n                              authors                          publisher  \\\n0                 ['Veronica Haddon']                          iUniverse   \n1                ['Everett Ferguson']         Wm. B. Eerdmans Publishing   \n2            ['Mary Fabyan Windeatt']                    Tan Books & Pub   \n3  ['Allen Gersho', 'Robert M. Gray']  Springer Science & Business Media   \n4                    ['Fiona Cownie']              Bloomsbury Publishing   \n5               ['Kenneth H. Cooper']                             Bantam   \n6             ['Sonia Rivera-Valdes']                Seven Stories Press   \n7                 ['Arthur J. Droge']                       Mohr Siebeck   \n8                ['Stefan Draminski']              Bloomsbury Publishing   \n9             ['Kayode J. Fakinlede']                   Hippocrene Books   \n\n  publishedDate                     categories  Price  \n0       2005-02                    ['Fiction']  10.95  \n1          1996                   ['Religion']  25.97  \n2    2009-01-01  ['Biography & Autobiography']  13.95  \n3    2012-12-06   ['Technology & Engineering']  76.94  \n4    2010-01-28                        ['Law']  14.95  \n5    2012-02-01           ['Health & Fitness']  23.00  \n6    2001-03-06                    ['Fiction']  21.95  \n7          1989                   ['Religion']  97.50  \n8    2018-09-20                    ['History']  34.95  \n9          2005     ['Foreign Language Study']  19.77  ",
      "text/html": "<div>\n<style scoped>\n    .dataframe tbody tr th:only-of-type {\n        vertical-align: middle;\n    }\n\n    .dataframe tbody tr th {\n        vertical-align: top;\n    }\n\n    .dataframe thead th {\n        text-align: right;\n    }\n</style>\n<table border=\"1\" class=\"dataframe\">\n  <thead>\n    <tr style=\"text-align: right;\">\n      <th></th>\n      <th>Id</th>\n      <th>Title</th>\n      <th>authors</th>\n      <th>publisher</th>\n      <th>publishedDate</th>\n      <th>categories</th>\n      <th>Price</th>\n    </tr>\n  </thead>\n  <tbody>\n    <tr>\n      <th>0</th>\n      <td>0595344550</td>\n      <td>Whispers of the Wicked Saints</td>\n      <td>['Veronica Haddon']</td>\n      <td>iUniverse</td>\n      <td>2005-02</td>\n      <td>['Fiction']</td>\n      <td>10.95</td>\n    </tr>\n    <tr>\n      <th>1</th>\n      <td>0802841899</td>\n      <td>The Church of Christ: A Biblical Ecclesiology ...</td>\n      <td>['Everett Ferguson']</td>\n      <td>Wm. B. Eerdmans Publishing</td>\n      <td>1996</td>\n      <td>['Religion']</td>\n      <td>25.97</td>\n    </tr>\n    <tr>\n      <th>2</th>\n      <td>0895554224</td>\n      <td>Saint Hyacinth of Poland</td>\n      <td>['Mary Fabyan Windeatt']</td>\n      <td>Tan Books &amp; Pub</td>\n      <td>2009-01-01</td>\n      <td>['Biography &amp; Autobiography']</td>\n      <td>13.95</td>\n    </tr>\n    <tr>\n      <th>3</th>\n      <td>0792391810</td>\n      <td>Vector Quantization and Signal Compression (Th...</td>\n      <td>['Allen Gersho', 'Robert M. Gray']</td>\n      <td>Springer Science &amp; Business Media</td>\n      <td>2012-12-06</td>\n      <td>['Technology &amp; Engineering']</td>\n      <td>76.94</td>\n    </tr>\n    <tr>\n      <th>4</th>\n      <td>0974289108</td>\n      <td>The Ultimate Guide to Law School Admission: In...</td>\n      <td>['Fiona Cownie']</td>\n      <td>Bloomsbury Publishing</td>\n      <td>2010-01-28</td>\n      <td>['Law']</td>\n      <td>14.95</td>\n    </tr>\n    <tr>\n      <th>5</th>\n      <td>0553763121</td>\n      <td>Overcoming Hypertension (Dr. Kenneth H. Cooper...</td>\n      <td>['Kenneth H. Cooper']</td>\n      <td>Bantam</td>\n      <td>2012-02-01</td>\n      <td>['Health &amp; Fitness']</td>\n      <td>23.00</td>\n    </tr>\n    <tr>\n      <th>6</th>\n      <td>158322047X</td>\n      <td>The Forbidden Stories of Marta Veneranda</td>\n      <td>['Sonia Rivera-Valdes']</td>\n      <td>Seven Stories Press</td>\n      <td>2001-03-06</td>\n      <td>['Fiction']</td>\n      <td>21.95</td>\n    </tr>\n    <tr>\n      <th>7</th>\n      <td>3161453549</td>\n      <td>Homer or Moses?: Early Christian Interpretatio...</td>\n      <td>['Arthur J. Droge']</td>\n      <td>Mohr Siebeck</td>\n      <td>1989</td>\n      <td>['Religion']</td>\n      <td>97.50</td>\n    </tr>\n    <tr>\n      <th>8</th>\n      <td>0887402216</td>\n      <td>The Battleship Bismarck</td>\n      <td>['Stefan Draminski']</td>\n      <td>Bloomsbury Publishing</td>\n      <td>2018-09-20</td>\n      <td>['History']</td>\n      <td>34.95</td>\n    </tr>\n    <tr>\n      <th>9</th>\n      <td>0781810698</td>\n      <td>Beginner's Yoruba (Hippocrene Beginner's Series)</td>\n      <td>['Kayode J. Fakinlede']</td>\n      <td>Hippocrene Books</td>\n      <td>2005</td>\n      <td>['Foreign Language Study']</td>\n      <td>19.77</td>\n    </tr>\n  </tbody>\n</table>\n</div>"
     },
     "execution_count": 342,
     "metadata": {},
     "output_type": "execute_result"
    }
   ],
   "source": [
    "df_books.head(10)"
   ],
   "metadata": {
    "collapsed": false
   }
  },
  {
   "cell_type": "markdown",
   "source": [
    "### Análisis de la cantidad de autores de un libro y las categorías a las que pertenece"
   ],
   "metadata": {
    "collapsed": false
   }
  },
  {
   "cell_type": "code",
   "execution_count": 343,
   "outputs": [
    {
     "data": {
      "text/plain": "0    1\n1    1\n2    1\n3    2\n4    1\n5    1\n6    1\n7    1\n8    1\n9    1\nName: authors, dtype: int64"
     },
     "execution_count": 343,
     "metadata": {},
     "output_type": "execute_result"
    }
   ],
   "source": [
    "# contar la cantidad de autores\n",
    "authors_count = df_books['authors'].apply(lambda x: len(eval(x)))\n",
    "authors_count.head(10)"
   ],
   "metadata": {
    "collapsed": false
   }
  },
  {
   "cell_type": "code",
   "execution_count": 344,
   "outputs": [],
   "source": [
    "df_books['authors_count'] = authors_count"
   ],
   "metadata": {
    "collapsed": false
   }
  },
  {
   "cell_type": "code",
   "execution_count": 345,
   "outputs": [
    {
     "data": {
      "text/plain": "0    1\n1    1\n2    1\n3    1\n4    1\n5    1\n6    1\n7    1\n8    1\n9    1\nName: categories, dtype: int64"
     },
     "execution_count": 345,
     "metadata": {},
     "output_type": "execute_result"
    }
   ],
   "source": [
    "categories_count = df_books['categories'].apply(lambda x: len(eval(x)))\n",
    "categories_count.head(10)"
   ],
   "metadata": {
    "collapsed": false
   }
  },
  {
   "cell_type": "code",
   "execution_count": 346,
   "outputs": [],
   "source": [
    "df_books['categories_count'] = categories_count"
   ],
   "metadata": {
    "collapsed": false
   }
  },
  {
   "cell_type": "code",
   "execution_count": 347,
   "outputs": [
    {
     "name": "stdout",
     "output_type": "stream",
     "text": [
      "<class 'pandas.core.frame.DataFrame'>\n",
      "RangeIndex: 31360 entries, 0 to 31359\n",
      "Data columns (total 9 columns):\n",
      " #   Column            Non-Null Count  Dtype  \n",
      "---  ------            --------------  -----  \n",
      " 0   Id                31360 non-null  object \n",
      " 1   Title             31360 non-null  object \n",
      " 2   authors           31360 non-null  object \n",
      " 3   publisher         31360 non-null  object \n",
      " 4   publishedDate     31360 non-null  object \n",
      " 5   categories        31360 non-null  object \n",
      " 6   Price             31360 non-null  float64\n",
      " 7   authors_count     31360 non-null  int64  \n",
      " 8   categories_count  31360 non-null  int64  \n",
      "dtypes: float64(1), int64(2), object(6)\n",
      "memory usage: 2.2+ MB\n"
     ]
    }
   ],
   "source": [
    "df_books.info()"
   ],
   "metadata": {
    "collapsed": false
   }
  },
  {
   "cell_type": "code",
   "execution_count": 348,
   "outputs": [
    {
     "data": {
      "text/plain": "           Id                                              Title  \\\n0  0595344550                      Whispers of the Wicked Saints   \n1  0802841899  The Church of Christ: A Biblical Ecclesiology ...   \n2  0895554224                           Saint Hyacinth of Poland   \n3  0792391810  Vector Quantization and Signal Compression (Th...   \n4  0974289108  The Ultimate Guide to Law School Admission: In...   \n5  0553763121  Overcoming Hypertension (Dr. Kenneth H. Cooper...   \n6  158322047X           The Forbidden Stories of Marta Veneranda   \n7  3161453549  Homer or Moses?: Early Christian Interpretatio...   \n8  0887402216                            The Battleship Bismarck   \n9  0781810698   Beginner's Yoruba (Hippocrene Beginner's Series)   \n\n                              authors                          publisher  \\\n0                 ['Veronica Haddon']                          iUniverse   \n1                ['Everett Ferguson']         Wm. B. Eerdmans Publishing   \n2            ['Mary Fabyan Windeatt']                    Tan Books & Pub   \n3  ['Allen Gersho', 'Robert M. Gray']  Springer Science & Business Media   \n4                    ['Fiona Cownie']              Bloomsbury Publishing   \n5               ['Kenneth H. Cooper']                             Bantam   \n6             ['Sonia Rivera-Valdes']                Seven Stories Press   \n7                 ['Arthur J. Droge']                       Mohr Siebeck   \n8                ['Stefan Draminski']              Bloomsbury Publishing   \n9             ['Kayode J. Fakinlede']                   Hippocrene Books   \n\n  publishedDate                     categories  Price  authors_count  \\\n0       2005-02                    ['Fiction']  10.95              1   \n1          1996                   ['Religion']  25.97              1   \n2    2009-01-01  ['Biography & Autobiography']  13.95              1   \n3    2012-12-06   ['Technology & Engineering']  76.94              2   \n4    2010-01-28                        ['Law']  14.95              1   \n5    2012-02-01           ['Health & Fitness']  23.00              1   \n6    2001-03-06                    ['Fiction']  21.95              1   \n7          1989                   ['Religion']  97.50              1   \n8    2018-09-20                    ['History']  34.95              1   \n9          2005     ['Foreign Language Study']  19.77              1   \n\n   categories_count  \n0                 1  \n1                 1  \n2                 1  \n3                 1  \n4                 1  \n5                 1  \n6                 1  \n7                 1  \n8                 1  \n9                 1  ",
      "text/html": "<div>\n<style scoped>\n    .dataframe tbody tr th:only-of-type {\n        vertical-align: middle;\n    }\n\n    .dataframe tbody tr th {\n        vertical-align: top;\n    }\n\n    .dataframe thead th {\n        text-align: right;\n    }\n</style>\n<table border=\"1\" class=\"dataframe\">\n  <thead>\n    <tr style=\"text-align: right;\">\n      <th></th>\n      <th>Id</th>\n      <th>Title</th>\n      <th>authors</th>\n      <th>publisher</th>\n      <th>publishedDate</th>\n      <th>categories</th>\n      <th>Price</th>\n      <th>authors_count</th>\n      <th>categories_count</th>\n    </tr>\n  </thead>\n  <tbody>\n    <tr>\n      <th>0</th>\n      <td>0595344550</td>\n      <td>Whispers of the Wicked Saints</td>\n      <td>['Veronica Haddon']</td>\n      <td>iUniverse</td>\n      <td>2005-02</td>\n      <td>['Fiction']</td>\n      <td>10.95</td>\n      <td>1</td>\n      <td>1</td>\n    </tr>\n    <tr>\n      <th>1</th>\n      <td>0802841899</td>\n      <td>The Church of Christ: A Biblical Ecclesiology ...</td>\n      <td>['Everett Ferguson']</td>\n      <td>Wm. B. Eerdmans Publishing</td>\n      <td>1996</td>\n      <td>['Religion']</td>\n      <td>25.97</td>\n      <td>1</td>\n      <td>1</td>\n    </tr>\n    <tr>\n      <th>2</th>\n      <td>0895554224</td>\n      <td>Saint Hyacinth of Poland</td>\n      <td>['Mary Fabyan Windeatt']</td>\n      <td>Tan Books &amp; Pub</td>\n      <td>2009-01-01</td>\n      <td>['Biography &amp; Autobiography']</td>\n      <td>13.95</td>\n      <td>1</td>\n      <td>1</td>\n    </tr>\n    <tr>\n      <th>3</th>\n      <td>0792391810</td>\n      <td>Vector Quantization and Signal Compression (Th...</td>\n      <td>['Allen Gersho', 'Robert M. Gray']</td>\n      <td>Springer Science &amp; Business Media</td>\n      <td>2012-12-06</td>\n      <td>['Technology &amp; Engineering']</td>\n      <td>76.94</td>\n      <td>2</td>\n      <td>1</td>\n    </tr>\n    <tr>\n      <th>4</th>\n      <td>0974289108</td>\n      <td>The Ultimate Guide to Law School Admission: In...</td>\n      <td>['Fiona Cownie']</td>\n      <td>Bloomsbury Publishing</td>\n      <td>2010-01-28</td>\n      <td>['Law']</td>\n      <td>14.95</td>\n      <td>1</td>\n      <td>1</td>\n    </tr>\n    <tr>\n      <th>5</th>\n      <td>0553763121</td>\n      <td>Overcoming Hypertension (Dr. Kenneth H. Cooper...</td>\n      <td>['Kenneth H. Cooper']</td>\n      <td>Bantam</td>\n      <td>2012-02-01</td>\n      <td>['Health &amp; Fitness']</td>\n      <td>23.00</td>\n      <td>1</td>\n      <td>1</td>\n    </tr>\n    <tr>\n      <th>6</th>\n      <td>158322047X</td>\n      <td>The Forbidden Stories of Marta Veneranda</td>\n      <td>['Sonia Rivera-Valdes']</td>\n      <td>Seven Stories Press</td>\n      <td>2001-03-06</td>\n      <td>['Fiction']</td>\n      <td>21.95</td>\n      <td>1</td>\n      <td>1</td>\n    </tr>\n    <tr>\n      <th>7</th>\n      <td>3161453549</td>\n      <td>Homer or Moses?: Early Christian Interpretatio...</td>\n      <td>['Arthur J. Droge']</td>\n      <td>Mohr Siebeck</td>\n      <td>1989</td>\n      <td>['Religion']</td>\n      <td>97.50</td>\n      <td>1</td>\n      <td>1</td>\n    </tr>\n    <tr>\n      <th>8</th>\n      <td>0887402216</td>\n      <td>The Battleship Bismarck</td>\n      <td>['Stefan Draminski']</td>\n      <td>Bloomsbury Publishing</td>\n      <td>2018-09-20</td>\n      <td>['History']</td>\n      <td>34.95</td>\n      <td>1</td>\n      <td>1</td>\n    </tr>\n    <tr>\n      <th>9</th>\n      <td>0781810698</td>\n      <td>Beginner's Yoruba (Hippocrene Beginner's Series)</td>\n      <td>['Kayode J. Fakinlede']</td>\n      <td>Hippocrene Books</td>\n      <td>2005</td>\n      <td>['Foreign Language Study']</td>\n      <td>19.77</td>\n      <td>1</td>\n      <td>1</td>\n    </tr>\n  </tbody>\n</table>\n</div>"
     },
     "execution_count": 348,
     "metadata": {},
     "output_type": "execute_result"
    }
   ],
   "source": [
    "df_books.head(10)"
   ],
   "metadata": {
    "collapsed": false
   }
  },
  {
   "cell_type": "markdown",
   "source": [
    "### Cantidad de libros que tienen una cierta cantidad de categorias"
   ],
   "metadata": {
    "collapsed": false
   }
  },
  {
   "cell_type": "code",
   "execution_count": 349,
   "outputs": [
    {
     "data": {
      "text/plain": "categories_count\n1    31360\nName: count, dtype: int64"
     },
     "execution_count": 349,
     "metadata": {},
     "output_type": "execute_result"
    }
   ],
   "source": [
    "df_books['categories_count'].value_counts()"
   ],
   "metadata": {
    "collapsed": false
   }
  },
  {
   "cell_type": "markdown",
   "source": [
    "Todos los libros tienen una única categoría.\n",
    "\n",
    "### Cantidad de libros que tienen una cierta cantidad de autores"
   ],
   "metadata": {
    "collapsed": false
   }
  },
  {
   "cell_type": "code",
   "execution_count": 350,
   "outputs": [
    {
     "data": {
      "text/plain": "authors_count\n1     24352\n2      5322\n3      1212\n4       322\n5        88\n6        37\n8         7\n7         6\n12        5\n9         3\n11        2\n16        1\n15        1\n18        1\n28        1\nName: count, dtype: int64"
     },
     "execution_count": 350,
     "metadata": {},
     "output_type": "execute_result"
    }
   ],
   "source": [
    "df_books['authors_count'].value_counts()"
   ],
   "metadata": {
    "collapsed": false
   }
  },
  {
   "cell_type": "markdown",
   "source": [
    "Hay 24352 libros que tienen un único autor, para facilitar el análisis nos quedaremos solo con estos libros"
   ],
   "metadata": {
    "collapsed": false
   }
  },
  {
   "cell_type": "code",
   "execution_count": 351,
   "outputs": [
    {
     "data": {
      "text/plain": "Id                  24352\nTitle               24352\nauthors             24352\npublisher           24352\npublishedDate       24352\ncategories          24352\nPrice               24352\nauthors_count       24352\ncategories_count    24352\ndtype: int64"
     },
     "execution_count": 351,
     "metadata": {},
     "output_type": "execute_result"
    }
   ],
   "source": [
    "df_books = df_books[(df_books['authors_count'] == 1) & (df_books['categories_count'] == 1)]\n",
    "df_books.count()"
   ],
   "metadata": {
    "collapsed": false
   }
  },
  {
   "cell_type": "markdown",
   "source": [
    "### Análisis de los formatos de fecha de publicación"
   ],
   "metadata": {
    "collapsed": false
   }
  },
  {
   "cell_type": "code",
   "execution_count": 352,
   "outputs": [],
   "source": [
    "formatos_fecha = pd.DataFrame()\n",
    "\n",
    "# Contar registros con formato AAAA-MM-dd\n",
    "formatos_fecha['AAAA-MM-dd'] = df_books['publishedDate'].str.count(r'\\d{4}-\\d{2}-\\d{2}')\n",
    "\n",
    "# Contar registros con formato AAAA-MM\n",
    "formatos_fecha['AAAA-MM'] = df_books['publishedDate'].str.count(r'\\d{4}-\\d{2}(?=-|$)')\n",
    "\n",
    "# Contar registros con formato AAAA\n",
    "formatos_fecha['AAAA'] = df_books['publishedDate'].str.count(r'\\d{4}(?=-|$)')\n",
    "\n",
    "formatos_fecha['Otro'] = df_books['publishedDate'].str.count(r'^(?!(\\d{4}-\\d{2}-\\d{2}|\\d{4}-\\d{2}|\\d{4})).*')\n",
    "\n",
    "# Sumar el número de registros que no coinciden con los formatos conocidos\n",
    "total_otro = formatos_fecha['Otro'].sum()\n",
    "\n",
    "\n",
    "# Mostrar el recuento de cada formato de fecha\n",
    "conteo_formatos = formatos_fecha.sum()"
   ],
   "metadata": {
    "collapsed": false
   }
  },
  {
   "cell_type": "code",
   "execution_count": 353,
   "outputs": [
    {
     "data": {
      "text/plain": "AAAA-MM-dd    14549\nAAAA-MM       16179\nAAAA          24350\nOtro              1\ndtype: int64"
     },
     "execution_count": 353,
     "metadata": {},
     "output_type": "execute_result"
    }
   ],
   "source": [
    "\n",
    "conteo_formatos"
   ],
   "metadata": {
    "collapsed": false
   }
  },
  {
   "cell_type": "code",
   "execution_count": 354,
   "outputs": [
    {
     "data": {
      "text/plain": "               Id       Title           authors publisher publishedDate  \\\n19080  1592248810  The Damned  ['Charles Fort']  Lulu.com          196?   \n\n        categories  Price  authors_count  categories_count  \n19080  ['Science']  13.95              1                 1  ",
      "text/html": "<div>\n<style scoped>\n    .dataframe tbody tr th:only-of-type {\n        vertical-align: middle;\n    }\n\n    .dataframe tbody tr th {\n        vertical-align: top;\n    }\n\n    .dataframe thead th {\n        text-align: right;\n    }\n</style>\n<table border=\"1\" class=\"dataframe\">\n  <thead>\n    <tr style=\"text-align: right;\">\n      <th></th>\n      <th>Id</th>\n      <th>Title</th>\n      <th>authors</th>\n      <th>publisher</th>\n      <th>publishedDate</th>\n      <th>categories</th>\n      <th>Price</th>\n      <th>authors_count</th>\n      <th>categories_count</th>\n    </tr>\n  </thead>\n  <tbody>\n    <tr>\n      <th>19080</th>\n      <td>1592248810</td>\n      <td>The Damned</td>\n      <td>['Charles Fort']</td>\n      <td>Lulu.com</td>\n      <td>196?</td>\n      <td>['Science']</td>\n      <td>13.95</td>\n      <td>1</td>\n      <td>1</td>\n    </tr>\n  </tbody>\n</table>\n</div>"
     },
     "execution_count": 354,
     "metadata": {},
     "output_type": "execute_result"
    }
   ],
   "source": [
    "df_books[formatos_fecha['Otro'] > 0]"
   ],
   "metadata": {
    "collapsed": false
   }
  },
  {
   "cell_type": "code",
   "execution_count": 355,
   "outputs": [
    {
     "data": {
      "text/plain": "AAAA-MM-dd        0.0\nAAAA-MM           0.0\nAAAA          24351.0\nOtro              0.0\ndtype: float64"
     },
     "execution_count": 355,
     "metadata": {},
     "output_type": "execute_result"
    }
   ],
   "source": [
    "df_books['publishedDate'] = df_books['publishedDate'].str.extract(r'(\\d{4})', expand=False)\n",
    "formatos_fecha_df = pd.DataFrame()\n",
    "\n",
    "# Contar registros con formato AAAA-MM-dd\n",
    "formatos_fecha_df['AAAA-MM-dd'] = df_books['publishedDate'].str.count(r'\\d{4}-\\d{2}-\\d{2}')\n",
    "\n",
    "# Contar registros con formato AAAA-MM\n",
    "formatos_fecha_df['AAAA-MM'] = df_books['publishedDate'].str.count(r'\\d{4}-\\d{2}(?=-|$)')\n",
    "\n",
    "# Contar registros con formato AAAA\n",
    "formatos_fecha_df['AAAA'] = df_books['publishedDate'].str.count(r'\\d{4}(?=-|$)')\n",
    "\n",
    "formatos_fecha_df['Otro'] = df_books['publishedDate'].str.count(r'^(?!(\\d{4}-\\d{2}-\\d{2}|\\d{4}-\\d{2}|\\d{4})).*')\n",
    "\n",
    "conteo_formatos_df = formatos_fecha_df.sum()\n",
    "conteo_formatos_df"
   ],
   "metadata": {
    "collapsed": false
   }
  },
  {
   "cell_type": "code",
   "execution_count": 356,
   "outputs": [
    {
     "data": {
      "text/plain": "               Id       Title           authors publisher publishedDate  \\\n19080  1592248810  The Damned  ['Charles Fort']  Lulu.com           NaN   \n\n        categories  Price  authors_count  categories_count  \n19080  ['Science']  13.95              1                 1  ",
      "text/html": "<div>\n<style scoped>\n    .dataframe tbody tr th:only-of-type {\n        vertical-align: middle;\n    }\n\n    .dataframe tbody tr th {\n        vertical-align: top;\n    }\n\n    .dataframe thead th {\n        text-align: right;\n    }\n</style>\n<table border=\"1\" class=\"dataframe\">\n  <thead>\n    <tr style=\"text-align: right;\">\n      <th></th>\n      <th>Id</th>\n      <th>Title</th>\n      <th>authors</th>\n      <th>publisher</th>\n      <th>publishedDate</th>\n      <th>categories</th>\n      <th>Price</th>\n      <th>authors_count</th>\n      <th>categories_count</th>\n    </tr>\n  </thead>\n  <tbody>\n    <tr>\n      <th>19080</th>\n      <td>1592248810</td>\n      <td>The Damned</td>\n      <td>['Charles Fort']</td>\n      <td>Lulu.com</td>\n      <td>NaN</td>\n      <td>['Science']</td>\n      <td>13.95</td>\n      <td>1</td>\n      <td>1</td>\n    </tr>\n  </tbody>\n</table>\n</div>"
     },
     "execution_count": 356,
     "metadata": {},
     "output_type": "execute_result"
    }
   ],
   "source": [
    "df_books[formatos_fecha['Otro'] > 0]"
   ],
   "metadata": {
    "collapsed": false
   }
  },
  {
   "cell_type": "code",
   "execution_count": 357,
   "outputs": [
    {
     "data": {
      "text/plain": "               Id       Title           authors publisher publishedDate  \\\n19080  1592248810  The Damned  ['Charles Fort']  Lulu.com           NaN   \n\n        categories  Price  authors_count  categories_count  \n19080  ['Science']  13.95              1                 1  ",
      "text/html": "<div>\n<style scoped>\n    .dataframe tbody tr th:only-of-type {\n        vertical-align: middle;\n    }\n\n    .dataframe tbody tr th {\n        vertical-align: top;\n    }\n\n    .dataframe thead th {\n        text-align: right;\n    }\n</style>\n<table border=\"1\" class=\"dataframe\">\n  <thead>\n    <tr style=\"text-align: right;\">\n      <th></th>\n      <th>Id</th>\n      <th>Title</th>\n      <th>authors</th>\n      <th>publisher</th>\n      <th>publishedDate</th>\n      <th>categories</th>\n      <th>Price</th>\n      <th>authors_count</th>\n      <th>categories_count</th>\n    </tr>\n  </thead>\n  <tbody>\n    <tr>\n      <th>19080</th>\n      <td>1592248810</td>\n      <td>The Damned</td>\n      <td>['Charles Fort']</td>\n      <td>Lulu.com</td>\n      <td>NaN</td>\n      <td>['Science']</td>\n      <td>13.95</td>\n      <td>1</td>\n      <td>1</td>\n    </tr>\n  </tbody>\n</table>\n</div>"
     },
     "execution_count": 357,
     "metadata": {},
     "output_type": "execute_result"
    }
   ],
   "source": [
    "df_books[df_books['publishedDate'].isna()]"
   ],
   "metadata": {
    "collapsed": false
   }
  },
  {
   "cell_type": "code",
   "execution_count": 358,
   "outputs": [
    {
     "data": {
      "text/plain": "               Id                                          Title  \\\n7350   1557423873  Jimgrim and the Seventeen Thieves of El-Kalil   \n11995  1592249159       The Diamond Lens and Other Strange Tales   \n12697  0878771506     Lighten Up Your Body, Lighten Up Your Life   \n\n                      authors    publisher publishedDate  \\\n7350         ['Talbot Mundy']  Borgo Press          2005   \n11995  [\"Fitz James O'Brien\"]  Borgo Press          2002   \n12697   ['Lucia Capacchione']  Borgo Press          1990   \n\n                    categories  Price  authors_count  categories_count  \n7350               ['Fiction']  29.95              1                 1  \n11995              ['Fiction']  18.95              1                 1  \n12697  ['Body, Mind & Spirit']  12.95              1                 1  ",
      "text/html": "<div>\n<style scoped>\n    .dataframe tbody tr th:only-of-type {\n        vertical-align: middle;\n    }\n\n    .dataframe tbody tr th {\n        vertical-align: top;\n    }\n\n    .dataframe thead th {\n        text-align: right;\n    }\n</style>\n<table border=\"1\" class=\"dataframe\">\n  <thead>\n    <tr style=\"text-align: right;\">\n      <th></th>\n      <th>Id</th>\n      <th>Title</th>\n      <th>authors</th>\n      <th>publisher</th>\n      <th>publishedDate</th>\n      <th>categories</th>\n      <th>Price</th>\n      <th>authors_count</th>\n      <th>categories_count</th>\n    </tr>\n  </thead>\n  <tbody>\n    <tr>\n      <th>7350</th>\n      <td>1557423873</td>\n      <td>Jimgrim and the Seventeen Thieves of El-Kalil</td>\n      <td>['Talbot Mundy']</td>\n      <td>Borgo Press</td>\n      <td>2005</td>\n      <td>['Fiction']</td>\n      <td>29.95</td>\n      <td>1</td>\n      <td>1</td>\n    </tr>\n    <tr>\n      <th>11995</th>\n      <td>1592249159</td>\n      <td>The Diamond Lens and Other Strange Tales</td>\n      <td>[\"Fitz James O'Brien\"]</td>\n      <td>Borgo Press</td>\n      <td>2002</td>\n      <td>['Fiction']</td>\n      <td>18.95</td>\n      <td>1</td>\n      <td>1</td>\n    </tr>\n    <tr>\n      <th>12697</th>\n      <td>0878771506</td>\n      <td>Lighten Up Your Body, Lighten Up Your Life</td>\n      <td>['Lucia Capacchione']</td>\n      <td>Borgo Press</td>\n      <td>1990</td>\n      <td>['Body, Mind &amp; Spirit']</td>\n      <td>12.95</td>\n      <td>1</td>\n      <td>1</td>\n    </tr>\n  </tbody>\n</table>\n</div>"
     },
     "execution_count": 358,
     "metadata": {},
     "output_type": "execute_result"
    }
   ],
   "source": [
    "# Para este caso, el autor, editorial y categoría no se corresponden con el registro real. Puede que existan más casos así, pero debido a que al final tenemos una relación uno a uno entre libros y autores no es tan significativo.\n",
    "df_books[df_books['publisher'] == 'Borgo Press']"
   ],
   "metadata": {
    "collapsed": false
   }
  },
  {
   "cell_type": "code",
   "execution_count": 359,
   "outputs": [
    {
     "data": {
      "text/plain": "                Id       Title  Price review/helpfulness  review/score  \\\n474817  1592248810  The Damned  13.95              25/26           5.0   \n474818  1592248810  The Damned  13.95                2/2           2.0   \n474819  1592248810  The Damned  13.95                2/2           3.0   \n474820  1592248810  The Damned  13.95                0/0           5.0   \n474821  1592248810  The Damned  13.95               8/14           3.0   \n474822  1592248810  The Damned  13.95                0/2           3.0   \n\n                                              review/text Id_Tipo  \n474817  Blackwood explores the concept that the afterl...    ISBN  \n474818  While the writing and suspense of this book ar...    ISBN  \n474819  This is a good story and well worth reading. B...    ISBN  \n474820  This book was very well written in the charact...    ISBN  \n474821  again AB creates the greatest setting. a house...    ISBN  \n474822  The writer tries very hard to be a world class...    ISBN  ",
      "text/html": "<div>\n<style scoped>\n    .dataframe tbody tr th:only-of-type {\n        vertical-align: middle;\n    }\n\n    .dataframe tbody tr th {\n        vertical-align: top;\n    }\n\n    .dataframe thead th {\n        text-align: right;\n    }\n</style>\n<table border=\"1\" class=\"dataframe\">\n  <thead>\n    <tr style=\"text-align: right;\">\n      <th></th>\n      <th>Id</th>\n      <th>Title</th>\n      <th>Price</th>\n      <th>review/helpfulness</th>\n      <th>review/score</th>\n      <th>review/text</th>\n      <th>Id_Tipo</th>\n    </tr>\n  </thead>\n  <tbody>\n    <tr>\n      <th>474817</th>\n      <td>1592248810</td>\n      <td>The Damned</td>\n      <td>13.95</td>\n      <td>25/26</td>\n      <td>5.0</td>\n      <td>Blackwood explores the concept that the afterl...</td>\n      <td>ISBN</td>\n    </tr>\n    <tr>\n      <th>474818</th>\n      <td>1592248810</td>\n      <td>The Damned</td>\n      <td>13.95</td>\n      <td>2/2</td>\n      <td>2.0</td>\n      <td>While the writing and suspense of this book ar...</td>\n      <td>ISBN</td>\n    </tr>\n    <tr>\n      <th>474819</th>\n      <td>1592248810</td>\n      <td>The Damned</td>\n      <td>13.95</td>\n      <td>2/2</td>\n      <td>3.0</td>\n      <td>This is a good story and well worth reading. B...</td>\n      <td>ISBN</td>\n    </tr>\n    <tr>\n      <th>474820</th>\n      <td>1592248810</td>\n      <td>The Damned</td>\n      <td>13.95</td>\n      <td>0/0</td>\n      <td>5.0</td>\n      <td>This book was very well written in the charact...</td>\n      <td>ISBN</td>\n    </tr>\n    <tr>\n      <th>474821</th>\n      <td>1592248810</td>\n      <td>The Damned</td>\n      <td>13.95</td>\n      <td>8/14</td>\n      <td>3.0</td>\n      <td>again AB creates the greatest setting. a house...</td>\n      <td>ISBN</td>\n    </tr>\n    <tr>\n      <th>474822</th>\n      <td>1592248810</td>\n      <td>The Damned</td>\n      <td>13.95</td>\n      <td>0/2</td>\n      <td>3.0</td>\n      <td>The writer tries very hard to be a world class...</td>\n      <td>ISBN</td>\n    </tr>\n  </tbody>\n</table>\n</div>"
     },
     "execution_count": 359,
     "metadata": {},
     "output_type": "execute_result"
    }
   ],
   "source": [
    "df_reviews[df_reviews['Id'] == '1592248810']"
   ],
   "metadata": {
    "collapsed": false
   }
  },
  {
   "cell_type": "code",
   "execution_count": 360,
   "outputs": [
    {
     "data": {
      "text/plain": "Empty DataFrame\nColumns: [Id, Title, authors, publisher, publishedDate, categories, Price, authors_count, categories_count]\nIndex: []",
      "text/html": "<div>\n<style scoped>\n    .dataframe tbody tr th:only-of-type {\n        vertical-align: middle;\n    }\n\n    .dataframe tbody tr th {\n        vertical-align: top;\n    }\n\n    .dataframe thead th {\n        text-align: right;\n    }\n</style>\n<table border=\"1\" class=\"dataframe\">\n  <thead>\n    <tr style=\"text-align: right;\">\n      <th></th>\n      <th>Id</th>\n      <th>Title</th>\n      <th>authors</th>\n      <th>publisher</th>\n      <th>publishedDate</th>\n      <th>categories</th>\n      <th>Price</th>\n      <th>authors_count</th>\n      <th>categories_count</th>\n    </tr>\n  </thead>\n  <tbody>\n  </tbody>\n</table>\n</div>"
     },
     "execution_count": 360,
     "metadata": {},
     "output_type": "execute_result"
    }
   ],
   "source": [
    "df_books[df_books['authors'] == 'Algernon Blackwood']"
   ],
   "metadata": {
    "collapsed": false
   }
  },
  {
   "cell_type": "code",
   "execution_count": 361,
   "outputs": [],
   "source": [
    "df_books.loc[df_books['Id'] == '1592248810', 'authors'] = 'Algernon Blackwood'\n",
    "df_books.loc[df_books['Id'] == '1592248810', 'categories'] = \"['Fiction']\"\n",
    "df_books.loc[df_books['Id'] == '1592248810', 'publisher'] = 'Borgo Press'\n",
    "df_books.loc[df_books['Id'] == '1592248810', 'publishedDate'] = 2002"
   ],
   "metadata": {
    "collapsed": false
   }
  },
  {
   "cell_type": "markdown",
   "source": [
    "### Unificación de los dataframes"
   ],
   "metadata": {
    "collapsed": false
   }
  },
  {
   "cell_type": "code",
   "execution_count": 362,
   "outputs": [
    {
     "name": "stdout",
     "output_type": "stream",
     "text": [
      "<class 'pandas.core.frame.DataFrame'>\n",
      "Index: 433205 entries, 0 to 481163\n",
      "Data columns (total 7 columns):\n",
      " #   Column              Non-Null Count   Dtype  \n",
      "---  ------              --------------   -----  \n",
      " 0   Id                  433205 non-null  object \n",
      " 1   Title               433205 non-null  object \n",
      " 2   Price               433205 non-null  float64\n",
      " 3   review/helpfulness  433205 non-null  object \n",
      " 4   review/score        433205 non-null  float64\n",
      " 5   review/text         433205 non-null  object \n",
      " 6   Id_Tipo             433205 non-null  object \n",
      "dtypes: float64(2), object(5)\n",
      "memory usage: 26.4+ MB\n"
     ]
    }
   ],
   "source": [
    "df_reviews_no_repetidos.info()"
   ],
   "metadata": {
    "collapsed": false
   }
  },
  {
   "cell_type": "code",
   "execution_count": 363,
   "outputs": [],
   "source": [
    "# Asignación del puntero de df_reviews_no_repetidos a df_reviews\n",
    "df_reviews = df_reviews_no_repetidos"
   ],
   "metadata": {
    "collapsed": false
   }
  },
  {
   "cell_type": "code",
   "execution_count": 364,
   "outputs": [
    {
     "name": "stdout",
     "output_type": "stream",
     "text": [
      "<class 'pandas.core.frame.DataFrame'>\n",
      "RangeIndex: 266870 entries, 0 to 266869\n",
      "Data columns (total 15 columns):\n",
      " #   Column              Non-Null Count   Dtype  \n",
      "---  ------              --------------   -----  \n",
      " 0   Id                  266870 non-null  object \n",
      " 1   Title_Review        266870 non-null  object \n",
      " 2   Price_Review        266870 non-null  float64\n",
      " 3   review/helpfulness  266870 non-null  object \n",
      " 4   review/score        266870 non-null  float64\n",
      " 5   review/text         266870 non-null  object \n",
      " 6   Id_Tipo             266870 non-null  object \n",
      " 7   Title_Book          266870 non-null  object \n",
      " 8   authors             266870 non-null  object \n",
      " 9   publisher           266870 non-null  object \n",
      " 10  publishedDate       266870 non-null  object \n",
      " 11  categories          266870 non-null  object \n",
      " 12  Price_Book          266870 non-null  float64\n",
      " 13  authors_count       266870 non-null  int64  \n",
      " 14  categories_count    266870 non-null  int64  \n",
      "dtypes: float64(3), int64(2), object(10)\n",
      "memory usage: 30.5+ MB\n"
     ]
    }
   ],
   "source": [
    "df = df_reviews.merge(df_books, on='Id', how='inner', suffixes=('_Review', '_Book'))\n",
    "df.info()"
   ],
   "metadata": {
    "collapsed": false
   }
  },
  {
   "cell_type": "markdown",
   "source": [
    "#### Diferencias entre los títulos y los precios de ambos dataframes"
   ],
   "metadata": {
    "collapsed": false
   }
  },
  {
   "cell_type": "code",
   "execution_count": 365,
   "outputs": [
    {
     "data": {
      "text/plain": "Empty DataFrame\nColumns: [Id, Title_Review, Price_Review, review/helpfulness, review/score, review/text, Id_Tipo, Title_Book, authors, publisher, publishedDate, categories, Price_Book, authors_count, categories_count]\nIndex: []",
      "text/html": "<div>\n<style scoped>\n    .dataframe tbody tr th:only-of-type {\n        vertical-align: middle;\n    }\n\n    .dataframe tbody tr th {\n        vertical-align: top;\n    }\n\n    .dataframe thead th {\n        text-align: right;\n    }\n</style>\n<table border=\"1\" class=\"dataframe\">\n  <thead>\n    <tr style=\"text-align: right;\">\n      <th></th>\n      <th>Id</th>\n      <th>Title_Review</th>\n      <th>Price_Review</th>\n      <th>review/helpfulness</th>\n      <th>review/score</th>\n      <th>review/text</th>\n      <th>Id_Tipo</th>\n      <th>Title_Book</th>\n      <th>authors</th>\n      <th>publisher</th>\n      <th>publishedDate</th>\n      <th>categories</th>\n      <th>Price_Book</th>\n      <th>authors_count</th>\n      <th>categories_count</th>\n    </tr>\n  </thead>\n  <tbody>\n  </tbody>\n</table>\n</div>"
     },
     "execution_count": 365,
     "metadata": {},
     "output_type": "execute_result"
    }
   ],
   "source": [
    "df[df['Title_Book']!= df['Title_Review']]"
   ],
   "metadata": {
    "collapsed": false
   }
  },
  {
   "cell_type": "markdown",
   "source": [
    "### Eliminación de columnas duplicadas"
   ],
   "metadata": {
    "collapsed": false
   }
  },
  {
   "cell_type": "code",
   "execution_count": 366,
   "outputs": [
    {
     "name": "stdout",
     "output_type": "stream",
     "text": [
      "<class 'pandas.core.frame.DataFrame'>\n",
      "RangeIndex: 266870 entries, 0 to 266869\n",
      "Data columns (total 13 columns):\n",
      " #   Column              Non-Null Count   Dtype  \n",
      "---  ------              --------------   -----  \n",
      " 0   Id                  266870 non-null  object \n",
      " 1   review/helpfulness  266870 non-null  object \n",
      " 2   review/score        266870 non-null  float64\n",
      " 3   review/text         266870 non-null  object \n",
      " 4   Id_Tipo             266870 non-null  object \n",
      " 5   Title               266870 non-null  object \n",
      " 6   authors             266870 non-null  object \n",
      " 7   publisher           266870 non-null  object \n",
      " 8   publishedDate       266870 non-null  object \n",
      " 9   categories          266870 non-null  object \n",
      " 10  Price               266870 non-null  float64\n",
      " 11  authors_count       266870 non-null  int64  \n",
      " 12  categories_count    266870 non-null  int64  \n",
      "dtypes: float64(2), int64(2), object(9)\n",
      "memory usage: 26.5+ MB\n"
     ]
    }
   ],
   "source": [
    "df = df.drop(columns=['Title_Review', 'Price_Review'])\n",
    "df.rename(columns={'Title_Book': 'Title', 'Price_Book': 'Price'}, inplace=True)\n",
    "df.info()"
   ],
   "metadata": {
    "collapsed": false
   }
  },
  {
   "cell_type": "code",
   "execution_count": 367,
   "outputs": [
    {
     "name": "stdout",
     "output_type": "stream",
     "text": [
      "<class 'pandas.core.frame.DataFrame'>\n",
      "RangeIndex: 266870 entries, 0 to 266869\n",
      "Data columns (total 12 columns):\n",
      " #   Column              Non-Null Count   Dtype  \n",
      "---  ------              --------------   -----  \n",
      " 0   Id                  266870 non-null  object \n",
      " 1   review/helpfulness  266870 non-null  object \n",
      " 2   review/score        266870 non-null  float64\n",
      " 3   review/text         266870 non-null  object \n",
      " 4   Title               266870 non-null  object \n",
      " 5   authors             266870 non-null  object \n",
      " 6   publisher           266870 non-null  object \n",
      " 7   publishedDate       266870 non-null  object \n",
      " 8   categories          266870 non-null  object \n",
      " 9   Price               266870 non-null  float64\n",
      " 10  authors_count       266870 non-null  int64  \n",
      " 11  categories_count    266870 non-null  int64  \n",
      "dtypes: float64(2), int64(2), object(8)\n",
      "memory usage: 24.4+ MB\n"
     ]
    }
   ],
   "source": [
    "df = df.drop(columns='Id_Tipo')\n",
    "df.info()"
   ],
   "metadata": {
    "collapsed": false
   }
  },
  {
   "cell_type": "code",
   "execution_count": 368,
   "outputs": [
    {
     "name": "stdout",
     "output_type": "stream",
     "text": [
      "<class 'pandas.core.frame.DataFrame'>\n",
      "RangeIndex: 24352 entries, 0 to 24351\n",
      "Data columns (total 3 columns):\n",
      " #   Column  Non-Null Count  Dtype \n",
      "---  ------  --------------  ----- \n",
      " 0   Id      24352 non-null  object\n",
      " 1   Title   24352 non-null  object\n",
      " 2   conteo  24352 non-null  int64 \n",
      "dtypes: int64(1), object(2)\n",
      "memory usage: 570.9+ KB\n"
     ]
    }
   ],
   "source": [
    "conteo_registros_repetidos = df.groupby(['Id', 'Title']).size().reset_index(name='conteo')\n",
    "conteo_registros_repetidos.info()"
   ],
   "metadata": {
    "collapsed": false
   }
  },
  {
   "cell_type": "code",
   "execution_count": 369,
   "outputs": [
    {
     "data": {
      "text/plain": "               Id                                              Title  conteo\n3906   0440224675                                           Hannibal    2793\n2348   0307280721                       Eldest (Inheritance, Book 2)    1643\n3854   0435126024                           Jane Eyre (New Windmill)    1523\n7908   069452607X                                      Good to Great    1060\n20927  1589269063  The Five Love Languages: The Secret to Love th...     988\n...           ...                                                ...     ...\n6489   0595339557                                  Translator's Kiss       1\n17458  141160055X          Fallen: Confessions of a Disbarred Lawyer       1\n17456  1410797139                      Kingdom of God: Our Best Hope       1\n17455  141079668X  The Cadet: The Adventures of a New World Pione...       1\n24351  9999275109          The Best Short Stories of Edgar Allan Poe       1\n\n[24352 rows x 3 columns]",
      "text/html": "<div>\n<style scoped>\n    .dataframe tbody tr th:only-of-type {\n        vertical-align: middle;\n    }\n\n    .dataframe tbody tr th {\n        vertical-align: top;\n    }\n\n    .dataframe thead th {\n        text-align: right;\n    }\n</style>\n<table border=\"1\" class=\"dataframe\">\n  <thead>\n    <tr style=\"text-align: right;\">\n      <th></th>\n      <th>Id</th>\n      <th>Title</th>\n      <th>conteo</th>\n    </tr>\n  </thead>\n  <tbody>\n    <tr>\n      <th>3906</th>\n      <td>0440224675</td>\n      <td>Hannibal</td>\n      <td>2793</td>\n    </tr>\n    <tr>\n      <th>2348</th>\n      <td>0307280721</td>\n      <td>Eldest (Inheritance, Book 2)</td>\n      <td>1643</td>\n    </tr>\n    <tr>\n      <th>3854</th>\n      <td>0435126024</td>\n      <td>Jane Eyre (New Windmill)</td>\n      <td>1523</td>\n    </tr>\n    <tr>\n      <th>7908</th>\n      <td>069452607X</td>\n      <td>Good to Great</td>\n      <td>1060</td>\n    </tr>\n    <tr>\n      <th>20927</th>\n      <td>1589269063</td>\n      <td>The Five Love Languages: The Secret to Love th...</td>\n      <td>988</td>\n    </tr>\n    <tr>\n      <th>...</th>\n      <td>...</td>\n      <td>...</td>\n      <td>...</td>\n    </tr>\n    <tr>\n      <th>6489</th>\n      <td>0595339557</td>\n      <td>Translator's Kiss</td>\n      <td>1</td>\n    </tr>\n    <tr>\n      <th>17458</th>\n      <td>141160055X</td>\n      <td>Fallen: Confessions of a Disbarred Lawyer</td>\n      <td>1</td>\n    </tr>\n    <tr>\n      <th>17456</th>\n      <td>1410797139</td>\n      <td>Kingdom of God: Our Best Hope</td>\n      <td>1</td>\n    </tr>\n    <tr>\n      <th>17455</th>\n      <td>141079668X</td>\n      <td>The Cadet: The Adventures of a New World Pione...</td>\n      <td>1</td>\n    </tr>\n    <tr>\n      <th>24351</th>\n      <td>9999275109</td>\n      <td>The Best Short Stories of Edgar Allan Poe</td>\n      <td>1</td>\n    </tr>\n  </tbody>\n</table>\n<p>24352 rows × 3 columns</p>\n</div>"
     },
     "execution_count": 369,
     "metadata": {},
     "output_type": "execute_result"
    }
   ],
   "source": [
    "conteo_registros_repetidos.sort_values(by='conteo', ascending=False)"
   ],
   "metadata": {
    "collapsed": false
   }
  },
  {
   "cell_type": "code",
   "execution_count": 370,
   "outputs": [
    {
     "name": "stdout",
     "output_type": "stream",
     "text": [
      "<class 'pandas.core.frame.DataFrame'>\n",
      "Index: 33754 entries, 3018 to 265204\n",
      "Data columns (total 13 columns):\n",
      " #   Column              Non-Null Count  Dtype  \n",
      "---  ------              --------------  -----  \n",
      " 0   Id                  33754 non-null  object \n",
      " 1   review/helpfulness  33754 non-null  object \n",
      " 2   review/score        33754 non-null  float64\n",
      " 3   review/text         33754 non-null  object \n",
      " 4   Title               33754 non-null  object \n",
      " 5   authors             33754 non-null  object \n",
      " 6   publisher           33754 non-null  object \n",
      " 7   publishedDate       33754 non-null  object \n",
      " 8   categories          33754 non-null  object \n",
      " 9   Price               33754 non-null  float64\n",
      " 10  authors_count       33754 non-null  int64  \n",
      " 11  categories_count    33754 non-null  int64  \n",
      " 12  conteo              33754 non-null  int64  \n",
      "dtypes: float64(2), int64(3), object(8)\n",
      "memory usage: 3.6+ MB\n"
     ]
    }
   ],
   "source": [
    "df_copia = df.merge(conteo_registros_repetidos, on=['Id', 'Title'], how='left')\n",
    "df_copia = df_copia[df_copia['conteo'] >= 300]\n",
    "\n",
    "df_copia.info()"
   ],
   "metadata": {
    "collapsed": false
   }
  },
  {
   "cell_type": "code",
   "execution_count": 371,
   "outputs": [
    {
     "data": {
      "text/plain": "               Id review/helpfulness  review/score  \\\n84965  0440224675                0/0           1.0   \n83465  0440224675                0/0           2.0   \n83457  0440224675                0/0           3.0   \n83458  0440224675                0/0           4.0   \n83459  0440224675                0/0           4.0   \n83460  0440224675                0/0           4.0   \n83461  0440224675                0/0           5.0   \n83462  0440224675                0/0           4.0   \n83463  0440224675                0/0           4.0   \n83464  0440224675                0/0           1.0   \n\n                                             review/text     Title  \\\n84965  I was really looking forward to this sequel; I...  Hannibal   \n83465  Although I enjoyed this read, I found myself r...  Hannibal   \n83457  I liked the book until the last 10 chapters. T...  Hannibal   \n83458  I really enjoyed this book overall; however, b...  Hannibal   \n83459  While I wasn't quite as intrigued as I was rea...  Hannibal   \n83460  It is true that the ending is a bit lacking, b...  Hannibal   \n83461  Those who dislike this book probably prefer th...  Hannibal   \n83462  I really enjoyed this book, although I do feel...  Hannibal   \n83463  ...it's something even better. Mr. Harris prov...  Hannibal   \n83464  I've looked forward to the &quot;Silence of th...  Hannibal   \n\n                 authors publisher publishedDate   categories  Price  \\\n84965  ['Thomas Harris']      Dell          2009  ['Fiction']   7.67   \n83465  ['Thomas Harris']      Dell          2009  ['Fiction']   7.67   \n83457  ['Thomas Harris']      Dell          2009  ['Fiction']   7.67   \n83458  ['Thomas Harris']      Dell          2009  ['Fiction']   7.67   \n83459  ['Thomas Harris']      Dell          2009  ['Fiction']   7.67   \n83460  ['Thomas Harris']      Dell          2009  ['Fiction']   7.67   \n83461  ['Thomas Harris']      Dell          2009  ['Fiction']   7.67   \n83462  ['Thomas Harris']      Dell          2009  ['Fiction']   7.67   \n83463  ['Thomas Harris']      Dell          2009  ['Fiction']   7.67   \n83464  ['Thomas Harris']      Dell          2009  ['Fiction']   7.67   \n\n       authors_count  categories_count  conteo  \n84965              1                 1    2793  \n83465              1                 1    2793  \n83457              1                 1    2793  \n83458              1                 1    2793  \n83459              1                 1    2793  \n83460              1                 1    2793  \n83461              1                 1    2793  \n83462              1                 1    2793  \n83463              1                 1    2793  \n83464              1                 1    2793  ",
      "text/html": "<div>\n<style scoped>\n    .dataframe tbody tr th:only-of-type {\n        vertical-align: middle;\n    }\n\n    .dataframe tbody tr th {\n        vertical-align: top;\n    }\n\n    .dataframe thead th {\n        text-align: right;\n    }\n</style>\n<table border=\"1\" class=\"dataframe\">\n  <thead>\n    <tr style=\"text-align: right;\">\n      <th></th>\n      <th>Id</th>\n      <th>review/helpfulness</th>\n      <th>review/score</th>\n      <th>review/text</th>\n      <th>Title</th>\n      <th>authors</th>\n      <th>publisher</th>\n      <th>publishedDate</th>\n      <th>categories</th>\n      <th>Price</th>\n      <th>authors_count</th>\n      <th>categories_count</th>\n      <th>conteo</th>\n    </tr>\n  </thead>\n  <tbody>\n    <tr>\n      <th>84965</th>\n      <td>0440224675</td>\n      <td>0/0</td>\n      <td>1.0</td>\n      <td>I was really looking forward to this sequel; I...</td>\n      <td>Hannibal</td>\n      <td>['Thomas Harris']</td>\n      <td>Dell</td>\n      <td>2009</td>\n      <td>['Fiction']</td>\n      <td>7.67</td>\n      <td>1</td>\n      <td>1</td>\n      <td>2793</td>\n    </tr>\n    <tr>\n      <th>83465</th>\n      <td>0440224675</td>\n      <td>0/0</td>\n      <td>2.0</td>\n      <td>Although I enjoyed this read, I found myself r...</td>\n      <td>Hannibal</td>\n      <td>['Thomas Harris']</td>\n      <td>Dell</td>\n      <td>2009</td>\n      <td>['Fiction']</td>\n      <td>7.67</td>\n      <td>1</td>\n      <td>1</td>\n      <td>2793</td>\n    </tr>\n    <tr>\n      <th>83457</th>\n      <td>0440224675</td>\n      <td>0/0</td>\n      <td>3.0</td>\n      <td>I liked the book until the last 10 chapters. T...</td>\n      <td>Hannibal</td>\n      <td>['Thomas Harris']</td>\n      <td>Dell</td>\n      <td>2009</td>\n      <td>['Fiction']</td>\n      <td>7.67</td>\n      <td>1</td>\n      <td>1</td>\n      <td>2793</td>\n    </tr>\n    <tr>\n      <th>83458</th>\n      <td>0440224675</td>\n      <td>0/0</td>\n      <td>4.0</td>\n      <td>I really enjoyed this book overall; however, b...</td>\n      <td>Hannibal</td>\n      <td>['Thomas Harris']</td>\n      <td>Dell</td>\n      <td>2009</td>\n      <td>['Fiction']</td>\n      <td>7.67</td>\n      <td>1</td>\n      <td>1</td>\n      <td>2793</td>\n    </tr>\n    <tr>\n      <th>83459</th>\n      <td>0440224675</td>\n      <td>0/0</td>\n      <td>4.0</td>\n      <td>While I wasn't quite as intrigued as I was rea...</td>\n      <td>Hannibal</td>\n      <td>['Thomas Harris']</td>\n      <td>Dell</td>\n      <td>2009</td>\n      <td>['Fiction']</td>\n      <td>7.67</td>\n      <td>1</td>\n      <td>1</td>\n      <td>2793</td>\n    </tr>\n    <tr>\n      <th>83460</th>\n      <td>0440224675</td>\n      <td>0/0</td>\n      <td>4.0</td>\n      <td>It is true that the ending is a bit lacking, b...</td>\n      <td>Hannibal</td>\n      <td>['Thomas Harris']</td>\n      <td>Dell</td>\n      <td>2009</td>\n      <td>['Fiction']</td>\n      <td>7.67</td>\n      <td>1</td>\n      <td>1</td>\n      <td>2793</td>\n    </tr>\n    <tr>\n      <th>83461</th>\n      <td>0440224675</td>\n      <td>0/0</td>\n      <td>5.0</td>\n      <td>Those who dislike this book probably prefer th...</td>\n      <td>Hannibal</td>\n      <td>['Thomas Harris']</td>\n      <td>Dell</td>\n      <td>2009</td>\n      <td>['Fiction']</td>\n      <td>7.67</td>\n      <td>1</td>\n      <td>1</td>\n      <td>2793</td>\n    </tr>\n    <tr>\n      <th>83462</th>\n      <td>0440224675</td>\n      <td>0/0</td>\n      <td>4.0</td>\n      <td>I really enjoyed this book, although I do feel...</td>\n      <td>Hannibal</td>\n      <td>['Thomas Harris']</td>\n      <td>Dell</td>\n      <td>2009</td>\n      <td>['Fiction']</td>\n      <td>7.67</td>\n      <td>1</td>\n      <td>1</td>\n      <td>2793</td>\n    </tr>\n    <tr>\n      <th>83463</th>\n      <td>0440224675</td>\n      <td>0/0</td>\n      <td>4.0</td>\n      <td>...it's something even better. Mr. Harris prov...</td>\n      <td>Hannibal</td>\n      <td>['Thomas Harris']</td>\n      <td>Dell</td>\n      <td>2009</td>\n      <td>['Fiction']</td>\n      <td>7.67</td>\n      <td>1</td>\n      <td>1</td>\n      <td>2793</td>\n    </tr>\n    <tr>\n      <th>83464</th>\n      <td>0440224675</td>\n      <td>0/0</td>\n      <td>1.0</td>\n      <td>I've looked forward to the &amp;quot;Silence of th...</td>\n      <td>Hannibal</td>\n      <td>['Thomas Harris']</td>\n      <td>Dell</td>\n      <td>2009</td>\n      <td>['Fiction']</td>\n      <td>7.67</td>\n      <td>1</td>\n      <td>1</td>\n      <td>2793</td>\n    </tr>\n  </tbody>\n</table>\n</div>"
     },
     "execution_count": 371,
     "metadata": {},
     "output_type": "execute_result"
    }
   ],
   "source": [
    "df_copia.sort_values(by='conteo', ascending=False).head(10)"
   ],
   "metadata": {
    "collapsed": false
   }
  },
  {
   "cell_type": "markdown",
   "source": [
    "### Almacenamiento intermedio del dataframe"
   ],
   "metadata": {
    "collapsed": false
   }
  },
  {
   "cell_type": "code",
   "execution_count": 372,
   "outputs": [],
   "source": [
    "df_copia.to_csv('data/dataframe_copia.csv', index=False)"
   ],
   "metadata": {
    "collapsed": false
   }
  },
  {
   "cell_type": "markdown",
   "source": [
    "### Carga del dataframe"
   ],
   "metadata": {
    "collapsed": false
   }
  },
  {
   "cell_type": "code",
   "execution_count": 373,
   "outputs": [],
   "source": [
    "df = pd.read_csv('data/dataframe_copia.csv')"
   ],
   "metadata": {
    "collapsed": false
   }
  },
  {
   "cell_type": "markdown",
   "source": [
    "## Etapa final de preprocesado"
   ],
   "metadata": {
    "collapsed": false
   }
  },
  {
   "cell_type": "markdown",
   "source": [
    "### Cambio de texto e reviews por el conteo de caracteres"
   ],
   "metadata": {
    "collapsed": false
   }
  },
  {
   "cell_type": "code",
   "execution_count": 374,
   "outputs": [],
   "source": [
    "def filtro_fila_review(row):\n",
    "    return len(str(row['review/text']).replace(' ', ''))\n",
    "\n",
    "df['review/text'] = df.apply(filtro_fila_review, axis=1)"
   ],
   "metadata": {
    "collapsed": false
   }
  },
  {
   "cell_type": "markdown",
   "source": [
    "### Se paración de valores de review/helpfulness en calificaciones de review positivas y totales"
   ],
   "metadata": {
    "collapsed": false
   }
  },
  {
   "cell_type": "code",
   "execution_count": 375,
   "outputs": [],
   "source": [
    "review_helpfulness = df['review/helpfulness'].apply(lambda x: x.split(\"/\"))\n",
    "review_helpfulness_up = review_helpfulness.apply(lambda x: x[0])\n",
    "review_helpfulness_total = review_helpfulness.apply(lambda x: x[1])"
   ],
   "metadata": {
    "collapsed": false
   }
  },
  {
   "cell_type": "code",
   "execution_count": 376,
   "outputs": [],
   "source": [
    "df['review_helpfulness_up'] = review_helpfulness_up\n",
    "df['review_helpfulness_total'] = review_helpfulness_total"
   ],
   "metadata": {
    "collapsed": false
   }
  },
  {
   "cell_type": "code",
   "execution_count": 377,
   "outputs": [
    {
     "data": {
      "text/plain": "               Id  review/score  review/text  \\\n0      0764229893           5.0          520   \n1      0764229893           5.0          408   \n2      0764229893           5.0          250   \n3      0764229893           5.0           81   \n4      0764229893           5.0          344   \n...           ...           ...          ...   \n33749  140004006X           5.0          118   \n33750  140004006X           5.0          907   \n33751  140004006X           5.0          100   \n33752  140004006X           5.0          164   \n33753  140004006X           5.0          949   \n\n                                                   Title              authors  \\\n0            Gods and Kings (Chronicles of the Kings #1)      ['Lynn Austin']   \n1            Gods and Kings (Chronicles of the Kings #1)      ['Lynn Austin']   \n2            Gods and Kings (Chronicles of the Kings #1)      ['Lynn Austin']   \n3            Gods and Kings (Chronicles of the Kings #1)      ['Lynn Austin']   \n4            Gods and Kings (Chronicles of the Kings #1)      ['Lynn Austin']   \n...                                                  ...                  ...   \n33749  1491: New Revelations of the Americas Before C...  ['Charles C. Mann']   \n33750  1491: New Revelations of the Americas Before C...  ['Charles C. Mann']   \n33751  1491: New Revelations of the Americas Before C...  ['Charles C. Mann']   \n33752  1491: New Revelations of the Americas Before C...  ['Charles C. Mann']   \n33753  1491: New Revelations of the Americas Before C...  ['Charles C. Mann']   \n\n                      publisher  publishedDate   categories  Price  \\\n0      Bethany House Publishers           2005  ['Fiction']  10.19   \n1      Bethany House Publishers           2005  ['Fiction']  10.19   \n2      Bethany House Publishers           2005  ['Fiction']  10.19   \n3      Bethany House Publishers           2005  ['Fiction']  10.19   \n4      Bethany House Publishers           2005  ['Fiction']  10.19   \n...                         ...            ...          ...    ...   \n33749           Nieuw Amsterdam           2013  ['History']  24.15   \n33750           Nieuw Amsterdam           2013  ['History']  24.15   \n33751           Nieuw Amsterdam           2013  ['History']  24.15   \n33752           Nieuw Amsterdam           2013  ['History']  24.15   \n33753           Nieuw Amsterdam           2013  ['History']  24.15   \n\n       authors_count  categories_count  conteo review_helpfulness_up  \\\n0                  1                 1     315                     0   \n1                  1                 1     315                     0   \n2                  1                 1     315                     0   \n3                  1                 1     315                     0   \n4                  1                 1     315                     0   \n...              ...               ...     ...                   ...   \n33749              1                 1     417                     0   \n33750              1                 1     417                     0   \n33751              1                 1     417                     0   \n33752              1                 1     417                     0   \n33753              1                 1     417                     0   \n\n      review_helpfulness_total  \n0                            0  \n1                            0  \n2                            0  \n3                            0  \n4                            0  \n...                        ...  \n33749                        0  \n33750                        0  \n33751                        0  \n33752                        0  \n33753                        0  \n\n[33754 rows x 14 columns]",
      "text/html": "<div>\n<style scoped>\n    .dataframe tbody tr th:only-of-type {\n        vertical-align: middle;\n    }\n\n    .dataframe tbody tr th {\n        vertical-align: top;\n    }\n\n    .dataframe thead th {\n        text-align: right;\n    }\n</style>\n<table border=\"1\" class=\"dataframe\">\n  <thead>\n    <tr style=\"text-align: right;\">\n      <th></th>\n      <th>Id</th>\n      <th>review/score</th>\n      <th>review/text</th>\n      <th>Title</th>\n      <th>authors</th>\n      <th>publisher</th>\n      <th>publishedDate</th>\n      <th>categories</th>\n      <th>Price</th>\n      <th>authors_count</th>\n      <th>categories_count</th>\n      <th>conteo</th>\n      <th>review_helpfulness_up</th>\n      <th>review_helpfulness_total</th>\n    </tr>\n  </thead>\n  <tbody>\n    <tr>\n      <th>0</th>\n      <td>0764229893</td>\n      <td>5.0</td>\n      <td>520</td>\n      <td>Gods and Kings (Chronicles of the Kings #1)</td>\n      <td>['Lynn Austin']</td>\n      <td>Bethany House Publishers</td>\n      <td>2005</td>\n      <td>['Fiction']</td>\n      <td>10.19</td>\n      <td>1</td>\n      <td>1</td>\n      <td>315</td>\n      <td>0</td>\n      <td>0</td>\n    </tr>\n    <tr>\n      <th>1</th>\n      <td>0764229893</td>\n      <td>5.0</td>\n      <td>408</td>\n      <td>Gods and Kings (Chronicles of the Kings #1)</td>\n      <td>['Lynn Austin']</td>\n      <td>Bethany House Publishers</td>\n      <td>2005</td>\n      <td>['Fiction']</td>\n      <td>10.19</td>\n      <td>1</td>\n      <td>1</td>\n      <td>315</td>\n      <td>0</td>\n      <td>0</td>\n    </tr>\n    <tr>\n      <th>2</th>\n      <td>0764229893</td>\n      <td>5.0</td>\n      <td>250</td>\n      <td>Gods and Kings (Chronicles of the Kings #1)</td>\n      <td>['Lynn Austin']</td>\n      <td>Bethany House Publishers</td>\n      <td>2005</td>\n      <td>['Fiction']</td>\n      <td>10.19</td>\n      <td>1</td>\n      <td>1</td>\n      <td>315</td>\n      <td>0</td>\n      <td>0</td>\n    </tr>\n    <tr>\n      <th>3</th>\n      <td>0764229893</td>\n      <td>5.0</td>\n      <td>81</td>\n      <td>Gods and Kings (Chronicles of the Kings #1)</td>\n      <td>['Lynn Austin']</td>\n      <td>Bethany House Publishers</td>\n      <td>2005</td>\n      <td>['Fiction']</td>\n      <td>10.19</td>\n      <td>1</td>\n      <td>1</td>\n      <td>315</td>\n      <td>0</td>\n      <td>0</td>\n    </tr>\n    <tr>\n      <th>4</th>\n      <td>0764229893</td>\n      <td>5.0</td>\n      <td>344</td>\n      <td>Gods and Kings (Chronicles of the Kings #1)</td>\n      <td>['Lynn Austin']</td>\n      <td>Bethany House Publishers</td>\n      <td>2005</td>\n      <td>['Fiction']</td>\n      <td>10.19</td>\n      <td>1</td>\n      <td>1</td>\n      <td>315</td>\n      <td>0</td>\n      <td>0</td>\n    </tr>\n    <tr>\n      <th>...</th>\n      <td>...</td>\n      <td>...</td>\n      <td>...</td>\n      <td>...</td>\n      <td>...</td>\n      <td>...</td>\n      <td>...</td>\n      <td>...</td>\n      <td>...</td>\n      <td>...</td>\n      <td>...</td>\n      <td>...</td>\n      <td>...</td>\n      <td>...</td>\n    </tr>\n    <tr>\n      <th>33749</th>\n      <td>140004006X</td>\n      <td>5.0</td>\n      <td>118</td>\n      <td>1491: New Revelations of the Americas Before C...</td>\n      <td>['Charles C. Mann']</td>\n      <td>Nieuw Amsterdam</td>\n      <td>2013</td>\n      <td>['History']</td>\n      <td>24.15</td>\n      <td>1</td>\n      <td>1</td>\n      <td>417</td>\n      <td>0</td>\n      <td>0</td>\n    </tr>\n    <tr>\n      <th>33750</th>\n      <td>140004006X</td>\n      <td>5.0</td>\n      <td>907</td>\n      <td>1491: New Revelations of the Americas Before C...</td>\n      <td>['Charles C. Mann']</td>\n      <td>Nieuw Amsterdam</td>\n      <td>2013</td>\n      <td>['History']</td>\n      <td>24.15</td>\n      <td>1</td>\n      <td>1</td>\n      <td>417</td>\n      <td>0</td>\n      <td>0</td>\n    </tr>\n    <tr>\n      <th>33751</th>\n      <td>140004006X</td>\n      <td>5.0</td>\n      <td>100</td>\n      <td>1491: New Revelations of the Americas Before C...</td>\n      <td>['Charles C. Mann']</td>\n      <td>Nieuw Amsterdam</td>\n      <td>2013</td>\n      <td>['History']</td>\n      <td>24.15</td>\n      <td>1</td>\n      <td>1</td>\n      <td>417</td>\n      <td>0</td>\n      <td>0</td>\n    </tr>\n    <tr>\n      <th>33752</th>\n      <td>140004006X</td>\n      <td>5.0</td>\n      <td>164</td>\n      <td>1491: New Revelations of the Americas Before C...</td>\n      <td>['Charles C. Mann']</td>\n      <td>Nieuw Amsterdam</td>\n      <td>2013</td>\n      <td>['History']</td>\n      <td>24.15</td>\n      <td>1</td>\n      <td>1</td>\n      <td>417</td>\n      <td>0</td>\n      <td>0</td>\n    </tr>\n    <tr>\n      <th>33753</th>\n      <td>140004006X</td>\n      <td>5.0</td>\n      <td>949</td>\n      <td>1491: New Revelations of the Americas Before C...</td>\n      <td>['Charles C. Mann']</td>\n      <td>Nieuw Amsterdam</td>\n      <td>2013</td>\n      <td>['History']</td>\n      <td>24.15</td>\n      <td>1</td>\n      <td>1</td>\n      <td>417</td>\n      <td>0</td>\n      <td>0</td>\n    </tr>\n  </tbody>\n</table>\n<p>33754 rows × 14 columns</p>\n</div>"
     },
     "execution_count": 377,
     "metadata": {},
     "output_type": "execute_result"
    }
   ],
   "source": [
    "df = df.drop(columns='review/helpfulness')\n",
    "df"
   ],
   "metadata": {
    "collapsed": false
   }
  },
  {
   "cell_type": "markdown",
   "source": [
    "### Eliminación de formato de lista de categorias y autores"
   ],
   "metadata": {
    "collapsed": false
   }
  },
  {
   "cell_type": "code",
   "execution_count": 378,
   "outputs": [
    {
     "data": {
      "text/plain": "           Id  review/score  review/text  \\\n0  0764229893           5.0          520   \n1  0764229893           5.0          408   \n2  0764229893           5.0          250   \n3  0764229893           5.0           81   \n4  0764229893           5.0          344   \n5  0764229893           5.0          385   \n6  0764229893           5.0          109   \n7  0764229893           4.0         1469   \n8  0764229893           5.0          126   \n9  0764229893           5.0          470   \n\n                                         Title      authors  \\\n0  Gods and Kings (Chronicles of the Kings #1)  Lynn Austin   \n1  Gods and Kings (Chronicles of the Kings #1)  Lynn Austin   \n2  Gods and Kings (Chronicles of the Kings #1)  Lynn Austin   \n3  Gods and Kings (Chronicles of the Kings #1)  Lynn Austin   \n4  Gods and Kings (Chronicles of the Kings #1)  Lynn Austin   \n5  Gods and Kings (Chronicles of the Kings #1)  Lynn Austin   \n6  Gods and Kings (Chronicles of the Kings #1)  Lynn Austin   \n7  Gods and Kings (Chronicles of the Kings #1)  Lynn Austin   \n8  Gods and Kings (Chronicles of the Kings #1)  Lynn Austin   \n9  Gods and Kings (Chronicles of the Kings #1)  Lynn Austin   \n\n                  publisher  publishedDate categories  Price  authors_count  \\\n0  Bethany House Publishers           2005    Fiction  10.19              1   \n1  Bethany House Publishers           2005    Fiction  10.19              1   \n2  Bethany House Publishers           2005    Fiction  10.19              1   \n3  Bethany House Publishers           2005    Fiction  10.19              1   \n4  Bethany House Publishers           2005    Fiction  10.19              1   \n5  Bethany House Publishers           2005    Fiction  10.19              1   \n6  Bethany House Publishers           2005    Fiction  10.19              1   \n7  Bethany House Publishers           2005    Fiction  10.19              1   \n8  Bethany House Publishers           2005    Fiction  10.19              1   \n9  Bethany House Publishers           2005    Fiction  10.19              1   \n\n   categories_count  conteo review_helpfulness_up review_helpfulness_total  \n0                 1     315                     0                        0  \n1                 1     315                     0                        0  \n2                 1     315                     0                        0  \n3                 1     315                     0                        0  \n4                 1     315                     0                        0  \n5                 1     315                     0                        0  \n6                 1     315                     0                        0  \n7                 1     315                     0                        0  \n8                 1     315                     0                        0  \n9                 1     315                     0                        0  ",
      "text/html": "<div>\n<style scoped>\n    .dataframe tbody tr th:only-of-type {\n        vertical-align: middle;\n    }\n\n    .dataframe tbody tr th {\n        vertical-align: top;\n    }\n\n    .dataframe thead th {\n        text-align: right;\n    }\n</style>\n<table border=\"1\" class=\"dataframe\">\n  <thead>\n    <tr style=\"text-align: right;\">\n      <th></th>\n      <th>Id</th>\n      <th>review/score</th>\n      <th>review/text</th>\n      <th>Title</th>\n      <th>authors</th>\n      <th>publisher</th>\n      <th>publishedDate</th>\n      <th>categories</th>\n      <th>Price</th>\n      <th>authors_count</th>\n      <th>categories_count</th>\n      <th>conteo</th>\n      <th>review_helpfulness_up</th>\n      <th>review_helpfulness_total</th>\n    </tr>\n  </thead>\n  <tbody>\n    <tr>\n      <th>0</th>\n      <td>0764229893</td>\n      <td>5.0</td>\n      <td>520</td>\n      <td>Gods and Kings (Chronicles of the Kings #1)</td>\n      <td>Lynn Austin</td>\n      <td>Bethany House Publishers</td>\n      <td>2005</td>\n      <td>Fiction</td>\n      <td>10.19</td>\n      <td>1</td>\n      <td>1</td>\n      <td>315</td>\n      <td>0</td>\n      <td>0</td>\n    </tr>\n    <tr>\n      <th>1</th>\n      <td>0764229893</td>\n      <td>5.0</td>\n      <td>408</td>\n      <td>Gods and Kings (Chronicles of the Kings #1)</td>\n      <td>Lynn Austin</td>\n      <td>Bethany House Publishers</td>\n      <td>2005</td>\n      <td>Fiction</td>\n      <td>10.19</td>\n      <td>1</td>\n      <td>1</td>\n      <td>315</td>\n      <td>0</td>\n      <td>0</td>\n    </tr>\n    <tr>\n      <th>2</th>\n      <td>0764229893</td>\n      <td>5.0</td>\n      <td>250</td>\n      <td>Gods and Kings (Chronicles of the Kings #1)</td>\n      <td>Lynn Austin</td>\n      <td>Bethany House Publishers</td>\n      <td>2005</td>\n      <td>Fiction</td>\n      <td>10.19</td>\n      <td>1</td>\n      <td>1</td>\n      <td>315</td>\n      <td>0</td>\n      <td>0</td>\n    </tr>\n    <tr>\n      <th>3</th>\n      <td>0764229893</td>\n      <td>5.0</td>\n      <td>81</td>\n      <td>Gods and Kings (Chronicles of the Kings #1)</td>\n      <td>Lynn Austin</td>\n      <td>Bethany House Publishers</td>\n      <td>2005</td>\n      <td>Fiction</td>\n      <td>10.19</td>\n      <td>1</td>\n      <td>1</td>\n      <td>315</td>\n      <td>0</td>\n      <td>0</td>\n    </tr>\n    <tr>\n      <th>4</th>\n      <td>0764229893</td>\n      <td>5.0</td>\n      <td>344</td>\n      <td>Gods and Kings (Chronicles of the Kings #1)</td>\n      <td>Lynn Austin</td>\n      <td>Bethany House Publishers</td>\n      <td>2005</td>\n      <td>Fiction</td>\n      <td>10.19</td>\n      <td>1</td>\n      <td>1</td>\n      <td>315</td>\n      <td>0</td>\n      <td>0</td>\n    </tr>\n    <tr>\n      <th>5</th>\n      <td>0764229893</td>\n      <td>5.0</td>\n      <td>385</td>\n      <td>Gods and Kings (Chronicles of the Kings #1)</td>\n      <td>Lynn Austin</td>\n      <td>Bethany House Publishers</td>\n      <td>2005</td>\n      <td>Fiction</td>\n      <td>10.19</td>\n      <td>1</td>\n      <td>1</td>\n      <td>315</td>\n      <td>0</td>\n      <td>0</td>\n    </tr>\n    <tr>\n      <th>6</th>\n      <td>0764229893</td>\n      <td>5.0</td>\n      <td>109</td>\n      <td>Gods and Kings (Chronicles of the Kings #1)</td>\n      <td>Lynn Austin</td>\n      <td>Bethany House Publishers</td>\n      <td>2005</td>\n      <td>Fiction</td>\n      <td>10.19</td>\n      <td>1</td>\n      <td>1</td>\n      <td>315</td>\n      <td>0</td>\n      <td>0</td>\n    </tr>\n    <tr>\n      <th>7</th>\n      <td>0764229893</td>\n      <td>4.0</td>\n      <td>1469</td>\n      <td>Gods and Kings (Chronicles of the Kings #1)</td>\n      <td>Lynn Austin</td>\n      <td>Bethany House Publishers</td>\n      <td>2005</td>\n      <td>Fiction</td>\n      <td>10.19</td>\n      <td>1</td>\n      <td>1</td>\n      <td>315</td>\n      <td>0</td>\n      <td>0</td>\n    </tr>\n    <tr>\n      <th>8</th>\n      <td>0764229893</td>\n      <td>5.0</td>\n      <td>126</td>\n      <td>Gods and Kings (Chronicles of the Kings #1)</td>\n      <td>Lynn Austin</td>\n      <td>Bethany House Publishers</td>\n      <td>2005</td>\n      <td>Fiction</td>\n      <td>10.19</td>\n      <td>1</td>\n      <td>1</td>\n      <td>315</td>\n      <td>0</td>\n      <td>0</td>\n    </tr>\n    <tr>\n      <th>9</th>\n      <td>0764229893</td>\n      <td>5.0</td>\n      <td>470</td>\n      <td>Gods and Kings (Chronicles of the Kings #1)</td>\n      <td>Lynn Austin</td>\n      <td>Bethany House Publishers</td>\n      <td>2005</td>\n      <td>Fiction</td>\n      <td>10.19</td>\n      <td>1</td>\n      <td>1</td>\n      <td>315</td>\n      <td>0</td>\n      <td>0</td>\n    </tr>\n  </tbody>\n</table>\n</div>"
     },
     "execution_count": 378,
     "metadata": {},
     "output_type": "execute_result"
    }
   ],
   "source": [
    "df['authors'] = df['authors'].apply(lambda author: re.sub(r\"[\\([{})'\\]]\", '', author))\n",
    "df['categories'] = df['categories'].apply(lambda cat: re.sub(r\"[\\([{})'\\]]\", '', cat))\n",
    "\n",
    "df.head(10)"
   ],
   "metadata": {
    "collapsed": false
   }
  },
  {
   "cell_type": "markdown",
   "source": [
    "### Unificación de formatos de fecha"
   ],
   "metadata": {
    "collapsed": false
   }
  },
  {
   "cell_type": "code",
   "execution_count": 379,
   "outputs": [
    {
     "ename": "AttributeError",
     "evalue": "Can only use .str accessor with string values!",
     "output_type": "error",
     "traceback": [
      "\u001B[1;31m---------------------------------------------------------------------------\u001B[0m",
      "\u001B[1;31mAttributeError\u001B[0m                            Traceback (most recent call last)",
      "Cell \u001B[1;32mIn[379], line 1\u001B[0m\n\u001B[1;32m----> 1\u001B[0m df[\u001B[38;5;124m'\u001B[39m\u001B[38;5;124mpublishedDate\u001B[39m\u001B[38;5;124m'\u001B[39m] \u001B[38;5;241m=\u001B[39m \u001B[43mdf\u001B[49m\u001B[43m[\u001B[49m\u001B[38;5;124;43m'\u001B[39;49m\u001B[38;5;124;43mpublishedDate\u001B[39;49m\u001B[38;5;124;43m'\u001B[39;49m\u001B[43m]\u001B[49m\u001B[38;5;241;43m.\u001B[39;49m\u001B[43mstr\u001B[49m\u001B[38;5;241m.\u001B[39mextract(\u001B[38;5;124mr\u001B[39m\u001B[38;5;124m'\u001B[39m\u001B[38;5;124m(\u001B[39m\u001B[38;5;124m\\\u001B[39m\u001B[38;5;124md\u001B[39m\u001B[38;5;132;01m{4}\u001B[39;00m\u001B[38;5;124m)\u001B[39m\u001B[38;5;124m'\u001B[39m, expand\u001B[38;5;241m=\u001B[39m\u001B[38;5;28;01mFalse\u001B[39;00m)\n\u001B[0;32m      2\u001B[0m df\u001B[38;5;241m.\u001B[39mhead(\u001B[38;5;241m10\u001B[39m)\n",
      "File \u001B[1;32mD:\\Repo ciencias de datos\\venv\\Lib\\site-packages\\pandas\\core\\generic.py:6204\u001B[0m, in \u001B[0;36mNDFrame.__getattr__\u001B[1;34m(self, name)\u001B[0m\n\u001B[0;32m   6197\u001B[0m \u001B[38;5;28;01mif\u001B[39;00m (\n\u001B[0;32m   6198\u001B[0m     name \u001B[38;5;129;01mnot\u001B[39;00m \u001B[38;5;129;01min\u001B[39;00m \u001B[38;5;28mself\u001B[39m\u001B[38;5;241m.\u001B[39m_internal_names_set\n\u001B[0;32m   6199\u001B[0m     \u001B[38;5;129;01mand\u001B[39;00m name \u001B[38;5;129;01mnot\u001B[39;00m \u001B[38;5;129;01min\u001B[39;00m \u001B[38;5;28mself\u001B[39m\u001B[38;5;241m.\u001B[39m_metadata\n\u001B[0;32m   6200\u001B[0m     \u001B[38;5;129;01mand\u001B[39;00m name \u001B[38;5;129;01mnot\u001B[39;00m \u001B[38;5;129;01min\u001B[39;00m \u001B[38;5;28mself\u001B[39m\u001B[38;5;241m.\u001B[39m_accessors\n\u001B[0;32m   6201\u001B[0m     \u001B[38;5;129;01mand\u001B[39;00m \u001B[38;5;28mself\u001B[39m\u001B[38;5;241m.\u001B[39m_info_axis\u001B[38;5;241m.\u001B[39m_can_hold_identifiers_and_holds_name(name)\n\u001B[0;32m   6202\u001B[0m ):\n\u001B[0;32m   6203\u001B[0m     \u001B[38;5;28;01mreturn\u001B[39;00m \u001B[38;5;28mself\u001B[39m[name]\n\u001B[1;32m-> 6204\u001B[0m \u001B[38;5;28;01mreturn\u001B[39;00m \u001B[38;5;28;43mobject\u001B[39;49m\u001B[38;5;241;43m.\u001B[39;49m\u001B[38;5;21;43m__getattribute__\u001B[39;49m\u001B[43m(\u001B[49m\u001B[38;5;28;43mself\u001B[39;49m\u001B[43m,\u001B[49m\u001B[43m \u001B[49m\u001B[43mname\u001B[49m\u001B[43m)\u001B[49m\n",
      "File \u001B[1;32mD:\\Repo ciencias de datos\\venv\\Lib\\site-packages\\pandas\\core\\accessor.py:224\u001B[0m, in \u001B[0;36mCachedAccessor.__get__\u001B[1;34m(self, obj, cls)\u001B[0m\n\u001B[0;32m    221\u001B[0m \u001B[38;5;28;01mif\u001B[39;00m obj \u001B[38;5;129;01mis\u001B[39;00m \u001B[38;5;28;01mNone\u001B[39;00m:\n\u001B[0;32m    222\u001B[0m     \u001B[38;5;66;03m# we're accessing the attribute of the class, i.e., Dataset.geo\u001B[39;00m\n\u001B[0;32m    223\u001B[0m     \u001B[38;5;28;01mreturn\u001B[39;00m \u001B[38;5;28mself\u001B[39m\u001B[38;5;241m.\u001B[39m_accessor\n\u001B[1;32m--> 224\u001B[0m accessor_obj \u001B[38;5;241m=\u001B[39m \u001B[38;5;28;43mself\u001B[39;49m\u001B[38;5;241;43m.\u001B[39;49m\u001B[43m_accessor\u001B[49m\u001B[43m(\u001B[49m\u001B[43mobj\u001B[49m\u001B[43m)\u001B[49m\n\u001B[0;32m    225\u001B[0m \u001B[38;5;66;03m# Replace the property with the accessor object. Inspired by:\u001B[39;00m\n\u001B[0;32m    226\u001B[0m \u001B[38;5;66;03m# https://www.pydanny.com/cached-property.html\u001B[39;00m\n\u001B[0;32m    227\u001B[0m \u001B[38;5;66;03m# We need to use object.__setattr__ because we overwrite __setattr__ on\u001B[39;00m\n\u001B[0;32m    228\u001B[0m \u001B[38;5;66;03m# NDFrame\u001B[39;00m\n\u001B[0;32m    229\u001B[0m \u001B[38;5;28mobject\u001B[39m\u001B[38;5;241m.\u001B[39m\u001B[38;5;21m__setattr__\u001B[39m(obj, \u001B[38;5;28mself\u001B[39m\u001B[38;5;241m.\u001B[39m_name, accessor_obj)\n",
      "File \u001B[1;32mD:\\Repo ciencias de datos\\venv\\Lib\\site-packages\\pandas\\core\\strings\\accessor.py:190\u001B[0m, in \u001B[0;36mStringMethods.__init__\u001B[1;34m(self, data)\u001B[0m\n\u001B[0;32m    187\u001B[0m \u001B[38;5;28;01mdef\u001B[39;00m \u001B[38;5;21m__init__\u001B[39m(\u001B[38;5;28mself\u001B[39m, data) \u001B[38;5;241m-\u001B[39m\u001B[38;5;241m>\u001B[39m \u001B[38;5;28;01mNone\u001B[39;00m:\n\u001B[0;32m    188\u001B[0m     \u001B[38;5;28;01mfrom\u001B[39;00m \u001B[38;5;21;01mpandas\u001B[39;00m\u001B[38;5;21;01m.\u001B[39;00m\u001B[38;5;21;01mcore\u001B[39;00m\u001B[38;5;21;01m.\u001B[39;00m\u001B[38;5;21;01marrays\u001B[39;00m\u001B[38;5;21;01m.\u001B[39;00m\u001B[38;5;21;01mstring_\u001B[39;00m \u001B[38;5;28;01mimport\u001B[39;00m StringDtype\n\u001B[1;32m--> 190\u001B[0m     \u001B[38;5;28mself\u001B[39m\u001B[38;5;241m.\u001B[39m_inferred_dtype \u001B[38;5;241m=\u001B[39m \u001B[38;5;28;43mself\u001B[39;49m\u001B[38;5;241;43m.\u001B[39;49m\u001B[43m_validate\u001B[49m\u001B[43m(\u001B[49m\u001B[43mdata\u001B[49m\u001B[43m)\u001B[49m\n\u001B[0;32m    191\u001B[0m     \u001B[38;5;28mself\u001B[39m\u001B[38;5;241m.\u001B[39m_is_categorical \u001B[38;5;241m=\u001B[39m \u001B[38;5;28misinstance\u001B[39m(data\u001B[38;5;241m.\u001B[39mdtype, CategoricalDtype)\n\u001B[0;32m    192\u001B[0m     \u001B[38;5;28mself\u001B[39m\u001B[38;5;241m.\u001B[39m_is_string \u001B[38;5;241m=\u001B[39m \u001B[38;5;28misinstance\u001B[39m(data\u001B[38;5;241m.\u001B[39mdtype, StringDtype)\n",
      "File \u001B[1;32mD:\\Repo ciencias de datos\\venv\\Lib\\site-packages\\pandas\\core\\strings\\accessor.py:244\u001B[0m, in \u001B[0;36mStringMethods._validate\u001B[1;34m(data)\u001B[0m\n\u001B[0;32m    241\u001B[0m inferred_dtype \u001B[38;5;241m=\u001B[39m lib\u001B[38;5;241m.\u001B[39minfer_dtype(values, skipna\u001B[38;5;241m=\u001B[39m\u001B[38;5;28;01mTrue\u001B[39;00m)\n\u001B[0;32m    243\u001B[0m \u001B[38;5;28;01mif\u001B[39;00m inferred_dtype \u001B[38;5;129;01mnot\u001B[39;00m \u001B[38;5;129;01min\u001B[39;00m allowed_types:\n\u001B[1;32m--> 244\u001B[0m     \u001B[38;5;28;01mraise\u001B[39;00m \u001B[38;5;167;01mAttributeError\u001B[39;00m(\u001B[38;5;124m\"\u001B[39m\u001B[38;5;124mCan only use .str accessor with string values!\u001B[39m\u001B[38;5;124m\"\u001B[39m)\n\u001B[0;32m    245\u001B[0m \u001B[38;5;28;01mreturn\u001B[39;00m inferred_dtype\n",
      "\u001B[1;31mAttributeError\u001B[0m: Can only use .str accessor with string values!"
     ]
    }
   ],
   "source": [
    "df['publishedDate'] = df['publishedDate'].str.extract(r'(\\d{4})', expand=False)\n",
    "df.head(10)"
   ],
   "metadata": {
    "collapsed": false
   }
  },
  {
   "cell_type": "code",
   "execution_count": null,
   "outputs": [],
   "source": [
    "df.tail(10)"
   ],
   "metadata": {
    "collapsed": false
   }
  },
  {
   "cell_type": "code",
   "execution_count": null,
   "outputs": [],
   "source": [
    "formatos_fecha_df = pd.DataFrame()\n",
    "\n",
    "# Contar registros con formato AAAA-MM-dd\n",
    "formatos_fecha_df['AAAA-MM-dd'] = df['publishedDate'].str.count(r'\\d{4}-\\d{2}-\\d{2}')\n",
    "\n",
    "# Contar registros con formato AAAA-MM\n",
    "formatos_fecha_df['AAAA-MM'] = df['publishedDate'].str.count(r'\\d{4}-\\d{2}(?=-|$)')\n",
    "\n",
    "# Contar registros con formato AAAA\n",
    "formatos_fecha_df['AAAA'] = df['publishedDate'].str.count(r'\\d{4}(?=-|$)')\n",
    "conteo_formatos_df = formatos_fecha_df.sum()\n",
    "conteo_formatos_df"
   ],
   "metadata": {
    "collapsed": false
   }
  },
  {
   "cell_type": "markdown",
   "source": [
    "### Eliminación de columnas author_count y categories_count\n",
    "La columna count se deja porque la cantidad de reviews para un determinado libro puede ser útil para el análisis"
   ],
   "metadata": {
    "collapsed": false
   }
  },
  {
   "cell_type": "code",
   "execution_count": null,
   "outputs": [],
   "source": [
    "df = df.drop(columns=['authors_count', 'categories_count'])\n",
    "df.head(10)"
   ],
   "metadata": {
    "collapsed": false
   }
  },
  {
   "cell_type": "markdown",
   "source": [
    "### Guardado parcial de la última etapa de preprocesamiento"
   ],
   "metadata": {
    "collapsed": false
   }
  },
  {
   "cell_type": "code",
   "execution_count": null,
   "outputs": [],
   "source": [
    "df.to_csv('data/dataframe_copia_2.csv', index=False)"
   ],
   "metadata": {
    "collapsed": false
   }
  },
  {
   "cell_type": "markdown",
   "source": [
    "### Carga del dataframe con preprocecamiento parcial"
   ],
   "metadata": {
    "collapsed": false
   }
  },
  {
   "cell_type": "code",
   "execution_count": null,
   "outputs": [],
   "source": [
    "df = pd.read_csv('data/dataframe_copia_2.csv')\n",
    "df.head(10)"
   ],
   "metadata": {
    "collapsed": false
   }
  },
  {
   "cell_type": "markdown",
   "source": [
    "### Conteo de autores, categorias y editoriales"
   ],
   "metadata": {
    "collapsed": false
   }
  },
  {
   "cell_type": "code",
   "execution_count": null,
   "outputs": [],
   "source": [
    "conteo_autores = df['authors'].value_counts()\n",
    "\n",
    "# Obtener los diferentes valores y sus conteos para 'categories'\n",
    "conteo_categorias = df['categories'].value_counts()\n",
    "\n",
    "# Obtener los diferentes valores y sus conteos para 'publisher'\n",
    "conteo_editoriales = df['publisher'].value_counts()\n",
    "\n",
    "conteo_titulos = df['Title'].value_counts()"
   ],
   "metadata": {
    "collapsed": false
   }
  },
  {
   "cell_type": "code",
   "execution_count": null,
   "outputs": [],
   "source": [
    "conteo_editoriales"
   ],
   "metadata": {
    "collapsed": false
   }
  },
  {
   "cell_type": "code",
   "execution_count": null,
   "outputs": [],
   "source": [
    "conteo_categorias"
   ],
   "metadata": {
    "collapsed": false
   }
  },
  {
   "cell_type": "code",
   "execution_count": null,
   "outputs": [],
   "source": [
    "conteo_autores"
   ],
   "metadata": {
    "collapsed": false
   }
  },
  {
   "cell_type": "code",
   "execution_count": null,
   "outputs": [],
   "source": [
    "conteo_titulos"
   ],
   "metadata": {
    "collapsed": false
   }
  },
  {
   "cell_type": "markdown",
   "source": [
    "## Análisis de correlación\n",
    "### Codificación de variables categóricas"
   ],
   "metadata": {
    "collapsed": false
   }
  },
  {
   "cell_type": "markdown",
   "source": [
    "### Codificación ordinal normalizada"
   ],
   "metadata": {
    "collapsed": false
   }
  },
  {
   "cell_type": "code",
   "execution_count": null,
   "outputs": [],
   "source": [
    "from sklearn.preprocessing import MinMaxScaler\n",
    "columnas_codificar = ['authors', 'publisher', 'categories', 'Title']\n",
    "\n",
    "df_cod_num = df.copy()\n",
    "\n",
    "#Se asigna un valor numérico entero positivo a cada valor de las variables categóricas en columnas_codificar para reemplazar el valor textual (nombre de la categoría)\n",
    "for columna in columnas_codificar:\n",
    "    df_cod_num[columna] = df_cod_num[columna].astype('category')\n",
    "    df_cod_num[columna] = df_cod_num[columna].cat.codes\n",
    "\n",
    "#Se normalizan los valores de cada columna para que en lugar de variar de 1 a n (donde n es la cantidad de posibles valores en una columna categórica) la variación sea entre 0 y 1\n",
    "#y así poder evitar que los valores numéricos grandes tengran un mayor impacto en la función de decisión.\n",
    "scaler = MinMaxScaler()\n",
    "\n",
    "# Aplica la normalización Min-Max a las columnas codificadas\n",
    "df_cod_num[columnas_codificar] = scaler.fit_transform(df_cod_num[columnas_codificar])\n",
    "df_cod_num = df_cod_num.drop(columns=['Id'])\n",
    "df_cod_num.head(10)"
   ],
   "metadata": {
    "collapsed": false
   }
  },
  {
   "cell_type": "markdown",
   "source": [
    "### Codificación one-hot"
   ],
   "metadata": {
    "collapsed": false
   }
  },
  {
   "cell_type": "code",
   "execution_count": null,
   "outputs": [],
   "source": [
    "df_one_hot = df.copy()\n",
    "\n",
    "df_one_hot = pd.get_dummies(df_one_hot, columns=columnas_codificar)\n",
    "df_one_hot = df_one_hot.drop(columns=['Id'])\n",
    "df_one_hot.head()"
   ],
   "metadata": {
    "collapsed": false
   }
  },
  {
   "cell_type": "markdown",
   "source": [
    "### Análisis de correlación respecto a la puntuación de la reseña (review/score)"
   ],
   "metadata": {
    "collapsed": false
   }
  },
  {
   "cell_type": "markdown",
   "source": [
    "#### A partir de codificación ordinal normalizada"
   ],
   "metadata": {
    "collapsed": false
   }
  },
  {
   "cell_type": "code",
   "execution_count": null,
   "outputs": [],
   "source": [
    "correlacion_score_ord =df_cod_num.corrwith(df['review/score'])\n",
    "correlacion_ord_df = pd.DataFrame(correlacion_score_ord, columns=['Correlation']).sort_values('Correlation').dropna()\n",
    "correlacion_ord_df"
   ],
   "metadata": {
    "collapsed": false
   }
  },
  {
   "cell_type": "code",
   "execution_count": null,
   "outputs": [],
   "source": [
    "plt.figure(figsize=(12, 9))\n",
    "sns.heatmap(correlacion_ord_df, annot=True, cmap='coolwarm', linewidths=0.5)\n",
    "plt.show()"
   ],
   "metadata": {
    "collapsed": false
   }
  },
  {
   "cell_type": "markdown",
   "source": [
    "#### A partir de codificación one-hot"
   ],
   "metadata": {
    "collapsed": false
   }
  },
  {
   "cell_type": "code",
   "execution_count": null,
   "outputs": [],
   "source": [
    "correlacion_score_one_hot =df_one_hot.corrwith(df['review/score'])\n",
    "correlacion_score_one_hot_df = pd.DataFrame(correlacion_score_one_hot, columns=['Correlation']).sort_values('Correlation').dropna()\n",
    "correlacion_score_one_hot_df_abs = correlacion_score_one_hot_df.copy()\n",
    "correlacion_score_one_hot_df_abs['Abs_Correlation'] =correlacion_score_one_hot_df['Correlation'].abs()\n",
    "correlacion_score_one_hot_df_abs = correlacion_score_one_hot_df_abs.sort_values(by='Abs_Correlation', ascending=False)\n",
    "correlacion_score_one_hot_df_abs"
   ],
   "metadata": {
    "collapsed": false
   }
  },
  {
   "cell_type": "code",
   "execution_count": null,
   "outputs": [],
   "source": [
    "lim_inf = lim_sup = 0\n",
    "incremento = 30\n",
    "correlation_df_size = correlacion_score_one_hot_df.size\n",
    "rangos = list()\n",
    "for i in range(0,int((correlation_df_size/incremento))+1):\n",
    "    lim_inf = i*incremento\n",
    "    lim_sup = ((i+1)*incremento)-1\n",
    "    if lim_sup >= correlation_df_size:\n",
    "        lim_sup = correlation_df_size-1\n",
    "    rangos.append((lim_inf, lim_sup))"
   ],
   "metadata": {
    "collapsed": false
   }
  },
  {
   "cell_type": "code",
   "execution_count": null,
   "outputs": [],
   "source": [
    "plt.figure(figsize=(12, 15))\n",
    "sns.heatmap(correlacion_score_one_hot_df.iloc[rangos[0][0]: rangos[0][1]+1], annot=True, cmap='coolwarm', linewidths=0.5)\n",
    "plt.show()\n",
    "if len(rangos) >= 2:\n",
    "    plt.figure(figsize=(12, 12))\n",
    "    sns.heatmap(correlacion_score_one_hot_df.iloc[rangos[len(rangos)-1][0]: rangos[len(rangos)-1][1]+1], annot=True, cmap='coolwarm', linewidths=0.5)\n",
    "    plt.show()\n",
    "\n",
    "'''for rango in rangos:\n",
    "    plt.figure(figsize=(12, 10))\n",
    "    sns.heatmap(correlacion_score_one_hot_df.iloc[rango[0]: rango[1]+1], annot=True, cmap='coolwarm', linewidths=0.5)\n",
    "    plt.show()'''"
   ],
   "metadata": {
    "collapsed": false
   }
  },
  {
   "cell_type": "markdown",
   "source": [
    "### Análisis de correlación respecto al precio del libro"
   ],
   "metadata": {
    "collapsed": false
   }
  },
  {
   "cell_type": "markdown",
   "source": [
    "#### A partir de codificación ordinal normalizada"
   ],
   "metadata": {
    "collapsed": false
   }
  },
  {
   "cell_type": "markdown",
   "source": [],
   "metadata": {
    "collapsed": false
   }
  },
  {
   "cell_type": "code",
   "execution_count": null,
   "outputs": [],
   "source": [
    "correlacion_price_ord =df_cod_num.corrwith(df['Price'])\n",
    "correlacion_price_ord_df = pd.DataFrame(correlacion_price_ord, columns=['Correlation']).sort_values('Correlation').dropna()\n",
    "correlacion_price_ord_df"
   ],
   "metadata": {
    "collapsed": false
   }
  },
  {
   "cell_type": "code",
   "execution_count": null,
   "outputs": [],
   "source": [
    "plt.figure(figsize=(12, 9))\n",
    "sns.heatmap(correlacion_price_ord_df, annot=True, cmap='coolwarm', linewidths=0.5)\n",
    "plt.show()"
   ],
   "metadata": {
    "collapsed": false
   }
  },
  {
   "cell_type": "markdown",
   "source": [
    "#### A partir de codificación one-hot"
   ],
   "metadata": {
    "collapsed": false
   }
  },
  {
   "cell_type": "code",
   "execution_count": null,
   "outputs": [],
   "source": [
    "correlacion_price_one_hot =df_one_hot.corrwith(df['Price'])\n",
    "correlacion_price_one_hot_df = pd.DataFrame(correlacion_price_one_hot, columns=['Correlation']).sort_values('Correlation').dropna()\n",
    "# Es necesario hacer la copia porque sino salta una excepción al momento de graficar\n",
    "correlacion_price_one_hot_df_abs = correlacion_price_one_hot_df.copy()\n",
    "correlacion_price_one_hot_df_abs['Abs_Correlation'] =correlacion_price_one_hot_df['Correlation'].abs()\n",
    "correlacion_price_one_hot_df_abs = correlacion_price_one_hot_df_abs.sort_values(by='Abs_Correlation', ascending=False)\n",
    "correlacion_price_one_hot_df_abs"
   ],
   "metadata": {
    "collapsed": false
   }
  },
  {
   "cell_type": "code",
   "execution_count": null,
   "outputs": [],
   "source": [
    "lim_inf = lim_sup = 0\n",
    "incremento = 40\n",
    "correlation_df_size = correlacion_price_one_hot_df.size\n",
    "rangos = list()\n",
    "for i in range(0,int((correlation_df_size/incremento))+1):\n",
    "    lim_inf = i*incremento\n",
    "    lim_sup = ((i+1)*incremento)-1\n",
    "    if lim_sup >= correlation_df_size:\n",
    "        lim_sup = correlation_df_size-1\n",
    "    rangos.append((lim_inf, lim_sup))"
   ],
   "metadata": {
    "collapsed": false
   }
  },
  {
   "cell_type": "code",
   "execution_count": null,
   "outputs": [],
   "source": [
    "plt.figure(figsize=(12, 15))\n",
    "sns.heatmap(correlacion_score_one_hot_df.iloc[rangos[0][0]: rangos[0][1]+1], annot=True, cmap='coolwarm', linewidths=0.5)\n",
    "plt.show()\n",
    "if len(rangos) >= 2:\n",
    "    plt.figure(figsize=(12, 12))\n",
    "    sns.heatmap(correlacion_score_one_hot_df.iloc[rangos[len(rangos)-1][0]: rangos[len(rangos)-1][1]+1], annot=True, cmap='coolwarm', linewidths=0.5)\n",
    "    plt.show()\n",
    "\n",
    "'''for rango in rangos:\n",
    "    if rango[1] - rango[0] <= 0:\n",
    "        break\n",
    "    plt.figure(figsize=(12, 10))\n",
    "    sns.heatmap(correlacion_price_one_hot_df.iloc[rango[0]: rango[1]+1], annot=True, cmap='coolwarm', linewidths=0.5)\n",
    "    plt.show()'''"
   ],
   "metadata": {
    "collapsed": false
   }
  },
  {
   "cell_type": "code",
   "execution_count": null,
   "outputs": [],
   "source": [],
   "metadata": {
    "collapsed": false
   }
  }
 ],
 "metadata": {
  "kernelspec": {
   "display_name": "Python 3",
   "language": "python",
   "name": "python3"
  },
  "language_info": {
   "codemirror_mode": {
    "name": "ipython",
    "version": 2
   },
   "file_extension": ".py",
   "mimetype": "text/x-python",
   "name": "python",
   "nbconvert_exporter": "python",
   "pygments_lexer": "ipython2",
   "version": "2.7.6"
  }
 },
 "nbformat": 4,
 "nbformat_minor": 0
}
