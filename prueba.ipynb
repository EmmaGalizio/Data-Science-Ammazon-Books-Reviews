{
 "cells": [
  {
   "cell_type": "code",
   "execution_count": null,
   "metadata": {},
   "outputs": [],
   "source": [
    "sns.histplot(rf_autores.feature_importances_, bins=50)\n",
    "plt.xlabel('Feature Importance')\n",
    "plt.ylabel('Cant. entradas')\n",
    "plt.title('FI Rating')\n",
    "plt.show()\n",
    "\n",
    "indices = np.where(rf_autores.feature_importances_> 0.04)[0]\n",
    "valores = rf_rating.feature_importances_[indices]\n",
    "columnas = X_rating_train.columns[indices]\n",
    "\n",
    "sns.barplot(x=valores, y=columnas, orient=\"h\")\n",
    "plt.xlabel('Feature Importance')\n",
    "plt.ylabel('Variable')\n",
    "plt.title('FI Rating')\n",
    "plt.show()"
   ]
  }
 ],
 "metadata": {
  "language_info": {
   "name": "python"
  }
 },
 "nbformat": 4,
 "nbformat_minor": 2
}
